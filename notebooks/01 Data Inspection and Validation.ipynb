{
 "cells": [
  {
   "cell_type": "markdown",
   "metadata": {},
   "source": [
    "# Data Inspection and Validation\n",
    "***Loading data, vetting its quality, and understanding its shape***"
   ]
  },
  {
   "cell_type": "markdown",
   "metadata": {},
   "source": [
    "## Overview\n",
    "This intro notebook will use cuDF and hvplot (with bokeh charts) to load a public bike share dataset and get a general sense of what it contains, then run some cursory visualization to validate that the data is free of issues.\n",
    "\n",
    "### cuDF and hvplot\n",
    "- [cuDF](https://docs.rapids.ai/api/cudf/stable/), the core of RAPIDS, is a Python GPU DataFrame library (built on the Apache Arrow columnar memory format) for loading, joining, aggregating, filtering, and otherwise manipulating data in a pandas-like API.\n",
    "- [hvplot](https://hvplot.holoviz.org/) is a high-level plotting API for the PyData ecosystem built on [HoloViews](http://holoviews.org/)."
   ]
  },
  {
   "cell_type": "markdown",
   "metadata": {},
   "source": [
    "## Imports\n",
    "Let's first make sure the necessary imports are present to load."
   ]
  },
  {
   "cell_type": "code",
   "execution_count": 28,
   "metadata": {},
   "outputs": [],
   "source": [
    "import cudf\n",
    "import hvplot.cudf\n",
    "import cupy\n",
    "import pandas as pd"
   ]
  },
  {
   "cell_type": "markdown",
   "metadata": {},
   "source": [
    "### Data Size and GPU Speedups\n",
    "This tutorial's dataset size is about `2.1GB` unzipped and contains about `9 million rows`. While this will do for a tutorial, its still too small to get a sense of the speed up possible with GPU acceleration. We've created a larger `300 million row` [2010 Census Visualization](https://github.com/rapidsai/plotly-dash-rapids-census-demo) application available through the RAPIDS [GitHub page](https://github.com/rapidsai) as another demo. "
   ]
  },
  {
   "cell_type": "markdown",
   "metadata": {},
   "source": [
    "## Loading Data into cuDF\n",
    "We need to download and extract the sample data we will use for this tutorial. This notebook uses the Kaggle [Chicago Divvy Bicycle Sharing Data](https://www.kaggle.com/yingwurenjian/chicago-divvy-bicycle-sharing-data) dataset. Once the `data.csv` file is downloaded and unzipped, point the paths below at the location:\n"
   ]
  },
  {
   "cell_type": "code",
   "execution_count": 4,
   "metadata": {},
   "outputs": [],
   "source": [
    "from pathlib import Path\n",
    "\n",
    "DATA_DIR = Path(\"../data\")\n",
    "FILENAME = Path(\"data.csv\")"
   ]
  },
  {
   "cell_type": "markdown",
   "metadata": {},
   "source": [
    "We now read the .csv file into the GPU cuDF Dataframe (which behaves similar to a Pandas dataframe). "
   ]
  },
  {
   "cell_type": "code",
   "execution_count": 5,
   "metadata": {},
   "outputs": [],
   "source": [
    "df = cudf.read_csv(DATA_DIR / FILENAME)"
   ]
  },
  {
   "cell_type": "markdown",
   "metadata": {},
   "source": [
    "## Mapping out the Data Shape\n",
    "CuDF supports all the standard Pandas operations for a quick look at the data e.g. to see the total number of rows..."
   ]
  },
  {
   "cell_type": "code",
   "execution_count": 4,
   "metadata": {},
   "outputs": [
    {
     "data": {
      "text/plain": [
       "9495235"
      ]
     },
     "execution_count": 4,
     "metadata": {},
     "output_type": "execute_result"
    }
   ],
   "source": [
    "len(df)"
   ]
  },
  {
   "cell_type": "markdown",
   "metadata": {},
   "source": [
    "Or to inspect the column headers and first few rows..."
   ]
  },
  {
   "cell_type": "code",
   "execution_count": 5,
   "metadata": {},
   "outputs": [
    {
     "data": {
      "text/html": [
       "<div>\n",
       "<style scoped>\n",
       "    .dataframe tbody tr th:only-of-type {\n",
       "        vertical-align: middle;\n",
       "    }\n",
       "\n",
       "    .dataframe tbody tr th {\n",
       "        vertical-align: top;\n",
       "    }\n",
       "\n",
       "    .dataframe thead th {\n",
       "        text-align: right;\n",
       "    }\n",
       "</style>\n",
       "<table border=\"1\" class=\"dataframe\">\n",
       "  <thead>\n",
       "    <tr style=\"text-align: right;\">\n",
       "      <th></th>\n",
       "      <th>trip_id</th>\n",
       "      <th>year</th>\n",
       "      <th>month</th>\n",
       "      <th>week</th>\n",
       "      <th>day</th>\n",
       "      <th>hour</th>\n",
       "      <th>usertype</th>\n",
       "      <th>gender</th>\n",
       "      <th>starttime</th>\n",
       "      <th>stoptime</th>\n",
       "      <th>...</th>\n",
       "      <th>from_station_id</th>\n",
       "      <th>from_station_name</th>\n",
       "      <th>latitude_start</th>\n",
       "      <th>longitude_start</th>\n",
       "      <th>dpcapacity_start</th>\n",
       "      <th>to_station_id</th>\n",
       "      <th>to_station_name</th>\n",
       "      <th>latitude_end</th>\n",
       "      <th>longitude_end</th>\n",
       "      <th>dpcapacity_end</th>\n",
       "    </tr>\n",
       "  </thead>\n",
       "  <tbody>\n",
       "    <tr>\n",
       "      <th>0</th>\n",
       "      <td>2355134</td>\n",
       "      <td>2014</td>\n",
       "      <td>6</td>\n",
       "      <td>27</td>\n",
       "      <td>0</td>\n",
       "      <td>23</td>\n",
       "      <td>Subscriber</td>\n",
       "      <td>Male</td>\n",
       "      <td>2014-06-30 23:57:00</td>\n",
       "      <td>2014-07-01 00:07:00</td>\n",
       "      <td>...</td>\n",
       "      <td>131</td>\n",
       "      <td>Lincoln Ave &amp; Belmont Ave</td>\n",
       "      <td>41.939365</td>\n",
       "      <td>-87.668385</td>\n",
       "      <td>15.0</td>\n",
       "      <td>303</td>\n",
       "      <td>Broadway &amp; Cornelia Ave</td>\n",
       "      <td>41.945512</td>\n",
       "      <td>-87.645980</td>\n",
       "      <td>15.0</td>\n",
       "    </tr>\n",
       "    <tr>\n",
       "      <th>1</th>\n",
       "      <td>2355133</td>\n",
       "      <td>2014</td>\n",
       "      <td>6</td>\n",
       "      <td>27</td>\n",
       "      <td>0</td>\n",
       "      <td>23</td>\n",
       "      <td>Subscriber</td>\n",
       "      <td>Male</td>\n",
       "      <td>2014-06-30 23:56:00</td>\n",
       "      <td>2014-07-01 00:00:00</td>\n",
       "      <td>...</td>\n",
       "      <td>282</td>\n",
       "      <td>Halsted St &amp; Maxwell St</td>\n",
       "      <td>41.864580</td>\n",
       "      <td>-87.646930</td>\n",
       "      <td>15.0</td>\n",
       "      <td>22</td>\n",
       "      <td>May St &amp; Taylor St</td>\n",
       "      <td>41.869482</td>\n",
       "      <td>-87.655486</td>\n",
       "      <td>15.0</td>\n",
       "    </tr>\n",
       "    <tr>\n",
       "      <th>2</th>\n",
       "      <td>2355130</td>\n",
       "      <td>2014</td>\n",
       "      <td>6</td>\n",
       "      <td>27</td>\n",
       "      <td>0</td>\n",
       "      <td>23</td>\n",
       "      <td>Subscriber</td>\n",
       "      <td>Male</td>\n",
       "      <td>2014-06-30 23:33:00</td>\n",
       "      <td>2014-06-30 23:35:00</td>\n",
       "      <td>...</td>\n",
       "      <td>327</td>\n",
       "      <td>Sheffield Ave &amp; Webster Ave</td>\n",
       "      <td>41.921687</td>\n",
       "      <td>-87.653714</td>\n",
       "      <td>19.0</td>\n",
       "      <td>225</td>\n",
       "      <td>Halsted St &amp; Dickens Ave</td>\n",
       "      <td>41.919936</td>\n",
       "      <td>-87.648830</td>\n",
       "      <td>15.0</td>\n",
       "    </tr>\n",
       "    <tr>\n",
       "      <th>3</th>\n",
       "      <td>2355129</td>\n",
       "      <td>2014</td>\n",
       "      <td>6</td>\n",
       "      <td>27</td>\n",
       "      <td>0</td>\n",
       "      <td>23</td>\n",
       "      <td>Subscriber</td>\n",
       "      <td>Female</td>\n",
       "      <td>2014-06-30 23:26:00</td>\n",
       "      <td>2014-07-01 00:24:00</td>\n",
       "      <td>...</td>\n",
       "      <td>134</td>\n",
       "      <td>Peoria St &amp; Jackson Blvd</td>\n",
       "      <td>41.877749</td>\n",
       "      <td>-87.649633</td>\n",
       "      <td>19.0</td>\n",
       "      <td>194</td>\n",
       "      <td>State St &amp; Wacker Dr</td>\n",
       "      <td>41.887155</td>\n",
       "      <td>-87.627750</td>\n",
       "      <td>11.0</td>\n",
       "    </tr>\n",
       "    <tr>\n",
       "      <th>4</th>\n",
       "      <td>2355128</td>\n",
       "      <td>2014</td>\n",
       "      <td>6</td>\n",
       "      <td>27</td>\n",
       "      <td>0</td>\n",
       "      <td>23</td>\n",
       "      <td>Subscriber</td>\n",
       "      <td>Female</td>\n",
       "      <td>2014-06-30 23:16:00</td>\n",
       "      <td>2014-06-30 23:26:00</td>\n",
       "      <td>...</td>\n",
       "      <td>320</td>\n",
       "      <td>Loomis St &amp; Lexington St</td>\n",
       "      <td>41.872187</td>\n",
       "      <td>-87.661501</td>\n",
       "      <td>15.0</td>\n",
       "      <td>134</td>\n",
       "      <td>Peoria St &amp; Jackson Blvd</td>\n",
       "      <td>41.877749</td>\n",
       "      <td>-87.649633</td>\n",
       "      <td>19.0</td>\n",
       "    </tr>\n",
       "  </tbody>\n",
       "</table>\n",
       "<p>5 rows × 23 columns</p>\n",
       "</div>"
      ],
      "text/plain": [
       "   trip_id  year  month  week  day  hour    usertype  gender  \\\n",
       "0  2355134  2014      6    27    0    23  Subscriber    Male   \n",
       "1  2355133  2014      6    27    0    23  Subscriber    Male   \n",
       "2  2355130  2014      6    27    0    23  Subscriber    Male   \n",
       "3  2355129  2014      6    27    0    23  Subscriber  Female   \n",
       "4  2355128  2014      6    27    0    23  Subscriber  Female   \n",
       "\n",
       "             starttime             stoptime  ...  from_station_id  \\\n",
       "0  2014-06-30 23:57:00  2014-07-01 00:07:00  ...              131   \n",
       "1  2014-06-30 23:56:00  2014-07-01 00:00:00  ...              282   \n",
       "2  2014-06-30 23:33:00  2014-06-30 23:35:00  ...              327   \n",
       "3  2014-06-30 23:26:00  2014-07-01 00:24:00  ...              134   \n",
       "4  2014-06-30 23:16:00  2014-06-30 23:26:00  ...              320   \n",
       "\n",
       "             from_station_name latitude_start  longitude_start  \\\n",
       "0    Lincoln Ave & Belmont Ave      41.939365       -87.668385   \n",
       "1      Halsted St & Maxwell St      41.864580       -87.646930   \n",
       "2  Sheffield Ave & Webster Ave      41.921687       -87.653714   \n",
       "3     Peoria St & Jackson Blvd      41.877749       -87.649633   \n",
       "4     Loomis St & Lexington St      41.872187       -87.661501   \n",
       "\n",
       "   dpcapacity_start  to_station_id           to_station_name latitude_end  \\\n",
       "0              15.0            303   Broadway & Cornelia Ave    41.945512   \n",
       "1              15.0             22        May St & Taylor St    41.869482   \n",
       "2              19.0            225  Halsted St & Dickens Ave    41.919936   \n",
       "3              19.0            194      State St & Wacker Dr    41.887155   \n",
       "4              15.0            134  Peoria St & Jackson Blvd    41.877749   \n",
       "\n",
       "   longitude_end  dpcapacity_end  \n",
       "0     -87.645980            15.0  \n",
       "1     -87.655486            15.0  \n",
       "2     -87.648830            15.0  \n",
       "3     -87.627750            11.0  \n",
       "4     -87.649633            19.0  \n",
       "\n",
       "[5 rows x 23 columns]"
      ]
     },
     "execution_count": 5,
     "metadata": {},
     "output_type": "execute_result"
    }
   ],
   "source": [
    "df.head()"
   ]
  },
  {
   "cell_type": "markdown",
   "metadata": {},
   "source": [
    "Or to see the full list of columns..."
   ]
  },
  {
   "cell_type": "code",
   "execution_count": 6,
   "metadata": {},
   "outputs": [
    {
     "data": {
      "text/plain": [
       "Index(['trip_id', 'year', 'month', 'week', 'day', 'hour', 'usertype', 'gender',\n",
       "       'starttime', 'stoptime', 'tripduration', 'temperature', 'events',\n",
       "       'from_station_id', 'from_station_name', 'latitude_start',\n",
       "       'longitude_start', 'dpcapacity_start', 'to_station_id',\n",
       "       'to_station_name', 'latitude_end', 'longitude_end', 'dpcapacity_end'],\n",
       "      dtype='object')"
      ]
     },
     "execution_count": 6,
     "metadata": {},
     "output_type": "execute_result"
    }
   ],
   "source": [
    "df.columns"
   ]
  },
  {
   "cell_type": "markdown",
   "metadata": {},
   "source": [
    "Or see how many trips were made by subscribers."
   ]
  },
  {
   "cell_type": "code",
   "execution_count": 7,
   "metadata": {},
   "outputs": [
    {
     "data": {
      "text/plain": [
       "usertype\n",
       "Customer         1277\n",
       "Dependent         178\n",
       "Subscriber    9493780\n",
       "dtype: int32"
      ]
     },
     "execution_count": 7,
     "metadata": {},
     "output_type": "execute_result"
    }
   ],
   "source": [
    "df.groupby(\"usertype\").size()"
   ]
  },
  {
   "cell_type": "markdown",
   "metadata": {},
   "source": [
    "## Improving Data Utility\n",
    "Now that we have a basic idea of how big our dataset is and what it contains, we want to start making the data more meaningful. This task can vary from removing unnecessary columns, mapping values to be more human readable, or formatting them to be understood by our tools.  \n",
    "\n",
    "Having looked at the `df.head()` above, the first thing we might want is to re-load the data, parsing the start-stop time columns as more usable datetimes types: "
   ]
  },
  {
   "cell_type": "code",
   "execution_count": 6,
   "metadata": {},
   "outputs": [],
   "source": [
    "df = cudf.read_csv(DATA_DIR / FILENAME, parse_dates=('starttime', 'stoptime'))"
   ]
  },
  {
   "cell_type": "markdown",
   "metadata": {},
   "source": [
    "One thing we will want to do is to look at trips by day of week. Now that we have real datetime columns, we can use `dt.weekday` to add a `weekday` column to our `cudf` Dataframe:"
   ]
  },
  {
   "cell_type": "code",
   "execution_count": 7,
   "metadata": {},
   "outputs": [],
   "source": [
    "df[\"weekday\"] = df['starttime'].dt.weekday"
   ]
  },
  {
   "cell_type": "markdown",
   "metadata": {},
   "source": [
    "## Inspecting Data Quality and Distribution\n",
    "Another important step is getting a sense of the quality of the dataset. As these datasets are often larger than is feasible to look through row by row, mapping out the distribution of values early on helps find issuse that can derail an analysis later.\n",
    "\n",
    "Some examples are gaps in data, unexpected or empty value types, infeasible values, or incorrect projections. "
   ]
  },
  {
   "cell_type": "markdown",
   "metadata": {},
   "source": [
    "## Gender and Subsriber Columns\n",
    "We could do this in a numerical way, such as getting the totals from the 'gender' data column as a table:"
   ]
  },
  {
   "cell_type": "code",
   "execution_count": 8,
   "metadata": {},
   "outputs": [
    {
     "data": {
      "text/html": [
       "<div>\n",
       "<style scoped>\n",
       "    .dataframe tbody tr th:only-of-type {\n",
       "        vertical-align: middle;\n",
       "    }\n",
       "\n",
       "    .dataframe tbody tr th {\n",
       "        vertical-align: top;\n",
       "    }\n",
       "\n",
       "    .dataframe thead th {\n",
       "        text-align: right;\n",
       "    }\n",
       "</style>\n",
       "<table border=\"1\" class=\"dataframe\">\n",
       "  <thead>\n",
       "    <tr style=\"text-align: right;\">\n",
       "      <th></th>\n",
       "      <th>gender</th>\n",
       "      <th>count</th>\n",
       "    </tr>\n",
       "  </thead>\n",
       "  <tbody>\n",
       "    <tr>\n",
       "      <th>0</th>\n",
       "      <td>Female</td>\n",
       "      <td>2378675</td>\n",
       "    </tr>\n",
       "    <tr>\n",
       "      <th>1</th>\n",
       "      <td>Male</td>\n",
       "      <td>7116560</td>\n",
       "    </tr>\n",
       "  </tbody>\n",
       "</table>\n",
       "</div>"
      ],
      "text/plain": [
       "   gender    count\n",
       "0  Female  2378675\n",
       "1    Male  7116560"
      ]
     },
     "execution_count": 8,
     "metadata": {},
     "output_type": "execute_result"
    }
   ],
   "source": [
    "mf_counts = df.groupby(\"gender\").size().rename(\"count\").reset_index()\n",
    "mf_counts"
   ]
  },
  {
   "cell_type": "markdown",
   "metadata": {},
   "source": [
    "While technically functional as a table, taking values and visualizating them as bars help to intuitively show the scale of the difference faster:"
   ]
  },
  {
   "cell_type": "code",
   "execution_count": 9,
   "metadata": {},
   "outputs": [
    {
     "data": {},
     "metadata": {},
     "output_type": "display_data"
    },
    {
     "data": {
      "application/vnd.holoviews_exec.v0+json": "",
      "text/html": [
       "<div id='1001'>\n",
       "\n",
       "\n",
       "\n",
       "\n",
       "\n",
       "  <div class=\"bk-root\" id=\"813d2787-3bd1-4f9e-a70d-1e9de8e721ca\" data-root-id=\"1001\"></div>\n",
       "</div>\n",
       "<script type=\"application/javascript\">(function(root) {\n",
       "  function embed_document(root) {\n",
       "  var docs_json = {\"faa8037c-7142-4f85-af4c-700edb194880\":{\"roots\":{\"references\":[{\"attributes\":{\"bottom_units\":\"screen\",\"fill_alpha\":0.5,\"fill_color\":\"lightgrey\",\"left_units\":\"screen\",\"level\":\"overlay\",\"line_alpha\":1.0,\"line_color\":\"black\",\"line_dash\":[4,4],\"line_width\":2,\"right_units\":\"screen\",\"top_units\":\"screen\"},\"id\":\"1027\",\"type\":\"BoxAnnotation\"},{\"attributes\":{},\"id\":\"1036\",\"type\":\"Selection\"},{\"attributes\":{},\"id\":\"1023\",\"type\":\"PanTool\"},{\"attributes\":{\"fill_alpha\":{\"value\":0.1},\"fill_color\":{\"value\":\"#1f77b3\"},\"line_alpha\":{\"value\":0.1},\"top\":{\"field\":\"count\"},\"width\":{\"value\":0.8},\"x\":{\"field\":\"gender\"}},\"id\":\"1039\",\"type\":\"VBar\"},{\"attributes\":{\"axis_label\":\"count\",\"bounds\":\"auto\",\"formatter\":{\"id\":\"1046\"},\"major_label_orientation\":\"horizontal\",\"ticker\":{\"id\":\"1019\"}},\"id\":\"1018\",\"type\":\"LinearAxis\"},{\"attributes\":{\"axis\":{\"id\":\"1018\"},\"dimension\":1,\"grid_line_color\":null,\"ticker\":null},\"id\":\"1021\",\"type\":\"Grid\"},{\"attributes\":{\"factors\":[\"Female\",\"Male\"],\"tags\":[[[\"gender\",\"gender\",null]]]},\"id\":\"1003\",\"type\":\"FactorRange\"},{\"attributes\":{},\"id\":\"1019\",\"type\":\"BasicTicker\"},{\"attributes\":{},\"id\":\"1024\",\"type\":\"WheelZoomTool\"},{\"attributes\":{},\"id\":\"1022\",\"type\":\"SaveTool\"},{\"attributes\":{\"end\":7590348.5,\"reset_end\":7590348.5,\"reset_start\":0.0,\"tags\":[[[\"count\",\"count\",null]]]},\"id\":\"1004\",\"type\":\"Range1d\"},{\"attributes\":{\"overlay\":{\"id\":\"1027\"}},\"id\":\"1025\",\"type\":\"BoxZoomTool\"},{\"attributes\":{},\"id\":\"1026\",\"type\":\"ResetTool\"},{\"attributes\":{\"data_source\":{\"id\":\"1035\"},\"glyph\":{\"id\":\"1038\"},\"hover_glyph\":null,\"muted_glyph\":{\"id\":\"1040\"},\"nonselection_glyph\":{\"id\":\"1039\"},\"selection_glyph\":null,\"view\":{\"id\":\"1042\"}},\"id\":\"1041\",\"type\":\"GlyphRenderer\"},{\"attributes\":{\"margin\":[5,5,5,5],\"name\":\"HSpacer01569\",\"sizing_mode\":\"stretch_width\"},\"id\":\"1002\",\"type\":\"Spacer\"},{\"attributes\":{\"active_drag\":\"auto\",\"active_inspect\":\"auto\",\"active_multi\":null,\"active_scroll\":\"auto\",\"active_tap\":\"auto\",\"tools\":[{\"id\":\"1005\"},{\"id\":\"1022\"},{\"id\":\"1023\"},{\"id\":\"1024\"},{\"id\":\"1025\"},{\"id\":\"1026\"}]},\"id\":\"1028\",\"type\":\"Toolbar\"},{\"attributes\":{},\"id\":\"1054\",\"type\":\"UnionRenderers\"},{\"attributes\":{\"children\":[{\"id\":\"1002\"},{\"id\":\"1006\"},{\"id\":\"1063\"}],\"margin\":[0,0,0,0],\"name\":\"Row01565\",\"tags\":[\"embedded\"]},\"id\":\"1001\",\"type\":\"Row\"},{\"attributes\":{\"callback\":null,\"renderers\":[{\"id\":\"1041\"}],\"tags\":[\"hv_created\"],\"tooltips\":[[\"gender\",\"@{gender}\"],[\"count\",\"@{count}\"]]},\"id\":\"1005\",\"type\":\"HoverTool\"},{\"attributes\":{\"text\":\"Total trips by gender\",\"text_color\":{\"value\":\"black\"},\"text_font_size\":{\"value\":\"12pt\"}},\"id\":\"1007\",\"type\":\"Title\"},{\"attributes\":{\"axis\":{\"id\":\"1015\"},\"grid_line_color\":null,\"ticker\":null},\"id\":\"1017\",\"type\":\"Grid\"},{\"attributes\":{\"fill_alpha\":{\"value\":0.2},\"fill_color\":{\"value\":\"#1f77b3\"},\"line_alpha\":{\"value\":0.2},\"top\":{\"field\":\"count\"},\"width\":{\"value\":0.8},\"x\":{\"field\":\"gender\"}},\"id\":\"1040\",\"type\":\"VBar\"},{\"attributes\":{\"source\":{\"id\":\"1035\"}},\"id\":\"1042\",\"type\":\"CDSView\"},{\"attributes\":{\"align\":null,\"below\":[{\"id\":\"1015\"}],\"center\":[{\"id\":\"1017\"},{\"id\":\"1021\"}],\"left\":[{\"id\":\"1018\"}],\"margin\":null,\"min_border_bottom\":10,\"min_border_left\":10,\"min_border_right\":10,\"min_border_top\":10,\"plot_height\":300,\"plot_width\":700,\"renderers\":[{\"id\":\"1041\"}],\"sizing_mode\":\"fixed\",\"title\":{\"id\":\"1007\"},\"toolbar\":{\"id\":\"1028\"},\"x_range\":{\"id\":\"1003\"},\"x_scale\":{\"id\":\"1011\"},\"y_range\":{\"id\":\"1004\"},\"y_scale\":{\"id\":\"1013\"}},\"id\":\"1006\",\"subtype\":\"Figure\",\"type\":\"Plot\"},{\"attributes\":{\"margin\":[5,5,5,5],\"name\":\"HSpacer01570\",\"sizing_mode\":\"stretch_width\"},\"id\":\"1063\",\"type\":\"Spacer\"},{\"attributes\":{\"fill_color\":{\"value\":\"#1f77b3\"},\"top\":{\"field\":\"count\"},\"width\":{\"value\":0.8},\"x\":{\"field\":\"gender\"}},\"id\":\"1038\",\"type\":\"VBar\"},{\"attributes\":{\"axis_label\":\"gender\",\"bounds\":\"auto\",\"formatter\":{\"id\":\"1044\"},\"major_label_orientation\":\"horizontal\",\"ticker\":{\"id\":\"1016\"}},\"id\":\"1015\",\"type\":\"CategoricalAxis\"},{\"attributes\":{\"data\":{\"count\":{\"__ndarray__\":\"s0skABCXbAA=\",\"dtype\":\"int32\",\"order\":\"little\",\"shape\":[2]},\"gender\":[\"Female\",\"Male\"]},\"selected\":{\"id\":\"1036\"},\"selection_policy\":{\"id\":\"1054\"}},\"id\":\"1035\",\"type\":\"ColumnDataSource\"},{\"attributes\":{},\"id\":\"1044\",\"type\":\"CategoricalTickFormatter\"},{\"attributes\":{},\"id\":\"1011\",\"type\":\"CategoricalScale\"},{\"attributes\":{},\"id\":\"1046\",\"type\":\"BasicTickFormatter\"},{\"attributes\":{},\"id\":\"1013\",\"type\":\"LinearScale\"},{\"attributes\":{},\"id\":\"1016\",\"type\":\"CategoricalTicker\"}],\"root_ids\":[\"1001\"]},\"title\":\"Bokeh Application\",\"version\":\"2.2.1\"}};\n",
       "  var render_items = [{\"docid\":\"faa8037c-7142-4f85-af4c-700edb194880\",\"root_ids\":[\"1001\"],\"roots\":{\"1001\":\"813d2787-3bd1-4f9e-a70d-1e9de8e721ca\"}}];\n",
       "  root.Bokeh.embed.embed_items_notebook(docs_json, render_items);\n",
       "  }\n",
       "if (root.Bokeh !== undefined) {\n",
       "    embed_document(root);\n",
       "  } else {\n",
       "    var attempts = 0;\n",
       "    var timer = setInterval(function(root) {\n",
       "      if (root.Bokeh !== undefined) {\n",
       "        clearInterval(timer);\n",
       "        embed_document(root);\n",
       "      } else if (document.readyState == \"complete\") {\n",
       "        attempts++;\n",
       "        if (attempts > 100) {\n",
       "          clearInterval(timer);\n",
       "          console.log(\"Bokeh: ERROR: Unable to run BokehJS code because BokehJS library is missing\");\n",
       "        }\n",
       "      }\n",
       "    }, 10, root)\n",
       "  }\n",
       "})(window);</script>"
      ],
      "text/plain": [
       ":Bars   [gender]   (count)"
      ]
     },
     "execution_count": 9,
     "metadata": {
      "application/vnd.holoviews_exec.v0+json": {
       "id": "1001"
      }
     },
     "output_type": "execute_result"
    }
   ],
   "source": [
    "mf_counts.hvplot.bar(\"gender\",\"count\").opts(title=\"Total trips by gender\")"
   ]
  },
  {
   "cell_type": "markdown",
   "metadata": {},
   "source": [
    "### A Note on Preattentive Attributes\n",
    "This subconcious ability to quickly recognize patterns is due to our brain's natural ability to find [preattentive attributes](http://daydreamingnumbers.com/blog/preattentive-attributes-example/), such as height, orientation, or color. Imagine 100 values in a table and 100 in a bar chart and how quickly you would be albe to find the smallest and largest values in either."
   ]
  },
  {
   "cell_type": "markdown",
   "metadata": {},
   "source": [
    "### Try It out\n",
    "Now try using [hvplot's user guide](https://hvplot.holoviz.org/user_guide/Plotting.html) and our examples to create a hvplot that shows the distribution of `Subscriber` types:"
   ]
  },
  {
   "cell_type": "code",
   "execution_count": 12,
   "metadata": {},
   "outputs": [],
   "source": [
    "# code here"
   ]
  },
  {
   "cell_type": "markdown",
   "metadata": {},
   "source": [
    "The above data columns maybe show some potentially useful disparities, but without supplimental data, it would be hard to have a follow up questions.\n"
   ]
  },
  {
   "cell_type": "markdown",
   "metadata": {},
   "source": [
    "## Trip Starts\n",
    "Instead, another question we might want to ask is how many trip starts are there per day of the week? We can group the `cudf` Dataframe and call `hvplot.bar` directly the result:"
   ]
  },
  {
   "cell_type": "code",
   "execution_count": 13,
   "metadata": {},
   "outputs": [
    {
     "data": {},
     "metadata": {},
     "output_type": "display_data"
    },
    {
     "data": {
      "application/vnd.holoviews_exec.v0+json": "",
      "text/html": [
       "<div id='1105'>\n",
       "\n",
       "\n",
       "\n",
       "\n",
       "\n",
       "  <div class=\"bk-root\" id=\"c5b2a1ec-aef1-44c9-a427-78f1fdd2e11c\" data-root-id=\"1105\"></div>\n",
       "</div>\n",
       "<script type=\"application/javascript\">(function(root) {\n",
       "  function embed_document(root) {\n",
       "  var docs_json = {\"017899c9-b5b2-4bdd-a772-b934188cb0ff\":{\"roots\":{\"references\":[{\"attributes\":{\"fill_alpha\":{\"value\":0.2},\"fill_color\":{\"value\":\"#1f77b3\"},\"line_alpha\":{\"value\":0.2},\"top\":{\"field\":\"count\"},\"width\":{\"value\":0.8},\"x\":{\"field\":\"weekday\"}},\"id\":\"1144\",\"type\":\"VBar\"},{\"attributes\":{},\"id\":\"1127\",\"type\":\"PanTool\"},{\"attributes\":{\"axis_label\":\"count\",\"bounds\":\"auto\",\"formatter\":{\"id\":\"1147\"},\"major_label_orientation\":\"horizontal\",\"ticker\":{\"id\":\"1123\"}},\"id\":\"1122\",\"type\":\"LinearAxis\"},{\"attributes\":{},\"id\":\"1159\",\"type\":\"UnionRenderers\"},{\"attributes\":{\"factors\":[\"0\",\"1\",\"2\",\"3\",\"4\",\"5\",\"6\"],\"tags\":[[[\"weekday\",\"weekday\",null]]]},\"id\":\"1107\",\"type\":\"FactorRange\"},{\"attributes\":{\"axis\":{\"id\":\"1119\"},\"grid_line_color\":null,\"ticker\":null},\"id\":\"1121\",\"type\":\"Grid\"},{\"attributes\":{},\"id\":\"1128\",\"type\":\"WheelZoomTool\"},{\"attributes\":{\"fill_alpha\":{\"value\":0.1},\"fill_color\":{\"value\":\"#1f77b3\"},\"line_alpha\":{\"value\":0.1},\"top\":{\"field\":\"count\"},\"width\":{\"value\":0.8},\"x\":{\"field\":\"weekday\"}},\"id\":\"1143\",\"type\":\"VBar\"},{\"attributes\":{\"callback\":null,\"renderers\":[{\"id\":\"1145\"}],\"tags\":[\"hv_created\"],\"tooltips\":[[\"weekday\",\"@{weekday}\"],[\"count\",\"@{count}\"]]},\"id\":\"1109\",\"type\":\"HoverTool\"},{\"attributes\":{},\"id\":\"1140\",\"type\":\"Selection\"},{\"attributes\":{},\"id\":\"1149\",\"type\":\"CategoricalTickFormatter\"},{\"attributes\":{\"fill_color\":{\"value\":\"#1f77b3\"},\"top\":{\"field\":\"count\"},\"width\":{\"value\":0.8},\"x\":{\"field\":\"weekday\"}},\"id\":\"1142\",\"type\":\"VBar\"},{\"attributes\":{},\"id\":\"1130\",\"type\":\"ResetTool\"},{\"attributes\":{},\"id\":\"1115\",\"type\":\"CategoricalScale\"},{\"attributes\":{},\"id\":\"1123\",\"type\":\"BasicTicker\"},{\"attributes\":{\"active_drag\":\"auto\",\"active_inspect\":\"auto\",\"active_multi\":null,\"active_scroll\":\"auto\",\"active_tap\":\"auto\",\"tools\":[{\"id\":\"1109\"},{\"id\":\"1126\"},{\"id\":\"1127\"},{\"id\":\"1128\"},{\"id\":\"1129\"},{\"id\":\"1130\"}]},\"id\":\"1132\",\"type\":\"Toolbar\"},{\"attributes\":{\"margin\":[5,5,5,5],\"name\":\"HSpacer01764\",\"sizing_mode\":\"stretch_width\"},\"id\":\"1168\",\"type\":\"Spacer\"},{\"attributes\":{\"source\":{\"id\":\"1139\"}},\"id\":\"1146\",\"type\":\"CDSView\"},{\"attributes\":{\"overlay\":{\"id\":\"1131\"}},\"id\":\"1129\",\"type\":\"BoxZoomTool\"},{\"attributes\":{\"axis\":{\"id\":\"1122\"},\"dimension\":1,\"grid_line_color\":null,\"ticker\":null},\"id\":\"1125\",\"type\":\"Grid\"},{\"attributes\":{\"children\":[{\"id\":\"1106\"},{\"id\":\"1110\"},{\"id\":\"1168\"}],\"margin\":[0,0,0,0],\"name\":\"Row01759\",\"tags\":[\"embedded\"]},\"id\":\"1105\",\"type\":\"Row\"},{\"attributes\":{\"format\":\"%0.0f\"},\"id\":\"1147\",\"type\":\"PrintfTickFormatter\"},{\"attributes\":{\"end\":1657673.3,\"reset_end\":1657673.3,\"reset_start\":0.0,\"tags\":[[[\"count\",\"count\",null]]]},\"id\":\"1108\",\"type\":\"Range1d\"},{\"attributes\":{\"align\":null,\"below\":[{\"id\":\"1119\"}],\"center\":[{\"id\":\"1121\"},{\"id\":\"1125\"}],\"left\":[{\"id\":\"1122\"}],\"margin\":null,\"min_border_bottom\":10,\"min_border_left\":10,\"min_border_right\":10,\"min_border_top\":10,\"plot_height\":300,\"plot_width\":700,\"renderers\":[{\"id\":\"1145\"}],\"sizing_mode\":\"fixed\",\"title\":{\"id\":\"1111\"},\"toolbar\":{\"id\":\"1132\"},\"x_range\":{\"id\":\"1107\"},\"x_scale\":{\"id\":\"1115\"},\"y_range\":{\"id\":\"1108\"},\"y_scale\":{\"id\":\"1117\"}},\"id\":\"1110\",\"subtype\":\"Figure\",\"type\":\"Plot\"},{\"attributes\":{\"data_source\":{\"id\":\"1139\"},\"glyph\":{\"id\":\"1142\"},\"hover_glyph\":null,\"muted_glyph\":{\"id\":\"1144\"},\"nonselection_glyph\":{\"id\":\"1143\"},\"selection_glyph\":null,\"view\":{\"id\":\"1146\"}},\"id\":\"1145\",\"type\":\"GlyphRenderer\"},{\"attributes\":{},\"id\":\"1126\",\"type\":\"SaveTool\"},{\"attributes\":{\"text\":\"Trip starts, per Week Day\",\"text_color\":{\"value\":\"black\"},\"text_font_size\":{\"value\":\"12pt\"}},\"id\":\"1111\",\"type\":\"Title\"},{\"attributes\":{\"bottom_units\":\"screen\",\"fill_alpha\":0.5,\"fill_color\":\"lightgrey\",\"left_units\":\"screen\",\"level\":\"overlay\",\"line_alpha\":1.0,\"line_color\":\"black\",\"line_dash\":[4,4],\"line_width\":2,\"right_units\":\"screen\",\"top_units\":\"screen\"},\"id\":\"1131\",\"type\":\"BoxAnnotation\"},{\"attributes\":{},\"id\":\"1120\",\"type\":\"CategoricalTicker\"},{\"attributes\":{\"margin\":[5,5,5,5],\"name\":\"HSpacer01763\",\"sizing_mode\":\"stretch_width\"},\"id\":\"1106\",\"type\":\"Spacer\"},{\"attributes\":{\"data\":{\"count\":{\"__ndarray__\":\"J4gWAMZFGAD2dxcAMlsXABlBFgDw8Q4ApQ4OAA==\",\"dtype\":\"int32\",\"order\":\"little\",\"shape\":[7]},\"weekday\":[\"0\",\"1\",\"2\",\"3\",\"4\",\"5\",\"6\"]},\"selected\":{\"id\":\"1140\"},\"selection_policy\":{\"id\":\"1159\"}},\"id\":\"1139\",\"type\":\"ColumnDataSource\"},{\"attributes\":{\"axis_label\":\"weekday\",\"bounds\":\"auto\",\"formatter\":{\"id\":\"1149\"},\"major_label_orientation\":\"horizontal\",\"ticker\":{\"id\":\"1120\"}},\"id\":\"1119\",\"type\":\"CategoricalAxis\"},{\"attributes\":{},\"id\":\"1117\",\"type\":\"LinearScale\"}],\"root_ids\":[\"1105\"]},\"title\":\"Bokeh Application\",\"version\":\"2.2.1\"}};\n",
       "  var render_items = [{\"docid\":\"017899c9-b5b2-4bdd-a772-b934188cb0ff\",\"root_ids\":[\"1105\"],\"roots\":{\"1105\":\"c5b2a1ec-aef1-44c9-a427-78f1fdd2e11c\"}}];\n",
       "  root.Bokeh.embed.embed_items_notebook(docs_json, render_items);\n",
       "  }\n",
       "if (root.Bokeh !== undefined) {\n",
       "    embed_document(root);\n",
       "  } else {\n",
       "    var attempts = 0;\n",
       "    var timer = setInterval(function(root) {\n",
       "      if (root.Bokeh !== undefined) {\n",
       "        clearInterval(timer);\n",
       "        embed_document(root);\n",
       "      } else if (document.readyState == \"complete\") {\n",
       "        attempts++;\n",
       "        if (attempts > 100) {\n",
       "          clearInterval(timer);\n",
       "          console.log(\"Bokeh: ERROR: Unable to run BokehJS code because BokehJS library is missing\");\n",
       "        }\n",
       "      }\n",
       "    }, 10, root)\n",
       "  }\n",
       "})(window);</script>"
      ],
      "text/plain": [
       ":Bars   [weekday]   (count)"
      ]
     },
     "execution_count": 13,
     "metadata": {
      "application/vnd.holoviews_exec.v0+json": {
       "id": "1105"
      }
     },
     "output_type": "execute_result"
    }
   ],
   "source": [
    "day_counts = df.groupby(\"weekday\").size().rename(\"count\").reset_index()\n",
    "day_counts.hvplot.bar(\"weekday\", \"count\").opts(title=\"Trip starts, per Week Day\", yformatter=\"%0.0f\")"
   ]
  },
  {
   "cell_type": "markdown",
   "metadata": {},
   "source": [
    "With 0-4 being a weekday, and 5-6 being a weekend, there is a clear drop off of ridership on the weekends. Lets note that!\n"
   ]
  },
  {
   "cell_type": "markdown",
   "metadata": {},
   "source": [
    "## Trips by Duration\n",
    "Another quick look we can generate is to see the overall distribution of trip durations, this time using `hvplot.hist`:"
   ]
  },
  {
   "cell_type": "code",
   "execution_count": 10,
   "metadata": {
    "scrolled": true
   },
   "outputs": [
    {
     "data": {},
     "metadata": {},
     "output_type": "display_data"
    },
    {
     "data": {
      "application/vnd.holoviews_exec.v0+json": "",
      "text/html": [
       "<div id='1105'>\n",
       "\n",
       "\n",
       "\n",
       "\n",
       "\n",
       "  <div class=\"bk-root\" id=\"85b41efa-3753-4602-a1ff-38a2e76dafdb\" data-root-id=\"1105\"></div>\n",
       "</div>\n",
       "<script type=\"application/javascript\">(function(root) {\n",
       "  function embed_document(root) {\n",
       "  var docs_json = {\"397bd941-4ec9-48fb-b45e-79006ad01611\":{\"roots\":{\"references\":[{\"attributes\":{\"margin\":[5,5,5,5],\"name\":\"HSpacer01807\",\"sizing_mode\":\"stretch_width\"},\"id\":\"1106\",\"type\":\"Spacer\"},{\"attributes\":{},\"id\":\"1117\",\"type\":\"LinearScale\"},{\"attributes\":{\"align\":null,\"below\":[{\"id\":\"1119\"}],\"center\":[{\"id\":\"1122\"},{\"id\":\"1126\"}],\"left\":[{\"id\":\"1123\"}],\"margin\":null,\"min_border_bottom\":10,\"min_border_left\":10,\"min_border_right\":10,\"min_border_top\":10,\"plot_height\":300,\"plot_width\":700,\"renderers\":[{\"id\":\"1146\"}],\"sizing_mode\":\"fixed\",\"title\":{\"id\":\"1111\"},\"toolbar\":{\"id\":\"1133\"},\"x_range\":{\"id\":\"1107\"},\"x_scale\":{\"id\":\"1115\"},\"y_range\":{\"id\":\"1108\"},\"y_scale\":{\"id\":\"1117\"}},\"id\":\"1110\",\"subtype\":\"Figure\",\"type\":\"Plot\"},{\"attributes\":{\"format\":\"%0.0f\"},\"id\":\"1148\",\"type\":\"PrintfTickFormatter\"},{\"attributes\":{\"margin\":[5,5,5,5],\"name\":\"HSpacer01808\",\"sizing_mode\":\"stretch_width\"},\"id\":\"1169\",\"type\":\"Spacer\"},{\"attributes\":{\"end\":932906.9,\"reset_end\":932906.9,\"reset_start\":0.0,\"tags\":[[[\"tripduration_count\",\"Count\",null]]]},\"id\":\"1108\",\"type\":\"Range1d\"},{\"attributes\":{\"children\":[{\"id\":\"1106\"},{\"id\":\"1110\"},{\"id\":\"1169\"}],\"margin\":[0,0,0,0],\"name\":\"Row01803\",\"tags\":[\"embedded\"]},\"id\":\"1105\",\"type\":\"Row\"},{\"attributes\":{\"data\":{\"left\":{\"__ndarray__\":\"AAAAAAAAAEBI4XoUrkcJQEjhehSuRxFA61G4HoXrFUCPwvUoXI8aQDMzMzMzMx9A61G4HoXrIUA9CtejcD0kQI/C9ShcjyZA4XoUrkfhKEAzMzMzMzMrQIXrUbgehS1A1qNwPQrXL0AUrkfhehQxQD0K16NwPTJAZmZmZmZmM0CPwvUoXI80QLgehetRuDVA4XoUrkfhNkAK16NwPQo4QDMzMzMzMzlAXI/C9ShcOkCF61G4HoU7QK5H4XoUrjxA1qNwPQrXPUD///////8+QBSuR+F6FEBAKFyPwvWoQEA9CtejcD1BQFK4HoXr0UFAZmZmZmZmQkB7FK5H4fpCQI/C9Shcj0NAo3A9CtcjREC4HoXrUbhEQMzMzMzMTEVA4XoUrkfhRUD1KFyPwnVGQArXo3A9CkdAHoXrUbieR0AzMzMzMzNIQEfhehSux0hAXI/C9ShcSUBwPQrXo/BJQIXrUbgehUpAmZmZmZkZS0CuR+F6FK5LQML1KFyPQkxA1qNwPQrXTEDrUbgehWtNQA==\",\"dtype\":\"float64\",\"order\":\"little\",\"shape\":[50]},\"right\":{\"__ndarray__\":\"SOF6FK5HCUBI4XoUrkcRQOtRuB6F6xVAj8L1KFyPGkAzMzMzMzMfQOtRuB6F6yFAPQrXo3A9JECPwvUoXI8mQOF6FK5H4ShAMzMzMzMzK0CF61G4HoUtQNajcD0K1y9AFK5H4XoUMUA9CtejcD0yQGZmZmZmZjNAj8L1KFyPNEC4HoXrUbg1QOF6FK5H4TZACtejcD0KOEAzMzMzMzM5QFyPwvUoXDpAhetRuB6FO0CuR+F6FK48QNajcD0K1z1A////////PkAUrkfhehRAQChcj8L1qEBAPQrXo3A9QUBSuB6F69FBQGZmZmZmZkJAexSuR+H6QkCPwvUoXI9DQKNwPQrXI0RAuB6F61G4REDMzMzMzExFQOF6FK5H4UVA9Shcj8J1RkAK16NwPQpHQB6F61G4nkdAMzMzMzMzSEBH4XoUrsdIQFyPwvUoXElAcD0K16PwSUCF61G4HoVKQJmZmZmZGUtArkfhehSuS0DC9Shcj0JMQNajcD0K10xA61G4HoVrTUAAAAAAAABOQA==\",\"dtype\":\"float64\",\"order\":\"little\",\"shape\":[50]},\"top\":[419824,718592,831846,848181,794281,740358,664221,580993,520088,452731,408155,361128,312218,279023,242376,217652,192268,166224,146296,122012,102043,82007,63268,47802,34444,25578,19636,15561,12601,10394,8810,7292,6054,5459,4519,4032,3597,3192,2906,2475,2241,2056,1776,1729,1477,1388,1290,1178,1041,922],\"tripduration\":{\"__ndarray__\":\"pHA9CtejBEDsUbgehesNQJqZmZmZmRNAPQrXo3A9GEDhehSuR+EcQML1KFyPwiBAFK5H4XoUI0BmZmZmZmYlQLgehetRuCdACtejcD0KKkBcj8L1KFwsQK5H4XoUri5AAAAAAACAMEAoXI/C9agxQFK4HoXr0TJAehSuR+H6M0CkcD0K1yM1QMzMzMzMTDZA9ihcj8J1N0AehetRuJ44QEjhehSuxzlAcD0K16PwOkCamZmZmRk8QML1KFyPQj1A6lG4HoVrPkAUrkfhepQ/QB6F61G4XkBAMjMzMzPzQEBI4XoUrodBQFyPwvUoHEJAcD0K16OwQkCF61G4HkVDQJmZmZmZ2UNArkfhehRuREDC9ShcjwJFQNajcD0Kl0VA61G4HoUrRkAAAAAAAMBGQBSuR+F6VEdAKFyPwvXoR0A9CtejcH1IQFK4HoXrEUlAZmZmZmamSUB6FK5H4TpKQI/C9Shcz0pApHA9CtdjS0C4HoXrUfhLQMzMzMzMjExA4HoUrkchTUD2KFyPwrVNQA==\",\"dtype\":\"float64\",\"order\":\"little\",\"shape\":[50]},\"tripduration_count\":[419824,718592,831846,848181,794281,740358,664221,580993,520088,452731,408155,361128,312218,279023,242376,217652,192268,166224,146296,122012,102043,82007,63268,47802,34444,25578,19636,15561,12601,10394,8810,7292,6054,5459,4519,4032,3597,3192,2906,2475,2241,2056,1776,1729,1477,1388,1290,1178,1041,922]},\"selected\":{\"id\":\"1141\"},\"selection_policy\":{\"id\":\"1161\"}},\"id\":\"1140\",\"type\":\"ColumnDataSource\"},{\"attributes\":{\"overlay\":{\"id\":\"1132\"}},\"id\":\"1130\",\"type\":\"BoxZoomTool\"},{\"attributes\":{},\"id\":\"1127\",\"type\":\"SaveTool\"},{\"attributes\":{\"active_drag\":\"auto\",\"active_inspect\":\"auto\",\"active_multi\":null,\"active_scroll\":\"auto\",\"active_tap\":\"auto\",\"tools\":[{\"id\":\"1109\"},{\"id\":\"1127\"},{\"id\":\"1128\"},{\"id\":\"1129\"},{\"id\":\"1130\"},{\"id\":\"1131\"}]},\"id\":\"1133\",\"type\":\"Toolbar\"},{\"attributes\":{},\"id\":\"1131\",\"type\":\"ResetTool\"},{\"attributes\":{\"axis\":{\"id\":\"1123\"},\"dimension\":1,\"grid_line_color\":null,\"ticker\":null},\"id\":\"1126\",\"type\":\"Grid\"},{\"attributes\":{\"axis_label\":\"tripduration\",\"bounds\":\"auto\",\"formatter\":{\"id\":\"1150\"},\"major_label_orientation\":\"horizontal\",\"ticker\":{\"id\":\"1120\"}},\"id\":\"1119\",\"type\":\"LinearAxis\"},{\"attributes\":{\"axis\":{\"id\":\"1119\"},\"grid_line_color\":null,\"ticker\":null},\"id\":\"1122\",\"type\":\"Grid\"},{\"attributes\":{},\"id\":\"1150\",\"type\":\"BasicTickFormatter\"},{\"attributes\":{\"bottom\":{\"value\":0},\"fill_alpha\":{\"value\":0.2},\"fill_color\":{\"value\":\"#1f77b3\"},\"left\":{\"field\":\"left\"},\"line_alpha\":{\"value\":0.2},\"right\":{\"field\":\"right\"},\"top\":{\"field\":\"top\"}},\"id\":\"1145\",\"type\":\"Quad\"},{\"attributes\":{\"text\":\"Trips Duration Histrogram\",\"text_color\":{\"value\":\"black\"},\"text_font_size\":{\"value\":\"12pt\"}},\"id\":\"1111\",\"type\":\"Title\"},{\"attributes\":{\"callback\":null,\"renderers\":[{\"id\":\"1146\"}],\"tags\":[\"hv_created\"],\"tooltips\":[[\"tripduration\",\"@{tripduration}\"],[\"Count\",\"@{tripduration_count}\"]]},\"id\":\"1109\",\"type\":\"HoverTool\"},{\"attributes\":{},\"id\":\"1128\",\"type\":\"PanTool\"},{\"attributes\":{},\"id\":\"1120\",\"type\":\"BasicTicker\"},{\"attributes\":{},\"id\":\"1124\",\"type\":\"BasicTicker\"},{\"attributes\":{\"axis_label\":\"\",\"bounds\":\"auto\",\"formatter\":{\"id\":\"1148\"},\"major_label_orientation\":\"horizontal\",\"ticker\":{\"id\":\"1124\"}},\"id\":\"1123\",\"type\":\"LinearAxis\"},{\"attributes\":{},\"id\":\"1161\",\"type\":\"UnionRenderers\"},{\"attributes\":{},\"id\":\"1141\",\"type\":\"Selection\"},{\"attributes\":{},\"id\":\"1129\",\"type\":\"WheelZoomTool\"},{\"attributes\":{\"bottom\":{\"value\":0},\"fill_color\":{\"value\":\"#1f77b3\"},\"left\":{\"field\":\"left\"},\"right\":{\"field\":\"right\"},\"top\":{\"field\":\"top\"}},\"id\":\"1143\",\"type\":\"Quad\"},{\"attributes\":{\"end\":62.48571428571429,\"reset_end\":62.48571428571429,\"reset_start\":-0.48571428571428577,\"start\":-0.48571428571428577,\"tags\":[[[\"tripduration\",\"tripduration\",null]]]},\"id\":\"1107\",\"type\":\"Range1d\"},{\"attributes\":{},\"id\":\"1115\",\"type\":\"LinearScale\"},{\"attributes\":{\"bottom_units\":\"screen\",\"fill_alpha\":0.5,\"fill_color\":\"lightgrey\",\"left_units\":\"screen\",\"level\":\"overlay\",\"line_alpha\":1.0,\"line_color\":\"black\",\"line_dash\":[4,4],\"line_width\":2,\"right_units\":\"screen\",\"top_units\":\"screen\"},\"id\":\"1132\",\"type\":\"BoxAnnotation\"},{\"attributes\":{\"source\":{\"id\":\"1140\"}},\"id\":\"1147\",\"type\":\"CDSView\"},{\"attributes\":{\"bottom\":{\"value\":0},\"fill_alpha\":{\"value\":0.1},\"fill_color\":{\"value\":\"#1f77b3\"},\"left\":{\"field\":\"left\"},\"line_alpha\":{\"value\":0.1},\"right\":{\"field\":\"right\"},\"top\":{\"field\":\"top\"}},\"id\":\"1144\",\"type\":\"Quad\"},{\"attributes\":{\"data_source\":{\"id\":\"1140\"},\"glyph\":{\"id\":\"1143\"},\"hover_glyph\":null,\"muted_glyph\":{\"id\":\"1145\"},\"nonselection_glyph\":{\"id\":\"1144\"},\"selection_glyph\":null,\"view\":{\"id\":\"1147\"}},\"id\":\"1146\",\"type\":\"GlyphRenderer\"}],\"root_ids\":[\"1105\"]},\"title\":\"Bokeh Application\",\"version\":\"2.2.1\"}};\n",
       "  var render_items = [{\"docid\":\"397bd941-4ec9-48fb-b45e-79006ad01611\",\"root_ids\":[\"1105\"],\"roots\":{\"1105\":\"85b41efa-3753-4602-a1ff-38a2e76dafdb\"}}];\n",
       "  root.Bokeh.embed.embed_items_notebook(docs_json, render_items);\n",
       "  }\n",
       "if (root.Bokeh !== undefined) {\n",
       "    embed_document(root);\n",
       "  } else {\n",
       "    var attempts = 0;\n",
       "    var timer = setInterval(function(root) {\n",
       "      if (root.Bokeh !== undefined) {\n",
       "        clearInterval(timer);\n",
       "        embed_document(root);\n",
       "      } else if (document.readyState == \"complete\") {\n",
       "        attempts++;\n",
       "        if (attempts > 100) {\n",
       "          clearInterval(timer);\n",
       "          console.log(\"Bokeh: ERROR: Unable to run BokehJS code because BokehJS library is missing\");\n",
       "        }\n",
       "      }\n",
       "    }, 10, root)\n",
       "  }\n",
       "})(window);</script>"
      ],
      "text/plain": [
       ":Histogram   [tripduration]   (tripduration_count)"
      ]
     },
     "execution_count": 10,
     "metadata": {
      "application/vnd.holoviews_exec.v0+json": {
       "id": "1105"
      }
     },
     "output_type": "execute_result"
    }
   ],
   "source": [
    "# We selected an arbitrary 50 for bin size, try and see patterns with other sizes\n",
    "df.hvplot.hist(y=\"tripduration\", bins=50).opts(\n",
    "    title=\"Trips Duration Histrogram\", yformatter=\"%0.0f\"\n",
    ")"
   ]
  },
  {
   "cell_type": "markdown",
   "metadata": {},
   "source": [
    "Clearly, most trips are less than 15 minuites long. \n",
    "\n",
    "`hvplot` also makes it simple to interrogate different dimensions. For example, we can add `groupby=\"month\"` to our call to `hvplot.hist`, and automatically get a slider to see a histogram specific to each month:"
   ]
  },
  {
   "cell_type": "code",
   "execution_count": 15,
   "metadata": {},
   "outputs": [
    {
     "data": {},
     "metadata": {},
     "output_type": "display_data"
    },
    {
     "data": {
      "application/vnd.holoviews_exec.v0+json": "",
      "text/html": [
       "<div id='1306'>\n",
       "\n",
       "\n",
       "\n",
       "\n",
       "\n",
       "  <div class=\"bk-root\" id=\"337cefe5-92a9-4d96-a79b-4f936a496924\" data-root-id=\"1306\"></div>\n",
       "</div>\n",
       "<script type=\"application/javascript\">(function(root) {\n",
       "  function embed_document(root) {\n",
       "  var docs_json = {\"2390e991-86a4-4539-b673-0115688cb0db\":{\"roots\":{\"references\":[{\"attributes\":{},\"id\":\"1329\",\"type\":\"PanTool\"},{\"attributes\":{},\"id\":\"1330\",\"type\":\"WheelZoomTool\"},{\"attributes\":{\"children\":[{\"id\":\"1307\"},{\"id\":\"1311\"},{\"id\":\"1374\"},{\"id\":\"1375\"}],\"margin\":[0,0,0,0],\"name\":\"Row02153\"},\"id\":\"1306\",\"type\":\"Row\"},{\"attributes\":{\"children\":[{\"id\":\"1376\"},{\"id\":\"1377\"},{\"id\":\"1381\"}],\"margin\":[0,0,0,0],\"name\":\"Column02168\"},\"id\":\"1375\",\"type\":\"Column\"},{\"attributes\":{\"axis_label\":\"\",\"bounds\":\"auto\",\"formatter\":{\"id\":\"1349\"},\"major_label_orientation\":\"horizontal\",\"ticker\":{\"id\":\"1325\"}},\"id\":\"1324\",\"type\":\"LinearAxis\"},{\"attributes\":{},\"id\":\"1318\",\"type\":\"LinearScale\"},{\"attributes\":{\"data\":{\"left\":{\"__ndarray__\":\"AAAAAAAAAEBI4XoUrkcJQEjhehSuRxFA61G4HoXrFUCPwvUoXI8aQDMzMzMzMx9A61G4HoXrIUA9CtejcD0kQI/C9ShcjyZA4XoUrkfhKEAzMzMzMzMrQIXrUbgehS1A1qNwPQrXL0AUrkfhehQxQD0K16NwPTJAZmZmZmZmM0CPwvUoXI80QLgehetRuDVA4XoUrkfhNkAK16NwPQo4QDMzMzMzMzlAXI/C9ShcOkCF61G4HoU7QK5H4XoUrjxA1qNwPQrXPUD///////8+QBSuR+F6FEBAKFyPwvWoQEA9CtejcD1BQFK4HoXr0UFAZmZmZmZmQkB7FK5H4fpCQI/C9Shcj0NAo3A9CtcjREC4HoXrUbhEQMzMzMzMTEVA4XoUrkfhRUD1KFyPwnVGQArXo3A9CkdAHoXrUbieR0AzMzMzMzNIQEfhehSux0hAXI/C9ShcSUBwPQrXo/BJQIXrUbgehUpAmZmZmZkZS0CuR+F6FK5LQML1KFyPQkxA1qNwPQrXTEDrUbgehWtNQA==\",\"dtype\":\"float64\",\"order\":\"little\",\"shape\":[50]},\"right\":{\"__ndarray__\":\"SOF6FK5HCUBI4XoUrkcRQOtRuB6F6xVAj8L1KFyPGkAzMzMzMzMfQOtRuB6F6yFAPQrXo3A9JECPwvUoXI8mQOF6FK5H4ShAMzMzMzMzK0CF61G4HoUtQNajcD0K1y9AFK5H4XoUMUA9CtejcD0yQGZmZmZmZjNAj8L1KFyPNEC4HoXrUbg1QOF6FK5H4TZACtejcD0KOEAzMzMzMzM5QFyPwvUoXDpAhetRuB6FO0CuR+F6FK48QNajcD0K1z1A////////PkAUrkfhehRAQChcj8L1qEBAPQrXo3A9QUBSuB6F69FBQGZmZmZmZkJAexSuR+H6QkCPwvUoXI9DQKNwPQrXI0RAuB6F61G4REDMzMzMzExFQOF6FK5H4UVA9Shcj8J1RkAK16NwPQpHQB6F61G4nkdAMzMzMzMzSEBH4XoUrsdIQFyPwvUoXElAcD0K16PwSUCF61G4HoVKQJmZmZmZGUtArkfhehSuS0DC9Shcj0JMQNajcD0K10xA61G4HoVrTUAAAAAAAABOQA==\",\"dtype\":\"float64\",\"order\":\"little\",\"shape\":[50]},\"top\":[17141,27768,30694,29680,25718,22936,19308,15862,13507,11392,9760,8121,6724,5818,4850,4187,3531,3095,2621,2182,1746,1299,906,710,480,317,249,174,155,121,89,74,58,55,49,46,47,37,25,33,24,12,22,12,15,18,16,12,10,9],\"tripduration\":{\"__ndarray__\":\"pHA9CtejBEDsUbgehesNQJqZmZmZmRNAPQrXo3A9GEDhehSuR+EcQML1KFyPwiBAFK5H4XoUI0BmZmZmZmYlQLgehetRuCdACtejcD0KKkBcj8L1KFwsQK5H4XoUri5AAAAAAACAMEAoXI/C9agxQFK4HoXr0TJAehSuR+H6M0CkcD0K1yM1QMzMzMzMTDZA9ihcj8J1N0AehetRuJ44QEjhehSuxzlAcD0K16PwOkCamZmZmRk8QML1KFyPQj1A6lG4HoVrPkAUrkfhepQ/QB6F61G4XkBAMjMzMzPzQEBI4XoUrodBQFyPwvUoHEJAcD0K16OwQkCF61G4HkVDQJmZmZmZ2UNArkfhehRuREDC9ShcjwJFQNajcD0Kl0VA61G4HoUrRkAAAAAAAMBGQBSuR+F6VEdAKFyPwvXoR0A9CtejcH1IQFK4HoXrEUlAZmZmZmamSUB6FK5H4TpKQI/C9Shcz0pApHA9CtdjS0C4HoXrUfhLQMzMzMzMjExA4HoUrkchTUD2KFyPwrVNQA==\",\"dtype\":\"float64\",\"order\":\"little\",\"shape\":[50]},\"tripduration_count\":[17141,27768,30694,29680,25718,22936,19308,15862,13507,11392,9760,8121,6724,5818,4850,4187,3531,3095,2621,2182,1746,1299,906,710,480,317,249,174,155,121,89,74,58,55,49,46,47,37,25,33,24,12,22,12,15,18,16,12,10,9]},\"selected\":{\"id\":\"1342\"},\"selection_policy\":{\"id\":\"1365\"}},\"id\":\"1341\",\"type\":\"ColumnDataSource\"},{\"attributes\":{},\"id\":\"1325\",\"type\":\"BasicTicker\"},{\"attributes\":{\"axis\":{\"id\":\"1324\"},\"dimension\":1,\"grid_line_color\":null,\"ticker\":null},\"id\":\"1327\",\"type\":\"Grid\"},{\"attributes\":{},\"id\":\"1365\",\"type\":\"UnionRenderers\"},{\"attributes\":{\"active_drag\":\"auto\",\"active_inspect\":\"auto\",\"active_multi\":null,\"active_scroll\":\"auto\",\"active_tap\":\"auto\",\"tools\":[{\"id\":\"1310\"},{\"id\":\"1328\"},{\"id\":\"1329\"},{\"id\":\"1330\"},{\"id\":\"1331\"},{\"id\":\"1332\"}]},\"id\":\"1334\",\"type\":\"Toolbar\"},{\"attributes\":{},\"id\":\"1332\",\"type\":\"ResetTool\"},{\"attributes\":{},\"id\":\"1328\",\"type\":\"SaveTool\"},{\"attributes\":{\"data_source\":{\"id\":\"1341\"},\"glyph\":{\"id\":\"1344\"},\"hover_glyph\":null,\"muted_glyph\":{\"id\":\"1346\"},\"nonselection_glyph\":{\"id\":\"1345\"},\"selection_glyph\":null,\"view\":{\"id\":\"1348\"}},\"id\":\"1347\",\"type\":\"GlyphRenderer\"},{\"attributes\":{\"overlay\":{\"id\":\"1333\"}},\"id\":\"1331\",\"type\":\"BoxZoomTool\"},{\"attributes\":{\"children\":[{\"id\":\"1378\"}],\"css_classes\":[\"panel-widget-box\"],\"margin\":[5,5,5,5],\"name\":\"WidgetBox02154\"},\"id\":\"1377\",\"type\":\"Column\"},{\"attributes\":{\"children\":[{\"id\":\"1379\"},{\"id\":\"1380\"}],\"margin\":[0,0,0,0],\"min_width\":290,\"name\":\"Column02163\",\"width\":290},\"id\":\"1378\",\"type\":\"Column\"},{\"attributes\":{\"source\":{\"id\":\"1341\"}},\"id\":\"1348\",\"type\":\"CDSView\"},{\"attributes\":{\"margin\":[5,5,5,5],\"name\":\"VSpacer02167\",\"sizing_mode\":\"stretch_height\"},\"id\":\"1381\",\"type\":\"Spacer\"},{\"attributes\":{\"margin\":[5,5,5,5],\"name\":\"VSpacer02166\",\"sizing_mode\":\"stretch_height\"},\"id\":\"1376\",\"type\":\"Spacer\"},{\"attributes\":{\"margin\":[5,5,5,5],\"name\":\"HSpacer02169\",\"sizing_mode\":\"stretch_width\"},\"id\":\"1307\",\"type\":\"Spacer\"},{\"attributes\":{},\"id\":\"1342\",\"type\":\"Selection\"},{\"attributes\":{\"bottom\":{\"value\":0},\"fill_color\":{\"value\":\"#1f77b3\"},\"left\":{\"field\":\"left\"},\"right\":{\"field\":\"right\"},\"top\":{\"field\":\"top\"}},\"id\":\"1344\",\"type\":\"Quad\"},{\"attributes\":{},\"id\":\"1350\",\"type\":\"BasicTickFormatter\"},{\"attributes\":{\"format\":\"%0.0f\"},\"id\":\"1349\",\"type\":\"PrintfTickFormatter\"},{\"attributes\":{\"align\":null,\"below\":[{\"id\":\"1320\"}],\"center\":[{\"id\":\"1323\"},{\"id\":\"1327\"}],\"left\":[{\"id\":\"1324\"}],\"margin\":null,\"min_border_bottom\":10,\"min_border_left\":10,\"min_border_right\":10,\"min_border_top\":10,\"plot_height\":300,\"plot_width\":400,\"renderers\":[{\"id\":\"1347\"}],\"sizing_mode\":\"fixed\",\"title\":{\"id\":\"1312\"},\"toolbar\":{\"id\":\"1334\"},\"x_range\":{\"id\":\"1308\"},\"x_scale\":{\"id\":\"1316\"},\"y_range\":{\"id\":\"1309\"},\"y_scale\":{\"id\":\"1318\"}},\"id\":\"1311\",\"subtype\":\"Figure\",\"type\":\"Plot\"},{\"attributes\":{\"bottom\":{\"value\":0},\"fill_alpha\":{\"value\":0.1},\"fill_color\":{\"value\":\"#1f77b3\"},\"left\":{\"field\":\"left\"},\"line_alpha\":{\"value\":0.1},\"right\":{\"field\":\"right\"},\"top\":{\"field\":\"top\"}},\"id\":\"1345\",\"type\":\"Quad\"},{\"attributes\":{\"callback\":null,\"renderers\":[{\"id\":\"1347\"}],\"tags\":[\"hv_created\"],\"tooltips\":[[\"tripduration\",\"@{tripduration}\"],[\"Count\",\"@{tripduration_count}\"]]},\"id\":\"1310\",\"type\":\"HoverTool\"},{\"attributes\":{\"margin\":[5,5,5,5],\"name\":\"HSpacer02170\",\"sizing_mode\":\"stretch_width\"},\"id\":\"1374\",\"type\":\"Spacer\"},{\"attributes\":{\"bottom_units\":\"screen\",\"fill_alpha\":0.5,\"fill_color\":\"lightgrey\",\"left_units\":\"screen\",\"level\":\"overlay\",\"line_alpha\":1.0,\"line_color\":\"black\",\"line_dash\":[4,4],\"line_width\":2,\"right_units\":\"screen\",\"top_units\":\"screen\"},\"id\":\"1333\",\"type\":\"BoxAnnotation\"},{\"attributes\":{\"axis_label\":\"tripduration\",\"bounds\":\"auto\",\"formatter\":{\"id\":\"1350\"},\"major_label_orientation\":\"horizontal\",\"ticker\":{\"id\":\"1321\"}},\"id\":\"1320\",\"type\":\"LinearAxis\"},{\"attributes\":{\"end\":11,\"format\":\"0[.]00\",\"js_property_callbacks\":{\"change:value\":[{\"id\":\"1389\"}]},\"margin\":[0,20,20,20],\"min_width\":250,\"show_value\":false,\"start\":0,\"tooltips\":false,\"value\":0,\"width\":250},\"id\":\"1380\",\"type\":\"Slider\"},{\"attributes\":{\"args\":{\"bidirectional\":false,\"properties\":{},\"source\":{\"id\":\"1380\"},\"target\":{\"id\":\"1379\"}},\"code\":\"try { \\n    var labels = ['month: <b>1</b>', 'month: <b>2</b>', 'month: <b>3</b>', 'month: <b>4</b>', 'month: <b>5</b>', 'month: <b>6</b>', 'month: <b>7</b>', 'month: <b>8</b>', 'month: <b>9</b>', 'month: <b>10</b>', 'month: <b>11</b>', 'month: <b>12</b>']\\n    target.text = labels[source.value]\\n     } catch(err) { console.log(err) }\",\"tags\":[140221934449040]},\"id\":\"1389\",\"type\":\"CustomJS\"},{\"attributes\":{},\"id\":\"1316\",\"type\":\"LinearScale\"},{\"attributes\":{},\"id\":\"1321\",\"type\":\"BasicTicker\"},{\"attributes\":{\"margin\":[20,0,0,20],\"name\":\"\",\"style\":{\"white-space\":\"nowrap\"},\"text\":\"month: <b>1</b>\",\"width\":250},\"id\":\"1379\",\"type\":\"Div\"},{\"attributes\":{\"end\":33762.5,\"reset_end\":33762.5,\"reset_start\":0.0,\"tags\":[[[\"tripduration_count\",\"Count\",null]]]},\"id\":\"1309\",\"type\":\"Range1d\"},{\"attributes\":{\"axis\":{\"id\":\"1320\"},\"grid_line_color\":null,\"ticker\":null},\"id\":\"1323\",\"type\":\"Grid\"},{\"attributes\":{\"end\":64.35,\"reset_end\":64.35,\"reset_start\":-2.3500000000000005,\"start\":-2.3500000000000005,\"tags\":[[[\"tripduration\",\"tripduration\",null]]]},\"id\":\"1308\",\"type\":\"Range1d\"},{\"attributes\":{\"bottom\":{\"value\":0},\"fill_alpha\":{\"value\":0.2},\"fill_color\":{\"value\":\"#1f77b3\"},\"left\":{\"field\":\"left\"},\"line_alpha\":{\"value\":0.2},\"right\":{\"field\":\"right\"},\"top\":{\"field\":\"top\"}},\"id\":\"1346\",\"type\":\"Quad\"},{\"attributes\":{\"text\":\"Trips Duration Histrogram by Month\",\"text_color\":{\"value\":\"black\"},\"text_font_size\":{\"value\":\"12pt\"}},\"id\":\"1312\",\"type\":\"Title\"},{\"attributes\":{\"client_comm_id\":\"d12657c833c543d6a5c203057ed0a3ca\",\"comm_id\":\"00cbedbba9db43838b8eab067c454fe6\",\"plot_id\":\"1306\"},\"id\":\"1404\",\"type\":\"panel.models.comm_manager.CommManager\"}],\"root_ids\":[\"1306\",\"1404\"]},\"title\":\"Bokeh Application\",\"version\":\"2.2.1\"}};\n",
       "  var render_items = [{\"docid\":\"2390e991-86a4-4539-b673-0115688cb0db\",\"root_ids\":[\"1306\"],\"roots\":{\"1306\":\"337cefe5-92a9-4d96-a79b-4f936a496924\"}}];\n",
       "  root.Bokeh.embed.embed_items_notebook(docs_json, render_items);\n",
       "  }\n",
       "if (root.Bokeh !== undefined) {\n",
       "    embed_document(root);\n",
       "  } else {\n",
       "    var attempts = 0;\n",
       "    var timer = setInterval(function(root) {\n",
       "      if (root.Bokeh !== undefined) {\n",
       "        clearInterval(timer);\n",
       "        embed_document(root);\n",
       "      } else if (document.readyState == \"complete\") {\n",
       "        attempts++;\n",
       "        if (attempts > 100) {\n",
       "          clearInterval(timer);\n",
       "          console.log(\"Bokeh: ERROR: Unable to run BokehJS code because BokehJS library is missing\");\n",
       "        }\n",
       "      }\n",
       "    }, 10, root)\n",
       "  }\n",
       "})(window);</script>"
      ],
      "text/plain": [
       ":DynamicMap   [month]\n",
       "   :Histogram   [tripduration]   (tripduration_count)"
      ]
     },
     "execution_count": 15,
     "metadata": {
      "application/vnd.holoviews_exec.v0+json": {
       "id": "1306"
      }
     },
     "output_type": "execute_result"
    }
   ],
   "source": [
    "df.hvplot.hist(y=\"tripduration\", bins=50, groupby=\"month\").opts(\n",
    "    title=\"Trips Duration Histrogram by Month\", yformatter=\"%0.0f\", width=400\n",
    ")"
   ]
  },
  {
   "cell_type": "markdown",
   "metadata": {},
   "source": [
    "By scrubbing between the months we can start to see a pattern of slightly longer trip durations emerge during the summer months.\n",
    "\n"
   ]
  },
  {
   "cell_type": "markdown",
   "metadata": {},
   "source": [
    "## Trips vs Temperatures\n",
    "Lets follow up on this by using `hvplot` to generate a KDE distributions using our `cudf` Dataframes for 9 million trips:"
   ]
  },
  {
   "cell_type": "code",
   "execution_count": 22,
   "metadata": {
    "scrolled": true
   },
   "outputs": [
    {
     "data": {},
     "metadata": {},
     "output_type": "display_data"
    },
    {
     "data": {
      "application/vnd.holoviews_exec.v0+json": "",
      "text/html": [
       "<div id='1626'>\n",
       "\n",
       "\n",
       "\n",
       "\n",
       "\n",
       "  <div class=\"bk-root\" id=\"32e5833d-af9a-492c-9ce8-06ac0c4ba7c8\" data-root-id=\"1626\"></div>\n",
       "</div>\n",
       "<script type=\"application/javascript\">(function(root) {\n",
       "  function embed_document(root) {\n",
       "  var docs_json = {\"294f43b3-2d58-4fb0-813e-7094a33bdd2f\":{\"roots\":{\"references\":[{\"attributes\":{},\"id\":\"1672\",\"type\":\"BasicTickFormatter\"},{\"attributes\":{},\"id\":\"1662\",\"type\":\"Selection\"},{\"attributes\":{\"end\":0.03387363019551966,\"reset_end\":0.03387363019551966,\"reset_start\":0.0,\"tags\":[[[\"temperature_density\",\"Density\",null]]]},\"id\":\"1629\",\"type\":\"Range1d\"},{\"attributes\":{\"fill_alpha\":0.2,\"fill_color\":\"#1f77b3\",\"line_alpha\":0.2,\"x\":{\"field\":\"x\"},\"y\":{\"field\":\"y\"}},\"id\":\"1666\",\"type\":\"Patch\"},{\"attributes\":{\"bottom_units\":\"screen\",\"fill_alpha\":0.5,\"fill_color\":\"lightgrey\",\"left_units\":\"screen\",\"level\":\"overlay\",\"line_alpha\":1.0,\"line_color\":\"black\",\"line_dash\":[4,4],\"line_width\":2,\"right_units\":\"screen\",\"top_units\":\"screen\"},\"id\":\"1653\",\"type\":\"BoxAnnotation\"},{\"attributes\":{},\"id\":\"1670\",\"type\":\"BasicTickFormatter\"},{\"attributes\":{\"margin\":[5,5,5,5],\"name\":\"HSpacer03935\",\"sizing_mode\":\"stretch_width\"},\"id\":\"1689\",\"type\":\"Spacer\"},{\"attributes\":{},\"id\":\"1648\",\"type\":\"SaveTool\"},{\"attributes\":{\"overlay\":{\"id\":\"1653\"}},\"id\":\"1651\",\"type\":\"BoxZoomTool\"},{\"attributes\":{\"align\":null,\"below\":[{\"id\":\"1640\"}],\"center\":[{\"id\":\"1643\"},{\"id\":\"1647\"}],\"left\":[{\"id\":\"1644\"}],\"margin\":null,\"min_border_bottom\":10,\"min_border_left\":10,\"min_border_right\":10,\"min_border_top\":10,\"plot_height\":300,\"plot_width\":700,\"renderers\":[{\"id\":\"1667\"}],\"sizing_mode\":\"fixed\",\"title\":{\"id\":\"1632\"},\"toolbar\":{\"id\":\"1654\"},\"x_range\":{\"id\":\"1628\"},\"x_scale\":{\"id\":\"1636\"},\"y_range\":{\"id\":\"1629\"},\"y_scale\":{\"id\":\"1638\"}},\"id\":\"1631\",\"subtype\":\"Figure\",\"type\":\"Plot\"},{\"attributes\":{\"data_source\":{\"id\":\"1661\"},\"glyph\":{\"id\":\"1664\"},\"hover_glyph\":null,\"muted_glyph\":{\"id\":\"1666\"},\"nonselection_glyph\":{\"id\":\"1665\"},\"selection_glyph\":null,\"view\":{\"id\":\"1668\"}},\"id\":\"1667\",\"type\":\"GlyphRenderer\"},{\"attributes\":{\"active_drag\":\"auto\",\"active_inspect\":\"auto\",\"active_multi\":null,\"active_scroll\":\"auto\",\"active_tap\":\"auto\",\"tools\":[{\"id\":\"1630\"},{\"id\":\"1648\"},{\"id\":\"1649\"},{\"id\":\"1650\"},{\"id\":\"1651\"},{\"id\":\"1652\"}]},\"id\":\"1654\",\"type\":\"Toolbar\"},{\"attributes\":{},\"id\":\"1636\",\"type\":\"LinearScale\"},{\"attributes\":{\"callback\":null,\"renderers\":[{\"id\":\"1667\"}],\"tags\":[\"hv_created\"],\"tooltips\":[[\"temperature\",\"@{temperature}\"],[\"Density\",\"@{temperature_density}\"]]},\"id\":\"1630\",\"type\":\"HoverTool\"},{\"attributes\":{},\"id\":\"1652\",\"type\":\"ResetTool\"},{\"attributes\":{},\"id\":\"1650\",\"type\":\"WheelZoomTool\"},{\"attributes\":{\"text\":\"Distribution of trip temperatures\",\"text_color\":{\"value\":\"black\"},\"text_font_size\":{\"value\":\"12pt\"}},\"id\":\"1632\",\"type\":\"Title\"},{\"attributes\":{},\"id\":\"1649\",\"type\":\"PanTool\"},{\"attributes\":{\"axis\":{\"id\":\"1644\"},\"dimension\":1,\"grid_line_color\":null,\"ticker\":null},\"id\":\"1647\",\"type\":\"Grid\"},{\"attributes\":{\"margin\":[5,5,5,5],\"name\":\"HSpacer03934\",\"sizing_mode\":\"stretch_width\"},\"id\":\"1627\",\"type\":\"Spacer\"},{\"attributes\":{\"end\":97.07572704224066,\"reset_end\":97.07572704224066,\"reset_start\":-17.075727042240654,\"start\":-17.075727042240654,\"tags\":[[[\"temperature\",\"temperature\",null]]]},\"id\":\"1628\",\"type\":\"Range1d\"},{\"attributes\":{\"children\":[{\"id\":\"1627\"},{\"id\":\"1631\"},{\"id\":\"1689\"}],\"margin\":[0,0,0,0],\"name\":\"Row03930\",\"tags\":[\"embedded\"]},\"id\":\"1626\",\"type\":\"Row\"},{\"attributes\":{\"source\":{\"id\":\"1661\"}},\"id\":\"1668\",\"type\":\"CDSView\"},{\"attributes\":{},\"id\":\"1645\",\"type\":\"BasicTicker\"},{\"attributes\":{\"fill_alpha\":0.5,\"fill_color\":\"#1f77b3\",\"line_alpha\":1,\"x\":{\"field\":\"x\"},\"y\":{\"field\":\"y\"}},\"id\":\"1665\",\"type\":\"Patch\"},{\"attributes\":{\"axis_label\":\"Density\",\"bounds\":\"auto\",\"formatter\":{\"id\":\"1672\"},\"major_label_orientation\":\"horizontal\",\"ticker\":{\"id\":\"1645\"}},\"id\":\"1644\",\"type\":\"LinearAxis\"},{\"attributes\":{\"data\":{\"x\":{\"__ndarray__\":\"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\",\"dtype\":\"float64\",\"order\":\"little\",\"shape\":[200]},\"y\":{\"__ndarray__\":\"AAAAAAAAAAAAAAAAAAAAAAAAAAAAAAAAAAAAAAAAAAAAAAAAAAAAAAAAAAAAAAAAAAAAAAAAAAAAAAAAAAAAAAAAAAAAAAAAAAAAAAAAAAAAAAAAAAAAAAAAAAAAAAAAAAAAAAAAAAAAAAAAAAAAAAAAAAAAAAAAAAAAAAAAAAAAAAAAAAAAAAAAAAAAAAAAAAAAAAAAAAAAAAAAAAAAAAAAAAAAAAAAAAAAAAAAAAAAAAAAAAAAAAAAAAAAAAAAAAAAAAAAAAAAAAAAAAAAAAAAAAAAAAAAAAAAAAAAAAAAAAAAAAAAAAAAAAAAAAAAAAAAAAAAAAAAAAAAAAAAAAAAAAAAAAAAAAAAAAAAAAAAAAAAAAAAAAAAAAAAAAAAAAAAAAAAAAAAAAAAAAAAAAAAAAAAAAAAAAAAAAAAAAAAAAAAAAAAAAAAAAAAAAAAAAAAAAAAAAAAAAAAAAAAAAAAAAAAAAAAAAAAAAAAAAAAAAAAAAAAAAAAAAAAAAAAAAAAAAAAAAAAAAAAAAAAAAAAAAAAAAAAAAAAAAAAAAAAAAAAAAAAAAAAAAAAAAAAAAAAAAAAAAAAAAAAAAAAAAAAAAAAAAAAAAAAAAAAAAAAAAAAAAAAAAAAAAAAAAAAAAAAAAAAAAAAAAAAAAAAAAAAAAAAAAAAAAAAAAAAAAAAAAAAAAAAAAAAAAAAAAAAAAAAAAAAAAAAAAAAAAAAAAAAAAAAAAAAAAAAAAAAAAAAAAAAAAAAAAAAAAAAAAAAAAAAAAAAAAAAAAAAAAAAAAAAAAAAAAAAAAAAAAAAAAAAAAAAAAAAAAAAAAAAAAAAAAAAAAAAAAAAAAAAAAAAAAAAAAAAAAAAAAAAAAAAAAAAAAAAAAAAAAAAAAAAAAAAAAAAAAAAAAAAAAAAAAAAAAAAAAAAAAAAAAAAAAAAAAAAAAAAAAAAAAAAAAAAAAAAAAAAAAAAAAAAAAAAAAAAAAAAAAAAAAAAAAAAAAAAAAAAAAAAAAAAAAAAAAAAAAAAAAAAAAAAAAAAAAAAAAAAAAAAAAAAAAAAAAAAAAAAAAA9rGDAfRmpPrw/Ep0skwA/5LvZqrvbKz+loYqKrEtCPwIkldoHQ1I/4itGPtJNYz8kZz6YLV1wP3g/u+bkoXU/KCJVSqV+fj95aoDUXmOBP7c/UBhQtIY/Zsya72Ndjj/2VIiZYl2QP6QqO5ph3ZY/9PfytBSBmT/l9+DIUFSaPzieL/e945w/nwfyNVQZmz+a1vE2c9ibP6q1utyJLZ0/jqyUwRSnnD/f6+lnhIifP/ehZDRc350/ss6lJ13pmz/B80/CjAadP0PAXCSkEpg/KJh+DhmvmD/P/TtnQ0KWP8bMaSvL0pU/K8A6URmAlD93LDBr1nOTP9b9f5pG8Y8/dyFfutI1kD8BEDAAUYWNP83d0dhDR44/6g+0blpUjT9FwYgde6mMPxSthxRP4ok/hMiscA+dij8Mh4kLgpaIP+r3fzeg2oc/ARBhp+/Zhz+aflZgnbuJP+Gbx2VtaYk/Usnsrxk9iT92eU3M30+GP51tC+5FWYU/ZfkYkzrQgj8c4tG2SIp/P7KbnSfLIIA/gy2dPYQ4gz/eEFaF8kaBPy05AtCi/YA/fVFpVWdlfj8aGihxkJZ7P1F2H/rBeHw//MPuL7eCej/AqPG4yXV6P/UewlrNFng/xfNbFcOqcj/59UYferhxP0wdzuREr3A/3WUtGEBkaT83HmANc4BnPxPR8qsGQ2I/Ti4wLdw6YD80Sorx8kBeP9ozhQf4tF0/66RlvFYaXD/jIJEntzNcPz74qbzS6VY/dF1vjBz+Uj/FbwF4NoZPP0xoXbBWGEs/gS0cmnkmRT+1Djp2Cr1FP3rdhea4TEM/JmDJSF4lQD+3YNI/tGE9P3FdWOSwKjo/SLeT/kqEOj8avJ86yQ4+P+m817uxVTY/q8Xzejz+Mj/iOXbxAqwuP4/rogKT2iM/EhyrQ+DGID/0r0xMWFkUP29uO17mJAA/ub1qH+ZWAj/As1TdCa/7PpOaPqIJyOs+8n/N8xtI0D7PeNdONn7MPkZ6U0t7OMA+LaUtAZqzmT5FHivNXyJZPuWMa9CH324+Spa8PEbMWj61A2+uny0HPg==\",\"dtype\":\"float64\",\"order\":\"little\",\"shape\":[200]}},\"selected\":{\"id\":\"1662\"},\"selection_policy\":{\"id\":\"1680\"}},\"id\":\"1661\",\"type\":\"ColumnDataSource\"},{\"attributes\":{},\"id\":\"1638\",\"type\":\"LinearScale\"},{\"attributes\":{},\"id\":\"1641\",\"type\":\"BasicTicker\"},{\"attributes\":{\"axis_label\":\"temperature\",\"bounds\":\"auto\",\"formatter\":{\"id\":\"1670\"},\"major_label_orientation\":\"horizontal\",\"ticker\":{\"id\":\"1641\"}},\"id\":\"1640\",\"type\":\"LinearAxis\"},{\"attributes\":{\"fill_alpha\":0.5,\"fill_color\":\"#1f77b3\",\"x\":{\"field\":\"x\"},\"y\":{\"field\":\"y\"}},\"id\":\"1664\",\"type\":\"Patch\"},{\"attributes\":{},\"id\":\"1680\",\"type\":\"UnionRenderers\"},{\"attributes\":{\"axis\":{\"id\":\"1640\"},\"grid_line_color\":null,\"ticker\":null},\"id\":\"1643\",\"type\":\"Grid\"}],\"root_ids\":[\"1626\"]},\"title\":\"Bokeh Application\",\"version\":\"2.2.1\"}};\n",
       "  var render_items = [{\"docid\":\"294f43b3-2d58-4fb0-813e-7094a33bdd2f\",\"root_ids\":[\"1626\"],\"roots\":{\"1626\":\"32e5833d-af9a-492c-9ce8-06ac0c4ba7c8\"}}];\n",
       "  root.Bokeh.embed.embed_items_notebook(docs_json, render_items);\n",
       "  }\n",
       "if (root.Bokeh !== undefined) {\n",
       "    embed_document(root);\n",
       "  } else {\n",
       "    var attempts = 0;\n",
       "    var timer = setInterval(function(root) {\n",
       "      if (root.Bokeh !== undefined) {\n",
       "        clearInterval(timer);\n",
       "        embed_document(root);\n",
       "      } else if (document.readyState == \"complete\") {\n",
       "        attempts++;\n",
       "        if (attempts > 100) {\n",
       "          clearInterval(timer);\n",
       "          console.log(\"Bokeh: ERROR: Unable to run BokehJS code because BokehJS library is missing\");\n",
       "        }\n",
       "      }\n",
       "    }, 10, root)\n",
       "  }\n",
       "})(window);</script>"
      ],
      "text/plain": [
       ":Distribution   [temperature]   (Density)"
      ]
     },
     "execution_count": 22,
     "metadata": {
      "application/vnd.holoviews_exec.v0+json": {
       "id": "1626"
      }
     },
     "output_type": "execute_result"
    }
   ],
   "source": [
    "df.hvplot.kde(y=\"temperature\").opts(title=\"Distribution of trip temperatures\")\n"
   ]
  },
  {
   "cell_type": "markdown",
   "metadata": {},
   "source": [
    "Clearly most trips occur around a temperature sweet spot of around 65-80 degrees.\n",
    "\n",
    "\n",
    "The `hvplot.heatmap` method can group in two dimensions and colormap according to aggregations on those groups. Here we see *average* trip duration by year and month: "
   ]
  },
  {
   "cell_type": "code",
   "execution_count": 17,
   "metadata": {},
   "outputs": [
    {
     "data": {},
     "metadata": {},
     "output_type": "display_data"
    },
    {
     "data": {
      "application/vnd.holoviews_exec.v0+json": "",
      "text/html": [
       "<div id='1545'>\n",
       "\n",
       "\n",
       "\n",
       "\n",
       "\n",
       "  <div class=\"bk-root\" id=\"e3c8150c-eb8a-404b-92de-bca715d3cd65\" data-root-id=\"1545\"></div>\n",
       "</div>\n",
       "<script type=\"application/javascript\">(function(root) {\n",
       "  function embed_document(root) {\n",
       "  var docs_json = {\"1fff6953-757b-40e4-86af-199ad7337cbf\":{\"roots\":{\"references\":[{\"attributes\":{},\"id\":\"1560\",\"type\":\"BasicTicker\"},{\"attributes\":{\"margin\":[5,5,5,5],\"name\":\"HSpacer02973\",\"sizing_mode\":\"stretch_width\"},\"id\":\"1546\",\"type\":\"Spacer\"},{\"attributes\":{},\"id\":\"1594\",\"type\":\"BasicTickFormatter\"},{\"attributes\":{\"end\":2017.5,\"reset_end\":2017.5,\"reset_start\":2013.5,\"start\":2013.5,\"tags\":[[[\"year\",\"year\",null]]]},\"id\":\"1548\",\"type\":\"Range1d\"},{\"attributes\":{},\"id\":\"1557\",\"type\":\"LinearScale\"},{\"attributes\":{\"bar_line_color\":\"black\",\"color_mapper\":{\"id\":\"1580\"},\"formatter\":{\"id\":\"1601\"},\"label_standoff\":8,\"location\":[0,0],\"major_tick_line_color\":\"black\",\"ticker\":{\"id\":\"1589\"}},\"id\":\"1590\",\"type\":\"ColorBar\"},{\"attributes\":{\"axis_label\":\"month\",\"bounds\":\"auto\",\"formatter\":{\"id\":\"1592\"},\"major_label_orientation\":\"horizontal\",\"ticker\":{\"id\":\"1560\"}},\"id\":\"1559\",\"type\":\"LinearAxis\"},{\"attributes\":{},\"id\":\"1603\",\"type\":\"UnionRenderers\"},{\"attributes\":{},\"id\":\"1582\",\"type\":\"Selection\"},{\"attributes\":{\"data\":{\"height\":{\"__ndarray__\":\"AAAAAAAA8D8AAAAAAADwPwAAAAAAAPA/AAAAAAAA8D8AAAAAAADwPwAAAAAAAPA/AAAAAAAA8D8AAAAAAADwPwAAAAAAAPA/AAAAAAAA8D8AAAAAAADwPwAAAAAAAPA/AAAAAAAA8D8AAAAAAADwPwAAAAAAAPA/AAAAAAAA8D8AAAAAAADwPwAAAAAAAPA/AAAAAAAA8D8AAAAAAADwPwAAAAAAAPA/AAAAAAAA8D8AAAAAAADwPwAAAAAAAPA/AAAAAAAA8D8AAAAAAADwPwAAAAAAAPA/AAAAAAAA8D8AAAAAAADwPwAAAAAAAPA/AAAAAAAA8D8AAAAAAADwPwAAAAAAAPA/AAAAAAAA8D8AAAAAAADwPwAAAAAAAPA/AAAAAAAA8D8AAAAAAADwPwAAAAAAAPA/AAAAAAAA8D8AAAAAAADwPwAAAAAAAPA/AAAAAAAA8D8AAAAAAADwPwAAAAAAAPA/AAAAAAAA8D8AAAAAAADwPwAAAAAAAPA/\",\"dtype\":\"float64\",\"order\":\"little\",\"shape\":[48]},\"month\":[1,1,1,1,2,2,2,2,3,3,3,3,4,4,4,4,5,5,5,5,6,6,6,6,7,7,7,7,8,8,8,8,9,9,9,9,10,10,10,10,11,11,11,11,12,12,12,12],\"tripduration\":[\"9.7652\",\"9.6154\",\"9.6732\",\"9.7168\",\"9.8713\",\"9.67\",\"9.9709\",\"10.479\",\"10.435\",\"10.457\",\"10.512\",\"10.032\",\"10.998\",\"10.92\",\"11.077\",\"11.428\",\"11.856\",\"11.789\",\"11.885\",\"11.623\",\"12.236\",\"12.153\",\"12.413\",\"12.34\",\"12.259\",\"12.356\",\"12.347\",\"12.459\",\"11.915\",\"12.043\",\"12.035\",\"11.993\",\"11.48\",\"11.682\",\"11.704\",\"11.629\",\"10.713\",\"10.854\",\"11.106\",\"10.912\",\"9.8252\",\"10.475\",\"10.719\",\"10.082\",\"9.5679\",\"9.9406\",\"9.766\",\"9.9309\"],\"width\":{\"__ndarray__\":\"AAAAAAAA8D8AAAAAAADwPwAAAAAAAPA/AAAAAAAA8D8AAAAAAADwPwAAAAAAAPA/AAAAAAAA8D8AAAAAAADwPwAAAAAAAPA/AAAAAAAA8D8AAAAAAADwPwAAAAAAAPA/AAAAAAAA8D8AAAAAAADwPwAAAAAAAPA/AAAAAAAA8D8AAAAAAADwPwAAAAAAAPA/AAAAAAAA8D8AAAAAAADwPwAAAAAAAPA/AAAAAAAA8D8AAAAAAADwPwAAAAAAAPA/AAAAAAAA8D8AAAAAAADwPwAAAAAAAPA/AAAAAAAA8D8AAAAAAADwPwAAAAAAAPA/AAAAAAAA8D8AAAAAAADwPwAAAAAAAPA/AAAAAAAA8D8AAAAAAADwPwAAAAAAAPA/AAAAAAAA8D8AAAAAAADwPwAAAAAAAPA/AAAAAAAA8D8AAAAAAADwPwAAAAAAAPA/AAAAAAAA8D8AAAAAAADwPwAAAAAAAPA/AAAAAAAA8D8AAAAAAADwPwAAAAAAAPA/\",\"dtype\":\"float64\",\"order\":\"little\",\"shape\":[48]},\"year\":[2014,2015,2016,2017,2014,2015,2016,2017,2014,2015,2016,2017,2014,2015,2016,2017,2014,2015,2016,2017,2014,2015,2016,2017,2014,2015,2016,2017,2014,2015,2016,2017,2014,2015,2016,2017,2014,2015,2016,2017,2014,2015,2016,2017,2014,2015,2016,2017],\"zvalues\":{\"__ndarray__\":\"EwmGN8KHI0CQVfuFETsjQFrutl2tWCNAI033kv5uI0AeZqE/Fb4jQD+8zuUHVyNAUc7ZERfxI0AQ3iOecfUkQI6xEevH3iRAlQ92QfLpJECscnumMgYlQDnZZtp9ECRAzCPwlvb+JUC51SswRtclQGcmpjCCJyZAkRUMeuvaJkCzcsF4NLYnQMtALpsBlCdAtrTkozXFJ0AGAKNo8z4nQDlSNwTEeChAj2jfAH9OKEC58ZK5e9MoQJ2I9FXVrShAyvSFtoGEKEBhVLS7DrYoQE586uFzsShAb40VEdLqKEBqm3TiodQnQBLRfnQRFihAbJx3PswRKEDbhZRZPvwnQIBo/zSb9SZAHtcVHztdJ0Dg6qHYnGgnQDv3VePWQSdAZCv76hptJUASyV+UHLUlQMaPitcyNiZACXEt0hTTJUCpU90JfqYjQABpRxo+8yRAExK/cjJwJUAygEXg+CkkQMKjuFbHIiNAJ5WMkJLhI0DYURFYLIgjQBO8gu+j3CNA\",\"dtype\":\"float64\",\"order\":\"little\",\"shape\":[48]}},\"selected\":{\"id\":\"1582\"},\"selection_policy\":{\"id\":\"1603\"}},\"id\":\"1581\",\"type\":\"ColumnDataSource\"},{\"attributes\":{\"high\":12.458633932000081,\"low\":9.567927084006332,\"nan_color\":\"white\",\"palette\":[\"#440154\",\"#440255\",\"#440357\",\"#450558\",\"#45065a\",\"#45085b\",\"#46095c\",\"#460b5e\",\"#460c5f\",\"#460e61\",\"#470f62\",\"#471163\",\"#471265\",\"#471466\",\"#471567\",\"#471669\",\"#47186a\",\"#48196b\",\"#481a6c\",\"#481c6e\",\"#481d6f\",\"#481e70\",\"#482071\",\"#482172\",\"#482273\",\"#482374\",\"#472575\",\"#472676\",\"#472777\",\"#472878\",\"#472a79\",\"#472b7a\",\"#472c7b\",\"#462d7c\",\"#462f7c\",\"#46307d\",\"#46317e\",\"#45327f\",\"#45347f\",\"#453580\",\"#453681\",\"#443781\",\"#443982\",\"#433a83\",\"#433b83\",\"#433c84\",\"#423d84\",\"#423e85\",\"#424085\",\"#414186\",\"#414286\",\"#404387\",\"#404487\",\"#3f4587\",\"#3f4788\",\"#3e4888\",\"#3e4989\",\"#3d4a89\",\"#3d4b89\",\"#3d4c89\",\"#3c4d8a\",\"#3c4e8a\",\"#3b508a\",\"#3b518a\",\"#3a528b\",\"#3a538b\",\"#39548b\",\"#39558b\",\"#38568b\",\"#38578c\",\"#37588c\",\"#37598c\",\"#365a8c\",\"#365b8c\",\"#355c8c\",\"#355d8c\",\"#345e8d\",\"#345f8d\",\"#33608d\",\"#33618d\",\"#32628d\",\"#32638d\",\"#31648d\",\"#31658d\",\"#31668d\",\"#30678d\",\"#30688d\",\"#2f698d\",\"#2f6a8d\",\"#2e6b8e\",\"#2e6c8e\",\"#2e6d8e\",\"#2d6e8e\",\"#2d6f8e\",\"#2c708e\",\"#2c718e\",\"#2c728e\",\"#2b738e\",\"#2b748e\",\"#2a758e\",\"#2a768e\",\"#2a778e\",\"#29788e\",\"#29798e\",\"#287a8e\",\"#287a8e\",\"#287b8e\",\"#277c8e\",\"#277d8e\",\"#277e8e\",\"#267f8e\",\"#26808e\",\"#26818e\",\"#25828e\",\"#25838d\",\"#24848d\",\"#24858d\",\"#24868d\",\"#23878d\",\"#23888d\",\"#23898d\",\"#22898d\",\"#228a8d\",\"#228b8d\",\"#218c8d\",\"#218d8c\",\"#218e8c\",\"#208f8c\",\"#20908c\",\"#20918c\",\"#1f928c\",\"#1f938b\",\"#1f948b\",\"#1f958b\",\"#1f968b\",\"#1e978a\",\"#1e988a\",\"#1e998a\",\"#1e998a\",\"#1e9a89\",\"#1e9b89\",\"#1e9c89\",\"#1e9d88\",\"#1e9e88\",\"#1e9f88\",\"#1ea087\",\"#1fa187\",\"#1fa286\",\"#1fa386\",\"#20a485\",\"#20a585\",\"#21a685\",\"#21a784\",\"#22a784\",\"#23a883\",\"#23a982\",\"#24aa82\",\"#25ab81\",\"#26ac81\",\"#27ad80\",\"#28ae7f\",\"#29af7f\",\"#2ab07e\",\"#2bb17d\",\"#2cb17d\",\"#2eb27c\",\"#2fb37b\",\"#30b47a\",\"#32b57a\",\"#33b679\",\"#35b778\",\"#36b877\",\"#38b976\",\"#39b976\",\"#3bba75\",\"#3dbb74\",\"#3ebc73\",\"#40bd72\",\"#42be71\",\"#44be70\",\"#45bf6f\",\"#47c06e\",\"#49c16d\",\"#4bc26c\",\"#4dc26b\",\"#4fc369\",\"#51c468\",\"#53c567\",\"#55c666\",\"#57c665\",\"#59c764\",\"#5bc862\",\"#5ec961\",\"#60c960\",\"#62ca5f\",\"#64cb5d\",\"#67cc5c\",\"#69cc5b\",\"#6bcd59\",\"#6dce58\",\"#70ce56\",\"#72cf55\",\"#74d054\",\"#77d052\",\"#79d151\",\"#7cd24f\",\"#7ed24e\",\"#81d34c\",\"#83d34b\",\"#86d449\",\"#88d547\",\"#8bd546\",\"#8dd644\",\"#90d643\",\"#92d741\",\"#95d73f\",\"#97d83e\",\"#9ad83c\",\"#9dd93a\",\"#9fd938\",\"#a2da37\",\"#a5da35\",\"#a7db33\",\"#aadb32\",\"#addc30\",\"#afdc2e\",\"#b2dd2c\",\"#b5dd2b\",\"#b7dd29\",\"#bade27\",\"#bdde26\",\"#bfdf24\",\"#c2df22\",\"#c5df21\",\"#c7e01f\",\"#cae01e\",\"#cde01d\",\"#cfe11c\",\"#d2e11b\",\"#d4e11a\",\"#d7e219\",\"#dae218\",\"#dce218\",\"#dfe318\",\"#e1e318\",\"#e4e318\",\"#e7e419\",\"#e9e419\",\"#ece41a\",\"#eee51b\",\"#f1e51c\",\"#f3e51e\",\"#f6e61f\",\"#f8e621\",\"#fae622\",\"#fde724\"]},\"id\":\"1580\",\"type\":\"LinearColorMapper\"},{\"attributes\":{\"bottom_units\":\"screen\",\"fill_alpha\":0.5,\"fill_color\":\"lightgrey\",\"left_units\":\"screen\",\"level\":\"overlay\",\"line_alpha\":1.0,\"line_color\":\"black\",\"line_dash\":[4,4],\"line_width\":2,\"right_units\":\"screen\",\"top_units\":\"screen\"},\"id\":\"1572\",\"type\":\"BoxAnnotation\"},{\"attributes\":{\"fill_alpha\":{\"value\":0.1},\"fill_color\":{\"field\":\"zvalues\",\"transform\":{\"id\":\"1580\"}},\"height\":{\"field\":\"height\",\"units\":\"data\"},\"line_alpha\":{\"value\":0},\"line_color\":{\"value\":\"#1f77b4\"},\"width\":{\"field\":\"width\",\"units\":\"data\"},\"x\":{\"field\":\"month\"},\"y\":{\"field\":\"year\"}},\"id\":\"1585\",\"type\":\"Rect\"},{\"attributes\":{\"end\":12.5,\"reset_end\":12.5,\"reset_start\":0.5,\"start\":0.5,\"tags\":[[[\"month\",\"month\",null]]]},\"id\":\"1547\",\"type\":\"Range1d\"},{\"attributes\":{\"fill_color\":{\"field\":\"zvalues\",\"transform\":{\"id\":\"1580\"}},\"height\":{\"field\":\"height\",\"units\":\"data\"},\"line_alpha\":{\"value\":0},\"line_color\":{\"value\":\"#1f77b4\"},\"width\":{\"field\":\"width\",\"units\":\"data\"},\"x\":{\"field\":\"month\"},\"y\":{\"field\":\"year\"}},\"id\":\"1586\",\"type\":\"Rect\"},{\"attributes\":{},\"id\":\"1592\",\"type\":\"BasicTickFormatter\"},{\"attributes\":{\"text\":\"\",\"text_color\":{\"value\":\"black\"},\"text_font_size\":{\"value\":\"12pt\"}},\"id\":\"1551\",\"type\":\"Title\"},{\"attributes\":{},\"id\":\"1601\",\"type\":\"BasicTickFormatter\"},{\"attributes\":{\"fill_color\":{\"field\":\"zvalues\",\"transform\":{\"id\":\"1580\"}},\"height\":{\"field\":\"height\",\"units\":\"data\"},\"line_alpha\":{\"value\":0},\"line_color\":{\"value\":\"#1f77b4\"},\"width\":{\"field\":\"width\",\"units\":\"data\"},\"x\":{\"field\":\"month\"},\"y\":{\"field\":\"year\"}},\"id\":\"1584\",\"type\":\"Rect\"},{\"attributes\":{\"callback\":null,\"renderers\":[{\"id\":\"1587\"}],\"tags\":[\"hv_created\"],\"tooltips\":[[\"month\",\"@{month}\"],[\"year\",\"@{year}\"],[\"tripduration\",\"@{tripduration}\"]]},\"id\":\"1549\",\"type\":\"HoverTool\"},{\"attributes\":{},\"id\":\"1571\",\"type\":\"ResetTool\"},{\"attributes\":{},\"id\":\"1555\",\"type\":\"LinearScale\"},{\"attributes\":{\"active_drag\":\"auto\",\"active_inspect\":\"auto\",\"active_multi\":null,\"active_scroll\":\"auto\",\"active_tap\":\"auto\",\"tools\":[{\"id\":\"1549\"},{\"id\":\"1567\"},{\"id\":\"1568\"},{\"id\":\"1569\"},{\"id\":\"1570\"},{\"id\":\"1571\"}]},\"id\":\"1573\",\"type\":\"Toolbar\"},{\"attributes\":{\"align\":null,\"below\":[{\"id\":\"1559\"}],\"center\":[{\"id\":\"1562\"},{\"id\":\"1566\"}],\"left\":[{\"id\":\"1563\"}],\"margin\":null,\"min_border_bottom\":10,\"min_border_left\":10,\"min_border_right\":10,\"min_border_top\":10,\"plot_height\":300,\"plot_width\":700,\"renderers\":[{\"id\":\"1587\"}],\"right\":[{\"id\":\"1590\"}],\"sizing_mode\":\"fixed\",\"title\":{\"id\":\"1551\"},\"toolbar\":{\"id\":\"1573\"},\"x_range\":{\"id\":\"1547\"},\"x_scale\":{\"id\":\"1555\"},\"y_range\":{\"id\":\"1548\"},\"y_scale\":{\"id\":\"1557\"}},\"id\":\"1550\",\"subtype\":\"Figure\",\"type\":\"Plot\"},{\"attributes\":{},\"id\":\"1569\",\"type\":\"WheelZoomTool\"},{\"attributes\":{},\"id\":\"1589\",\"type\":\"BasicTicker\"},{\"attributes\":{},\"id\":\"1568\",\"type\":\"PanTool\"},{\"attributes\":{\"overlay\":{\"id\":\"1572\"}},\"id\":\"1570\",\"type\":\"BoxZoomTool\"},{\"attributes\":{},\"id\":\"1567\",\"type\":\"SaveTool\"},{\"attributes\":{\"source\":{\"id\":\"1581\"}},\"id\":\"1588\",\"type\":\"CDSView\"},{\"attributes\":{\"data_source\":{\"id\":\"1581\"},\"glyph\":{\"id\":\"1584\"},\"hover_glyph\":null,\"muted_glyph\":null,\"nonselection_glyph\":{\"id\":\"1585\"},\"selection_glyph\":{\"id\":\"1586\"},\"view\":{\"id\":\"1588\"}},\"id\":\"1587\",\"type\":\"GlyphRenderer\"},{\"attributes\":{\"axis_label\":\"year\",\"bounds\":\"auto\",\"formatter\":{\"id\":\"1594\"},\"major_label_orientation\":\"horizontal\",\"ticker\":{\"id\":\"1564\"}},\"id\":\"1563\",\"type\":\"LinearAxis\"},{\"attributes\":{},\"id\":\"1564\",\"type\":\"BasicTicker\"},{\"attributes\":{\"axis\":{\"id\":\"1563\"},\"dimension\":1,\"grid_line_color\":null,\"ticker\":null},\"id\":\"1566\",\"type\":\"Grid\"},{\"attributes\":{\"margin\":[5,5,5,5],\"name\":\"HSpacer02974\",\"sizing_mode\":\"stretch_width\"},\"id\":\"1614\",\"type\":\"Spacer\"},{\"attributes\":{\"children\":[{\"id\":\"1546\"},{\"id\":\"1550\"},{\"id\":\"1614\"}],\"margin\":[0,0,0,0],\"name\":\"Row02969\",\"tags\":[\"embedded\"]},\"id\":\"1545\",\"type\":\"Row\"},{\"attributes\":{\"axis\":{\"id\":\"1559\"},\"grid_line_color\":null,\"ticker\":null},\"id\":\"1562\",\"type\":\"Grid\"}],\"root_ids\":[\"1545\"]},\"title\":\"Bokeh Application\",\"version\":\"2.2.1\"}};\n",
       "  var render_items = [{\"docid\":\"1fff6953-757b-40e4-86af-199ad7337cbf\",\"root_ids\":[\"1545\"],\"roots\":{\"1545\":\"e3c8150c-eb8a-404b-92de-bca715d3cd65\"}}];\n",
       "  root.Bokeh.embed.embed_items_notebook(docs_json, render_items);\n",
       "  }\n",
       "if (root.Bokeh !== undefined) {\n",
       "    embed_document(root);\n",
       "  } else {\n",
       "    var attempts = 0;\n",
       "    var timer = setInterval(function(root) {\n",
       "      if (root.Bokeh !== undefined) {\n",
       "        clearInterval(timer);\n",
       "        embed_document(root);\n",
       "      } else if (document.readyState == \"complete\") {\n",
       "        attempts++;\n",
       "        if (attempts > 100) {\n",
       "          clearInterval(timer);\n",
       "          console.log(\"Bokeh: ERROR: Unable to run BokehJS code because BokehJS library is missing\");\n",
       "        }\n",
       "      }\n",
       "    }, 10, root)\n",
       "  }\n",
       "})(window);</script>"
      ],
      "text/plain": [
       ":HeatMap   [month,year]   (tripduration)"
      ]
     },
     "execution_count": 17,
     "metadata": {
      "application/vnd.holoviews_exec.v0+json": {
       "id": "1545"
      }
     },
     "output_type": "execute_result"
    }
   ],
   "source": [
    "df.hvplot.heatmap(x='month', y='year', C='tripduration', \n",
    "                  reduce_function=cudf.DataFrame.mean , colorbar=True, cmap=\"Viridis\")"
   ]
  },
  {
   "cell_type": "markdown",
   "metadata": {},
   "source": [
    "So what we saw hinted at with the trip duration slider is much more clearly shown in this literal heatmap *(ba-dom-tss)*. \n",
    "\n"
   ]
  },
  {
   "cell_type": "markdown",
   "metadata": {},
   "source": [
    "## Trip Geography\n",
    "Temperature and months aside, we might also want to bin the data geographically to check for anomalies. The `hvplot.hexbin` can show the counts for trip starts overlaid on a tile map:"
   ]
  },
  {
   "cell_type": "code",
   "execution_count": 18,
   "metadata": {},
   "outputs": [
    {
     "data": {},
     "metadata": {},
     "output_type": "display_data"
    },
    {
     "data": {
      "application/vnd.holoviews_exec.v0+json": "",
      "text/html": [
       "<div id='1663'>\n",
       "\n",
       "\n",
       "\n",
       "\n",
       "\n",
       "  <div class=\"bk-root\" id=\"ea41800d-5299-4d62-bbb5-6a11cc3aa489\" data-root-id=\"1663\"></div>\n",
       "</div>\n",
       "<script type=\"application/javascript\">(function(root) {\n",
       "  function embed_document(root) {\n",
       "  var docs_json = {\"1d07a1ba-4372-45ad-9534-9eba28d72cbf\":{\"roots\":{\"references\":[{\"attributes\":{},\"id\":\"1735\",\"type\":\"Selection\"},{\"attributes\":{\"bar_line_color\":\"black\",\"color_mapper\":{\"id\":\"1733\"},\"formatter\":{\"id\":\"1746\"},\"label_standoff\":8,\"location\":[0,0],\"major_tick_line_color\":\"black\",\"ticker\":{\"id\":\"1742\"}},\"id\":\"1743\",\"type\":\"ColorBar\"},{\"attributes\":{},\"id\":\"1748\",\"type\":\"UnionRenderers\"},{\"attributes\":{},\"id\":\"1746\",\"type\":\"BasicTickFormatter\"},{\"attributes\":{},\"id\":\"1742\",\"type\":\"BasicTicker\"},{\"attributes\":{\"aspect_scale\":1.736729586956615,\"fill_color\":{\"field\":\"Count\",\"transform\":{\"id\":\"1733\"}},\"line_color\":{\"field\":\"Count\",\"transform\":{\"id\":\"1733\"}},\"q\":{\"field\":\"q\"},\"r\":{\"field\":\"r\"},\"size\":653.4204199090724},\"id\":\"1737\",\"type\":\"HexTile\"},{\"attributes\":{\"dimension\":\"lon\"},\"id\":\"1706\",\"type\":\"MercatorTicker\"},{\"attributes\":{\"aspect_scale\":1.736729586956615,\"fill_alpha\":{\"value\":0.1},\"fill_color\":{\"field\":\"Count\",\"transform\":{\"id\":\"1733\"}},\"line_alpha\":{\"value\":0.1},\"line_color\":{\"field\":\"Count\",\"transform\":{\"id\":\"1733\"}},\"q\":{\"field\":\"q\"},\"r\":{\"field\":\"r\"},\"size\":653.4204199090724},\"id\":\"1738\",\"type\":\"HexTile\"},{\"attributes\":{\"axis_label\":\"y\",\"bounds\":\"auto\",\"formatter\":{\"id\":\"1709\"},\"major_label_orientation\":\"horizontal\",\"ticker\":{\"id\":\"1708\"}},\"id\":\"1687\",\"type\":\"LinearAxis\"},{\"attributes\":{\"bottom_units\":\"screen\",\"fill_alpha\":0.5,\"fill_color\":\"lightgrey\",\"left_units\":\"screen\",\"level\":\"overlay\",\"line_alpha\":1.0,\"line_color\":\"black\",\"line_dash\":[4,4],\"line_width\":2,\"right_units\":\"screen\",\"top_units\":\"screen\"},\"id\":\"1696\",\"type\":\"BoxAnnotation\"},{\"attributes\":{\"attribution\":\"&copy; <a href=\\\"https://www.openstreetmap.org/copyright\\\">OpenStreetMap</a> contributors\",\"url\":\"http://c.tile.openstreetmap.org/{Z}/{X}/{Y}.png\"},\"id\":\"1726\",\"type\":\"WMTSTileSource\"},{\"attributes\":{\"margin\":[5,5,5,5],\"name\":\"HSpacer04575\",\"sizing_mode\":\"stretch_width\"},\"id\":\"1664\",\"type\":\"Spacer\"},{\"attributes\":{\"margin\":[5,5,5,5],\"name\":\"HSpacer04576\",\"sizing_mode\":\"stretch_width\"},\"id\":\"1825\",\"type\":\"Spacer\"},{\"attributes\":{\"data\":{\"Count\":[267,7836,26,1522,5678,1026,458,1211,126730,9633,12897,681,25727,13961,14808,91525,666,1973,18056,813,4909,3479,3453,54,5,2970,5248,28,16322,13473,7092,491,1516,96,111435,32334,432,27688,48238,826,1978,137,6827,15415,480,27,159,15757,132115,451,20324,87,43570,94,1630,4299,159370,13851,1804,91122,16139,14271,8674,3890,770,56302,1027,1174,109137,38146,11346,18466,12983,39304,46,41955,12325,9,1307,14693,4267,656,4,26903,4825,9179,27127,123,3096,3415,3272,5920,2515,923,5139,4577,856,7,22653,356,1496,16402,4203,15697,32910,14818,24939,21297,782,2675,2827,157,106,29862,9,85139,73,20736,474,234,1381,6624,4962,27582,3904,10026,2399,54872,624,1165,62,599,1396,145,40661,372,622,94,105865,12487,304,576,40405,26370,72499,18182,27,2141,1046,14811,37088,18240,5496,553,29,75,4234,64289,60857,15512,169,15,36087,38459,5635,5059,10115,9055,62401,193713,428,34128,49897,254,31417,94814,608,26,177,36489,37472,47699,21225,24357,32,5290,7289,300,4548,95,105,37816,187,306,148,2622,11000,1114,15,189596,7136,37155,90686,50648,699,1061,1031,27,50,105,25834,140,2475,913,1229,4708,1488,2266,1647,8544,3663,11571,63342,69401,14749,96014,7317,402,17089,1042,101,6403,1581,5824,1421,82853,34448,776,10,116297,1531,8582,705,56515,67031,62,2980,47221,4161,59204,1207,99537,164283,183,3085,1301,4000,8652,2455,2488,4040,14275,2506,33007,112,154,256723,434,5810,1051,20747,116,4496,272,3520,2237,8077,670,26814,42205,17790,200889,804,62106,11775,58719,60113,551,10342,2186,554,2798,248,150,1409,16393,12880,4584,63941,20874,354,3897,192078,2534,879,237,799,11704,4380,240,2899,32,291097,68,58258,24415,14223,194,211,16407,861,16404,91,22997,52018,8106,41440,2830,967,6105,20,24989,29041,3385,16830,2815,1486,7730,6140,1774,31580,19328,8473,138679,8179,146,31051,76,6688,38039,3723,7633,5,4362,3158,9213,63341,6578,1879,1045,14704,16312,97106,2098,2,56677,1459,1430,481,1327,149,189,108150,44671,3706,31848,124686,11952,45,495,1929,146,12645,1566,164,579219,3582,51116,86226,2423,37930,14884,50237,1126,591,1427,5030,3467,22,2069,211,82717,4141,407,709,8707,964,722,4574,272087,141590,3342,6424,3561,39012,306,291,1229,9462,444,219,14252,34493,315,194665,9202,58350,1554,22787,14105,145,8746,9502,818,11941,35712],\"q\":[-12351,-12353,-12360,-12349,-12344,-12353,-12359,-12349,-12347,-12351,-12347,-12346,-12355,-12345,-12344,-12343,-12358,-12374,-12353,-12349,-12350,-12353,-12356,-12347,-12360,-12348,-12353,-12354,-12344,-12356,-12350,-12347,-12347,-12350,-12344,-12348,-12360,-12348,-12344,-12357,-12346,-12358,-12355,-12351,-12360,-12347,-12352,-12345,-12346,-12358,-12352,-12352,-12347,-12352,-12358,-12346,-12345,-12348,-12375,-12347,-12348,-12346,-12350,-12356,-12372,-12343,-12375,-12347,-12346,-12344,-12354,-12342,-12351,-12352,-12358,-12345,-12350,-12358,-12343,-12354,-12344,-12361,-12360,-12354,-12355,-12353,-12351,-12369,-12354,-12342,-12354,-12353,-12352,-12341,-12357,-12354,-12359,-12342,-12349,-12347,-12358,-12349,-12351,-12351,-12354,-12347,-12349,-12349,-12356,-12351,-12358,-12349,-12359,-12353,-12358,-12346,-12348,-12345,-12357,-12362,-12344,-12342,-12352,-12347,-12346,-12353,-12347,-12350,-12360,-12359,-12369,-12373,-12349,-12359,-12346,-12363,-12359,-12355,-12344,-12350,-12353,-12342,-12351,-12349,-12342,-12347,-12366,-12358,-12344,-12352,-12345,-12346,-12354,-12362,-12357,-12366,-12342,-12347,-12347,-12347,-12351,-12356,-12345,-12345,-12347,-12350,-12348,-12350,-12344,-12347,-12341,-12347,-12348,-12356,-12348,-12342,-12352,-12353,-12362,-12346,-12346,-12350,-12350,-12346,-12356,-12346,-12342,-12355,-12355,-12356,-12357,-12348,-12355,-12351,-12363,-12351,-12354,-12356,-12349,-12346,-12352,-12348,-12344,-12349,-12370,-12348,-12345,-12357,-12354,-12348,-12345,-12341,-12353,-12349,-12343,-12356,-12348,-12357,-12346,-12342,-12358,-12354,-12346,-12344,-12348,-12349,-12344,-12371,-12349,-12350,-12344,-12345,-12348,-12343,-12351,-12345,-12347,-12349,-12351,-12345,-12349,-12348,-12346,-12347,-12350,-12365,-12341,-12346,-12351,-12350,-12345,-12344,-12343,-12342,-12351,-12356,-12349,-12345,-12355,-12342,-12350,-12346,-12353,-12352,-12367,-12368,-12344,-12345,-12346,-12345,-12341,-12363,-12352,-12360,-12344,-12346,-12347,-12347,-12351,-12343,-12343,-12346,-12361,-12343,-12343,-12345,-12343,-12345,-12344,-12357,-12345,-12341,-12350,-12354,-12358,-12342,-12352,-12353,-12344,-12346,-12370,-12340,-12345,-12354,-12343,-12367,-12373,-12350,-12351,-12369,-12349,-12355,-12348,-12363,-12351,-12348,-12352,-12346,-12346,-12353,-12345,-12343,-12365,-12348,-12352,-12342,-12347,-12355,-12347,-12349,-12347,-12344,-12345,-12355,-12343,-12357,-12353,-12347,-12345,-12354,-12348,-12349,-12343,-12344,-12342,-12354,-12346,-12359,-12350,-12351,-12359,-12343,-12357,-12351,-12344,-12345,-12351,-12357,-12352,-12373,-12345,-12346,-12345,-12356,-12345,-12352,-12344,-12352,-12350,-12346,-12361,-12344,-12349,-12350,-12357,-12343,-12344,-12345,-12359,-12349,-12345,-12351,-12354,-12358,-12370,-12347,-12353,-12353,-12347,-12352,-12351,-12342,-12346,-12360,-12374,-12348,-12350,-12341,-12360,-12343,-12352,-12344,-12352,-12344,-12353,-12347,-12355,-12372,-12349,-12346,-12343,-12340,-12352,-12350,-12346,-12356,-12353,-12358,-12355,-12359,-12370,-12351,-12350,-12350,-12345,-12355,-12343,-12357,-12347,-12355,-12364,-12349,-12347,-12354,-12356,-12347],\"r\":[-5232,-5254,-5230,-5263,-5264,-5260,-5246,-5236,-5249,-5241,-5240,-5231,-5255,-5245,-5245,-5251,-5257,-5249,-5249,-5237,-5254,-5261,-5250,-5228,-5231,-5244,-5245,-5226,-5234,-5253,-5257,-5230,-5265,-5228,-5251,-5256,-5259,-5246,-5258,-5249,-5239,-5239,-5251,-5255,-5242,-5245,-5229,-5241,-5245,-5241,-5244,-5230,-5255,-5228,-5240,-5233,-5250,-5258,-5248,-5252,-5243,-5252,-5244,-5246,-5248,-5259,-5247,-5264,-5254,-5260,-5253,-5261,-5249,-5252,-5231,-5252,-5260,-5230,-5229,-5251,-5266,-5242,-5234,-5246,-5244,-5252,-5248,-5247,-5260,-5271,-5243,-5248,-5261,-5275,-5254,-5257,-5259,-5227,-5245,-5229,-5244,-5260,-5243,-5247,-5254,-5260,-5240,-5257,-5240,-5261,-5258,-5239,-5235,-5253,-5234,-5246,-5227,-5243,-5236,-5248,-5275,-5273,-5240,-5259,-5236,-5247,-5237,-5246,-5248,-5254,-5246,-5246,-5232,-5236,-5251,-5242,-5260,-5226,-5256,-5252,-5238,-5272,-5246,-5246,-5255,-5261,-5246,-5248,-5232,-5248,-5262,-5242,-5255,-5243,-5237,-5247,-5268,-5246,-5253,-5258,-5228,-5229,-5254,-5253,-5242,-5241,-5260,-5255,-5259,-5247,-5276,-5244,-5255,-5239,-5250,-5249,-5236,-5228,-5247,-5250,-5259,-5248,-5249,-5256,-5235,-5262,-5266,-5227,-5256,-5236,-5230,-5254,-5234,-5229,-5246,-5260,-5252,-5243,-5229,-5248,-5254,-5257,-5252,-5253,-5250,-5264,-5266,-5234,-5235,-5228,-5257,-5229,-5262,-5238,-5230,-5245,-5235,-5256,-5240,-5267,-5255,-5244,-5255,-5254,-5259,-5247,-5235,-5247,-5261,-5235,-5228,-5236,-5238,-5267,-5263,-5251,-5251,-5243,-5226,-5249,-5234,-5261,-5232,-5256,-5247,-5247,-5273,-5253,-5262,-5251,-5273,-5253,-5249,-5228,-5245,-5260,-5262,-5246,-5247,-5269,-5243,-5243,-5242,-5251,-5248,-5249,-5248,-5272,-5241,-5267,-5260,-5248,-5257,-5236,-5265,-5267,-5235,-5266,-5244,-5255,-5260,-5249,-5243,-5256,-5254,-5255,-5252,-5230,-5236,-5251,-5269,-5269,-5233,-5230,-5252,-5263,-5249,-5251,-5257,-5260,-5248,-5275,-5248,-5258,-5231,-5247,-5247,-5256,-5257,-5250,-5242,-5233,-5247,-5243,-5251,-5233,-5253,-5228,-5266,-5244,-5231,-5262,-5248,-5248,-5246,-5265,-5234,-5259,-5232,-5252,-5226,-5261,-5258,-5258,-5245,-5250,-5239,-5243,-5235,-5240,-5249,-5249,-5263,-5249,-5264,-5229,-5258,-5232,-5240,-5253,-5243,-5261,-5233,-5240,-5247,-5263,-5252,-5253,-5262,-5248,-5261,-5235,-5256,-5256,-5227,-5250,-5269,-5260,-5231,-5238,-5246,-5229,-5248,-5250,-5243,-5258,-5250,-5234,-5233,-5255,-5237,-5238,-5250,-5242,-5247,-5248,-5256,-5246,-5250,-5258,-5250,-5248,-5244,-5245,-5246,-5241,-5234,-5267,-5233,-5268,-5226,-5255,-5243,-5268,-5234,-5262,-5241,-5246,-5259,-5247,-5250,-5274,-5241,-5261,-5261,-5232,-5232,-5245,-5253,-5258,-5249,-5242,-5245,-5230,-5247,-5252,-5248,-5248,-5254,-5249,-5247,-5244,-5241,-5236,-5252,-5257]},\"selected\":{\"id\":\"1735\"},\"selection_policy\":{\"id\":\"1748\"}},\"id\":\"1734\",\"type\":\"ColumnDataSource\"},{\"attributes\":{\"end\":-9735558.657939285,\"min_interval\":5,\"reset_end\":-9735558.657939285,\"reset_start\":-9784565.189432465,\"start\":-9784565.189432465,\"tags\":[[[\"longitude_start\",\"longitude_start\",null]]]},\"id\":\"1669\",\"type\":\"Range1d\"},{\"attributes\":{\"dimension\":\"lat\"},\"id\":\"1709\",\"type\":\"MercatorTickFormatter\"},{\"attributes\":{\"children\":[{\"id\":\"1664\"},{\"id\":\"1674\"},{\"id\":\"1825\"}],\"margin\":[0,0,0,0],\"name\":\"Row04571\",\"tags\":[\"embedded\"]},\"id\":\"1663\",\"type\":\"Row\"},{\"attributes\":{\"aspect_scale\":1.736729586956615,\"fill_alpha\":{\"value\":0.2},\"fill_color\":{\"field\":\"Count\",\"transform\":{\"id\":\"1733\"}},\"line_alpha\":{\"value\":0.2},\"line_color\":{\"field\":\"Count\",\"transform\":{\"id\":\"1733\"}},\"q\":{\"field\":\"q\"},\"r\":{\"field\":\"r\"},\"size\":653.4204199090724},\"id\":\"1739\",\"type\":\"HexTile\"},{\"attributes\":{\"dimension\":\"lon\"},\"id\":\"1707\",\"type\":\"MercatorTickFormatter\"},{\"attributes\":{\"axis\":{\"id\":\"1683\"},\"grid_line_color\":null,\"ticker\":null},\"id\":\"1686\",\"type\":\"Grid\"},{\"attributes\":{\"axis\":{\"id\":\"1687\"},\"dimension\":1,\"grid_line_color\":null,\"ticker\":null},\"id\":\"1690\",\"type\":\"Grid\"},{\"attributes\":{\"match_aspect\":true,\"overlay\":{\"id\":\"1696\"}},\"id\":\"1694\",\"type\":\"BoxZoomTool\"},{\"attributes\":{\"text\":\"\",\"text_color\":{\"value\":\"black\"},\"text_font_size\":{\"value\":\"12pt\"}},\"id\":\"1675\",\"type\":\"Title\"},{\"attributes\":{\"high\":579219,\"low\":2,\"palette\":[\"#b3fef5\",\"#b0fef5\",\"#adfdf5\",\"#a9fcf5\",\"#a6fbf6\",\"#a3faf6\",\"#a0faf6\",\"#9df9f6\",\"#9af8f6\",\"#97f7f6\",\"#93f7f6\",\"#90f6f6\",\"#8df5f6\",\"#8af4f7\",\"#87f3f7\",\"#83f2f7\",\"#80f2f7\",\"#7df1f7\",\"#79f0f7\",\"#76eff7\",\"#73eef7\",\"#6fedf8\",\"#6cecf8\",\"#68ecf8\",\"#65ebf8\",\"#61eaf8\",\"#5ee9f8\",\"#5ae8f8\",\"#57e7f8\",\"#53e6f8\",\"#50e5f9\",\"#4ce4f9\",\"#49e3f9\",\"#45e2f9\",\"#42e1f9\",\"#3ee0f9\",\"#3bdff9\",\"#38def9\",\"#35ddf9\",\"#32dcf9\",\"#30dbfa\",\"#2ed9fa\",\"#2dd8fa\",\"#2cd7fa\",\"#2bd6fa\",\"#2bd5fa\",\"#2ad3fa\",\"#2ad2fa\",\"#29d1fa\",\"#29d0fb\",\"#29cffb\",\"#28cdfb\",\"#28ccfb\",\"#28cbfb\",\"#28cafb\",\"#28c8fb\",\"#28c7fb\",\"#29c6fb\",\"#29c5fb\",\"#29c4fb\",\"#29c2fb\",\"#2ac1fb\",\"#2ac0fb\",\"#2bbffb\",\"#2bbdfc\",\"#2cbcfc\",\"#2dbbfc\",\"#2db9fc\",\"#2eb8fc\",\"#2fb7fc\",\"#2fb6fc\",\"#30b4fc\",\"#31b3fc\",\"#32b2fc\",\"#32b0fc\",\"#33affc\",\"#33aefc\",\"#34adfc\",\"#34abfc\",\"#34aafc\",\"#35a9fc\",\"#35a8fc\",\"#35a6fc\",\"#35a5fc\",\"#35a4fc\",\"#35a3fc\",\"#35a1fc\",\"#35a0fc\",\"#359ffc\",\"#359dfc\",\"#359cfc\",\"#359bfc\",\"#349afd\",\"#3498fd\",\"#3497fd\",\"#3396fd\",\"#3395fd\",\"#3293fd\",\"#3292fd\",\"#3191fd\",\"#3090fd\",\"#308ffd\",\"#2f8dfd\",\"#2f8cfd\",\"#2e8bfd\",\"#2e8afd\",\"#2d88fd\",\"#2d87fd\",\"#2c86fd\",\"#2c84fd\",\"#2c83fd\",\"#2c82fd\",\"#2b81fd\",\"#2b7ffd\",\"#2b7efd\",\"#2b7dfd\",\"#2b7bfd\",\"#2b7afd\",\"#2b79fd\",\"#2b77fd\",\"#2b76fd\",\"#2b75fd\",\"#2b73fd\",\"#2c72fd\",\"#2c71fd\",\"#2c6ffd\",\"#2c6efd\",\"#2d6cfd\",\"#2d6bfd\",\"#2d6afc\",\"#2e68fc\",\"#2e67fc\",\"#2e65fc\",\"#2e64fc\",\"#2f62fc\",\"#2f61fc\",\"#2f5ffc\",\"#2f5efc\",\"#2f5dfc\",\"#2f5bfc\",\"#2f5afc\",\"#2f58fb\",\"#2f57fb\",\"#2f55fb\",\"#2f53fb\",\"#2f52fb\",\"#2f50fb\",\"#2f4ffb\",\"#2f4dfb\",\"#2e4cfb\",\"#2e4afb\",\"#2e48fb\",\"#2e47fa\",\"#2d45fa\",\"#2d43fa\",\"#2d42fa\",\"#2d40fa\",\"#2c3efa\",\"#2c3dfa\",\"#2b3bf9\",\"#2b39f9\",\"#2a37f9\",\"#2a36f8\",\"#2934f8\",\"#2832f7\",\"#2831f7\",\"#272ff6\",\"#262ef5\",\"#252cf5\",\"#252af4\",\"#2429f3\",\"#2327f2\",\"#2226f1\",\"#2124f0\",\"#2023ef\",\"#1f22ee\",\"#1e20ed\",\"#1d1feb\",\"#1c1eea\",\"#1b1ce9\",\"#1a1be7\",\"#181ae6\",\"#1719e5\",\"#1618e3\",\"#1417e1\",\"#1316e0\",\"#1215de\",\"#1014dc\",\"#0f13db\",\"#0e12d9\",\"#0d11d7\",\"#0c10d5\",\"#0b0fd3\",\"#0a0ed1\",\"#090dd0\",\"#080dce\",\"#080ccc\",\"#070bca\",\"#070ac8\",\"#0709c6\",\"#0708c4\",\"#0707c2\",\"#0707bf\",\"#0806bd\",\"#0806bb\",\"#0905b9\",\"#0904b7\",\"#0a04b5\",\"#0a04b2\",\"#0b03b0\",\"#0c03ae\",\"#0d02ab\",\"#0e02a9\",\"#0e02a7\",\"#0f02a4\",\"#0f01a2\",\"#1001a0\",\"#10019d\",\"#10019b\",\"#100199\",\"#100197\",\"#100194\",\"#0f0192\",\"#0f0190\",\"#0f018e\",\"#0e018b\",\"#0e0189\",\"#0d0187\",\"#0d0185\",\"#0c0183\",\"#0b0181\",\"#0b017e\",\"#0a017c\",\"#09017a\",\"#090178\",\"#080276\",\"#070274\",\"#060272\",\"#060270\",\"#05026e\",\"#04026c\",\"#030269\",\"#030267\",\"#020265\",\"#010263\",\"#010261\",\"#00025f\",\"#00025d\",\"#00025b\",\"#000259\",\"#000257\",\"#000255\",\"#000154\",\"#000152\",\"#000150\",\"#00004e\"]},\"id\":\"1733\",\"type\":\"LinearColorMapper\"},{\"attributes\":{\"zoom_on_axis\":false},\"id\":\"1693\",\"type\":\"WheelZoomTool\"},{\"attributes\":{\"dimension\":\"lat\"},\"id\":\"1708\",\"type\":\"MercatorTicker\"},{\"attributes\":{},\"id\":\"1679\",\"type\":\"LinearScale\"},{\"attributes\":{\"source\":{\"id\":\"1734\"}},\"id\":\"1741\",\"type\":\"CDSView\"},{\"attributes\":{},\"id\":\"1681\",\"type\":\"LinearScale\"},{\"attributes\":{},\"id\":\"1695\",\"type\":\"ResetTool\"},{\"attributes\":{\"active_drag\":\"auto\",\"active_inspect\":\"auto\",\"active_multi\":null,\"active_scroll\":\"auto\",\"active_tap\":\"auto\",\"tools\":[{\"id\":\"1671\"},{\"id\":\"1692\"},{\"id\":\"1693\"},{\"id\":\"1694\"},{\"id\":\"1695\"}]},\"id\":\"1697\",\"type\":\"Toolbar\"},{\"attributes\":{\"tile_source\":{\"id\":\"1726\"}},\"id\":\"1729\",\"type\":\"TileRenderer\"},{\"attributes\":{\"callback\":null,\"renderers\":[{\"id\":\"1740\"}],\"tags\":[\"hv_created\"],\"tooltips\":[[\"Count\",\"@{Count}\"]]},\"id\":\"1671\",\"type\":\"HoverTool\"},{\"attributes\":{\"align\":null,\"below\":[{\"id\":\"1683\"}],\"center\":[{\"id\":\"1686\"},{\"id\":\"1690\"}],\"frame_height\":800,\"frame_width\":800,\"left\":[{\"id\":\"1687\"}],\"margin\":null,\"match_aspect\":true,\"min_border_bottom\":10,\"min_border_left\":10,\"min_border_right\":10,\"min_border_top\":10,\"plot_height\":800,\"plot_width\":800,\"renderers\":[{\"id\":\"1729\"},{\"id\":\"1740\"}],\"right\":[{\"id\":\"1743\"}],\"sizing_mode\":\"fixed\",\"title\":{\"id\":\"1675\"},\"toolbar\":{\"id\":\"1697\"},\"x_range\":{\"id\":\"1669\"},\"x_scale\":{\"id\":\"1679\"},\"y_range\":{\"id\":\"1670\"},\"y_scale\":{\"id\":\"1681\"}},\"id\":\"1674\",\"subtype\":\"Figure\",\"type\":\"Plot\"},{\"attributes\":{},\"id\":\"1692\",\"type\":\"PanTool\"},{\"attributes\":{\"end\":5170618.093187381,\"min_interval\":5,\"reset_end\":5170618.093187381,\"reset_start\":5121611.5616942,\"start\":5121611.5616942,\"tags\":[[[\"latitude_start\",\"latitude_start\",null]]]},\"id\":\"1670\",\"type\":\"Range1d\"},{\"attributes\":{\"axis_label\":\"x\",\"bounds\":\"auto\",\"formatter\":{\"id\":\"1707\"},\"major_label_orientation\":\"horizontal\",\"ticker\":{\"id\":\"1706\"}},\"id\":\"1683\",\"type\":\"LinearAxis\"},{\"attributes\":{\"data_source\":{\"id\":\"1734\"},\"glyph\":{\"id\":\"1737\"},\"hover_glyph\":null,\"muted_glyph\":{\"id\":\"1739\"},\"nonselection_glyph\":{\"id\":\"1738\"},\"selection_glyph\":null,\"view\":{\"id\":\"1741\"}},\"id\":\"1740\",\"type\":\"GlyphRenderer\"}],\"root_ids\":[\"1663\"]},\"title\":\"Bokeh Application\",\"version\":\"2.2.1\"}};\n",
       "  var render_items = [{\"docid\":\"1d07a1ba-4372-45ad-9534-9eba28d72cbf\",\"root_ids\":[\"1663\"],\"roots\":{\"1663\":\"ea41800d-5299-4d62-bbb5-6a11cc3aa489\"}}];\n",
       "  root.Bokeh.embed.embed_items_notebook(docs_json, render_items);\n",
       "  }\n",
       "if (root.Bokeh !== undefined) {\n",
       "    embed_document(root);\n",
       "  } else {\n",
       "    var attempts = 0;\n",
       "    var timer = setInterval(function(root) {\n",
       "      if (root.Bokeh !== undefined) {\n",
       "        clearInterval(timer);\n",
       "        embed_document(root);\n",
       "      } else if (document.readyState == \"complete\") {\n",
       "        attempts++;\n",
       "        if (attempts > 100) {\n",
       "          clearInterval(timer);\n",
       "          console.log(\"Bokeh: ERROR: Unable to run BokehJS code because BokehJS library is missing\");\n",
       "        }\n",
       "      }\n",
       "    }, 10, root)\n",
       "  }\n",
       "})(window);</script>"
      ],
      "text/plain": [
       ":Overlay\n",
       "   .Tiles.I    :Tiles   [x,y]\n",
       "   .HexTiles.I :HexTiles   [longitude_start,latitude_start]"
      ]
     },
     "execution_count": 18,
     "metadata": {
      "application/vnd.holoviews_exec.v0+json": {
       "id": "1663"
      }
     },
     "output_type": "execute_result"
    }
   ],
   "source": [
    "df.hvplot.hexbin(x='longitude_start', y='latitude_start', geo=True, tiles=\"OSM\").opts(width=600, height=600)"
   ]
  },
  {
   "cell_type": "markdown",
   "metadata": {},
   "source": [
    "Interestingly there seems to be a strong concentration of trips in a core area that radiate outwards. Lets take note of that. \n",
    "\n",
    "The location of the data compared to a current system map also seems to show that everything is where it should be, without any extraneous data points or off map projections:\n",
    "\n",
    "<img src=\"../images/DivvyBikesStation_ map.png\" />"
   ]
  },
  {
   "cell_type": "markdown",
   "metadata": {},
   "source": [
    "## Data Cleanup\n",
    "Based on our inspection, this dataset is uncommonly well formatted and of high quality. But a little cleanup and formatting aids will make some things simpler in future notebooks. \n",
    "\n",
    "One thing that is missing is a list of just station id's and their coordinates. Let's generate that and save it for later. First, let's group by all the unique \"from\" and \"to\" station id values:"
   ]
  },
  {
   "cell_type": "code",
   "execution_count": 19,
   "metadata": {},
   "outputs": [],
   "source": [
    "from_ids = df.groupby(\"from_station_id\")\n",
    "to_ids = df.groupby(\"to_station_id\")"
   ]
  },
  {
   "cell_type": "markdown",
   "metadata": {},
   "source": [
    "It's possible (but unlikely) that a particular station is only a sink or source for trips. For good measure, let's make sure the group keys are identical:"
   ]
  },
  {
   "cell_type": "code",
   "execution_count": 20,
   "metadata": {},
   "outputs": [
    {
     "name": "stderr",
     "output_type": "stream",
     "text": [
      "/home/allan/anaconda3/envs/rapids16a/lib/python3.8/site-packages/cudf/core/groupby/groupby.py:85: UserWarning: GroupBy.groups() performance scales poorly with number of groups. Got 586 groups.\n",
      "  warnings.warn(\n"
     ]
    },
    {
     "data": {
      "text/plain": [
       "True"
      ]
     },
     "execution_count": 20,
     "metadata": {},
     "output_type": "execute_result"
    }
   ],
   "source": [
    "set(from_ids.groups) == set(to_ids.groups)"
   ]
  },
  {
   "cell_type": "markdown",
   "metadata": {},
   "source": [
    "Each group has items for a single station, which all have the same lat/lon. So let's make a new DataFrame by taking a representative from each group, then rename some columns:"
   ]
  },
  {
   "cell_type": "code",
   "execution_count": 21,
   "metadata": {},
   "outputs": [
    {
     "data": {
      "text/html": [
       "<div>\n",
       "<style scoped>\n",
       "    .dataframe tbody tr th:only-of-type {\n",
       "        vertical-align: middle;\n",
       "    }\n",
       "\n",
       "    .dataframe tbody tr th {\n",
       "        vertical-align: top;\n",
       "    }\n",
       "\n",
       "    .dataframe thead th {\n",
       "        text-align: right;\n",
       "    }\n",
       "</style>\n",
       "<table border=\"1\" class=\"dataframe\">\n",
       "  <thead>\n",
       "    <tr style=\"text-align: right;\">\n",
       "      <th></th>\n",
       "      <th>station_id</th>\n",
       "      <th>lat</th>\n",
       "      <th>lon</th>\n",
       "    </tr>\n",
       "  </thead>\n",
       "  <tbody>\n",
       "    <tr>\n",
       "      <th>0</th>\n",
       "      <td>2</td>\n",
       "      <td>41.872293</td>\n",
       "      <td>-87.624091</td>\n",
       "    </tr>\n",
       "    <tr>\n",
       "      <th>1</th>\n",
       "      <td>3</td>\n",
       "      <td>41.867226</td>\n",
       "      <td>-87.615355</td>\n",
       "    </tr>\n",
       "    <tr>\n",
       "      <th>2</th>\n",
       "      <td>4</td>\n",
       "      <td>41.856268</td>\n",
       "      <td>-87.613348</td>\n",
       "    </tr>\n",
       "    <tr>\n",
       "      <th>3</th>\n",
       "      <td>5</td>\n",
       "      <td>41.873958</td>\n",
       "      <td>-87.627739</td>\n",
       "    </tr>\n",
       "    <tr>\n",
       "      <th>4</th>\n",
       "      <td>6</td>\n",
       "      <td>41.885042</td>\n",
       "      <td>-87.612795</td>\n",
       "    </tr>\n",
       "    <tr>\n",
       "      <th>...</th>\n",
       "      <td>...</td>\n",
       "      <td>...</td>\n",
       "      <td>...</td>\n",
       "    </tr>\n",
       "    <tr>\n",
       "      <th>581</th>\n",
       "      <td>622</td>\n",
       "      <td>41.900363</td>\n",
       "      <td>-87.696704</td>\n",
       "    </tr>\n",
       "    <tr>\n",
       "      <th>582</th>\n",
       "      <td>623</td>\n",
       "      <td>41.872773</td>\n",
       "      <td>-87.623981</td>\n",
       "    </tr>\n",
       "    <tr>\n",
       "      <th>583</th>\n",
       "      <td>624</td>\n",
       "      <td>41.876268</td>\n",
       "      <td>-87.629155</td>\n",
       "    </tr>\n",
       "    <tr>\n",
       "      <th>584</th>\n",
       "      <td>625</td>\n",
       "      <td>42.041691</td>\n",
       "      <td>-87.680687</td>\n",
       "    </tr>\n",
       "    <tr>\n",
       "      <th>585</th>\n",
       "      <td>626</td>\n",
       "      <td>41.867491</td>\n",
       "      <td>-87.632190</td>\n",
       "    </tr>\n",
       "  </tbody>\n",
       "</table>\n",
       "<p>586 rows × 3 columns</p>\n",
       "</div>"
      ],
      "text/plain": [
       "     station_id        lat        lon\n",
       "0             2  41.872293 -87.624091\n",
       "1             3  41.867226 -87.615355\n",
       "2             4  41.856268 -87.613348\n",
       "3             5  41.873958 -87.627739\n",
       "4             6  41.885042 -87.612795\n",
       "..          ...        ...        ...\n",
       "581         622  41.900363 -87.696704\n",
       "582         623  41.872773 -87.623981\n",
       "583         624  41.876268 -87.629155\n",
       "584         625  42.041691 -87.680687\n",
       "585         626  41.867491 -87.632190\n",
       "\n",
       "[586 rows x 3 columns]"
      ]
     },
     "execution_count": 21,
     "metadata": {},
     "output_type": "execute_result"
    }
   ],
   "source": [
    "stations = from_ids.nth(1).to_pandas()\n",
    "stations.index.name = \"station_id\"\n",
    "stations.rename(columns={\"latitude_start\": \"lat\", \"longitude_start\": \"lon\"}, inplace=True)\n",
    "stations = stations.reset_index().filter([\"station_id\", \"lat\", \"lon\"])\n",
    "stations"
   ]
  },
  {
   "cell_type": "markdown",
   "metadata": {},
   "source": [
    "Finally write the results to \"stations.csv\" in our data directory:"
   ]
  },
  {
   "cell_type": "code",
   "execution_count": 1,
   "metadata": {},
   "outputs": [
    {
     "ename": "NameError",
     "evalue": "name 'stations' is not defined",
     "output_type": "error",
     "traceback": [
      "\u001b[0;31m---------------------------------------------------------------------------\u001b[0m",
      "\u001b[0;31mNameError\u001b[0m                                 Traceback (most recent call last)",
      "\u001b[0;32m<ipython-input-1-28a38c6294b4>\u001b[0m in \u001b[0;36m<module>\u001b[0;34m\u001b[0m\n\u001b[0;32m----> 1\u001b[0;31m \u001b[0mstations\u001b[0m\u001b[0;34m.\u001b[0m\u001b[0mto_csv\u001b[0m\u001b[0;34m(\u001b[0m\u001b[0mDATA_DIR\u001b[0m \u001b[0;34m/\u001b[0m \u001b[0;34m\"stations.csv\"\u001b[0m\u001b[0;34m,\u001b[0m \u001b[0mindex\u001b[0m\u001b[0;34m=\u001b[0m\u001b[0;32mFalse\u001b[0m\u001b[0;34m)\u001b[0m\u001b[0;34m\u001b[0m\u001b[0;34m\u001b[0m\u001b[0m\n\u001b[0m",
      "\u001b[0;31mNameError\u001b[0m: name 'stations' is not defined"
     ]
    }
   ],
   "source": [
    "stations.to_csv(DATA_DIR / \"stations.csv\", index=False)"
   ]
  },
  {
   "cell_type": "markdown",
   "metadata": {},
   "source": [
    "## Summary of the Data\n",
    "Overall this is an interesting and useful dataset. Our preliminary vetting found no issues with quality and already started to hint at areas to investigate:\n",
    "\n",
    "- Weekday vs Weekend trip counts\n",
    "- Bike trips vs weather correlation \n",
    "- Core vs Outward trip concentrations \n",
    "\n",
    "We will follow up with these findings in our next notebook."
   ]
  }
 ],
 "metadata": {
  "kernelspec": {
   "display_name": "Python 3",
   "language": "python",
   "name": "python3"
  },
  "language_info": {
   "codemirror_mode": {
    "name": "ipython",
    "version": 3
   },
   "file_extension": ".py",
   "mimetype": "text/x-python",
   "name": "python",
   "nbconvert_exporter": "python",
   "pygments_lexer": "ipython3",
   "version": "3.8.5"
  }
 },
 "nbformat": 4,
 "nbformat_minor": 4
}
