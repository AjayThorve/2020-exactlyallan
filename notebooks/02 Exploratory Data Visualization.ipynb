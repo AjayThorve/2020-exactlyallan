{
 "cells": [
  {
   "cell_type": "markdown",
   "metadata": {},
   "source": [
    "# Exploratory Data Visualization\n",
    "**First look what data you have and testing hunches**\n",
    "\n",
    "NOTE: goal is to show benifit of fast and easy crossfiltering of large(ish) dataset"
   ]
  },
  {
   "cell_type": "markdown",
   "metadata": {},
   "source": [
    "## Overview and Requirements\n",
    "Super short version of intro notebook and restate requirments"
   ]
  },
  {
   "cell_type": "markdown",
   "metadata": {},
   "source": [
    "## Imports\n"
   ]
  },
  {
   "cell_type": "code",
   "execution_count": null,
   "metadata": {},
   "outputs": [],
   "source": [
    "import cuxfilter\n",
    "import cudf\n",
    "import cugraph\n",
    "from pyproj import Proj, Transformer\n",
    "from pathlib import Path\n",
    "\n",
    "DATA_DIR = Path(\"../data\")\n",
    "FILENAME = Path(\"data.csv\")"
   ]
  },
  {
   "cell_type": "markdown",
   "metadata": {},
   "source": [
    "## Load Cleaned Data / Check"
   ]
  },
  {
   "cell_type": "code",
   "execution_count": null,
   "metadata": {},
   "outputs": [],
   "source": [
    "data = cudf.read_csv(DATA_DIR / FILENAME)"
   ]
  },
  {
   "cell_type": "markdown",
   "metadata": {},
   "source": [
    "## Intro to cuxfilter\n",
    "\n",
    "Cuxfilter is part of the Nvidia RAPIDS suite of open source software libraries and APIs, that gives you the ability to execute end-to-end data science and analytics pipelines entirely on GPUs.\n",
    "\n",
    "It acts as a connector library, which provides the connections between different visualization libraries and a GPU dataframe without much hassle. This also allows the user to use charts from different libraries in a single dashboard, while also providing the interaction."
   ]
  },
  {
   "cell_type": "markdown",
   "metadata": {},
   "source": [
    "## Charts \n",
    "\n",
    "### [API Documentation](https://docs.rapids.ai/api/cuxfilter/stable/charts/charts.html)\n",
    "\n",
    "\n",
    "#### [Example Dashboard 2](https://github.com/rapidsai/cuxfilter#example-1)\n",
    "\n",
    "<div>\n",
    "<img src=\"https://raw.githubusercontent.com/rapidsai/cuxfilter/branch-0.16/docs/_images/demo.gif\" width=\"800\" height=\"500\" style=\"margin-left:25%\"/>\n",
    "</div>\n",
    "\n",
    "#### [Example Dashboard 1](https://github.com/rapidsai/cuxfilter#example-2)\n",
    "\n",
    "<div>\n",
    "<img src=\"https://raw.githubusercontent.com/rapidsai/cuxfilter/branch-0.16/docs/_images/demo2.gif\" width=\"800\" height=\"500\" style=\"margin-left:25%\"/>\n",
    "</div>"
   ]
  },
  {
   "cell_type": "markdown",
   "metadata": {},
   "source": [
    "## Data Preprocessing"
   ]
  },
  {
   "cell_type": "markdown",
   "metadata": {},
   "source": [
    "#### Extract Edges"
   ]
  },
  {
   "cell_type": "code",
   "execution_count": null,
   "metadata": {},
   "outputs": [],
   "source": [
    "G = cugraph.Graph() \n",
    "G.from_cudf_edgelist(data, source='from_station_id', destination='to_station_id')\n",
    "edges = G.edges()"
   ]
  },
  {
   "cell_type": "code",
   "execution_count": null,
   "metadata": {},
   "outputs": [],
   "source": [
    "edges.head()"
   ]
  },
  {
   "cell_type": "markdown",
   "metadata": {},
   "source": [
    "#### Transform the coordinates to overlay it on top of a map in cuxfilter"
   ]
  },
  {
   "cell_type": "code",
   "execution_count": null,
   "metadata": {},
   "outputs": [],
   "source": [
    "def transform_coords(df, x='x', y='y'):\n",
    "    # Apply transformation\n",
    "    transform_4326_to_3857 = Transformer.from_crs('epsg:4326', 'epsg:3857')\n",
    "    df['x'], df['y'] = transform_4326_to_3857.transform(df[x].to_array(), df[y].to_array())\n",
    "    return df\n",
    "\n",
    "trips = transform_coords(data, x='latitude_start', y='longitude_start')"
   ]
  },
  {
   "cell_type": "markdown",
   "metadata": {},
   "source": [
    "#### Extract day_type from the dataset (weekend / weekday)"
   ]
  },
  {
   "cell_type": "code",
   "execution_count": null,
   "metadata": {},
   "outputs": [],
   "source": [
    "trips['day_type'] = 0\n",
    "#day =5 or 6 is weekend\n",
    "trips.loc[trips.query('day>4').index, 'day_type'] = 1"
   ]
  },
  {
   "cell_type": "markdown",
   "metadata": {},
   "source": [
    "#### Get global week number in the dataset"
   ]
  },
  {
   "cell_type": "code",
   "execution_count": null,
   "metadata": {},
   "outputs": [],
   "source": [
    "year0 = int(trips.year.min()) #2014\n",
    "\n",
    "\"\"\"\n",
    "trips.groupby('year').week.max().to_pandas().to_dict() is {2014: 52, 2015: 53, 2016: 53, 2017: 52}\n",
    "\n",
    "Since 2015 and 2016 have 53 weeks, we add 1 to global week count for their following years - 2016 & 2017\n",
    "(data.year/2016).astype('int') => returns 1 if year>=2016, else 0\n",
    "\"\"\"\n",
    "trips['all_time_week'] = data.week + 52*(data.year - year0) + (data.year/2016).astype('int')"
   ]
  },
  {
   "cell_type": "code",
   "execution_count": null,
   "metadata": {},
   "outputs": [],
   "source": [
    "# create a weekday string map\n",
    "days_of_week_map = {\n",
    "    0: 'sunday',\n",
    "    1: 'monday',\n",
    "    2: 'tuesday',\n",
    "    3: 'wednesday',\n",
    "    4: 'thursday',\n",
    "    5: 'friday',\n",
    "    6: 'saturday',\n",
    "}\n",
    "\n",
    "month_map = {\n",
    "    1: 'jan', 2: 'feb', 3: 'mar', 4: 'apr', 5: 'may', 6: 'jun', 7: 'jul', 8: 'aug', 9: 'sep', 10: 'oct', 11: 'nov', 12: 'dec'\n",
    "}\n",
    "day_type_map = {0:'weekday', 1:'weekend', '':'all'}"
   ]
  },
  {
   "cell_type": "code",
   "execution_count": null,
   "metadata": {},
   "outputs": [],
   "source": [
    "trips = trips[[\n",
    "    'year', 'month', 'week', 'day', 'hour', 'gender', 'from_station_name',\n",
    "    'from_station_id', 'to_station_id', 'x', 'y', 'from_station_name', 'to_station_name', 'all_time_week', 'day_type'\n",
    "]]\n",
    "trips.head()"
   ]
  },
  {
   "cell_type": "markdown",
   "metadata": {},
   "source": [
    "## cuxfilter example 1"
   ]
  },
  {
   "cell_type": "code",
   "execution_count": null,
   "metadata": {},
   "outputs": [],
   "source": [
    "cux_df = cuxfilter.DataFrame.from_dataframe(data)"
   ]
  },
  {
   "cell_type": "code",
   "execution_count": null,
   "metadata": {},
   "outputs": [],
   "source": [
    "charts = [\n",
    "    cuxfilter.charts.bar('hour', title='trips per hour'),\n",
    "    cuxfilter.charts.bar('month', x_label_map=month_map),\n",
    "    cuxfilter.charts.bar('day', x_label_map=days_of_week_map),\n",
    "    cuxfilter.charts.multi_select('year'),\n",
    "    cuxfilter.charts.multi_select('day_type', label_map=day_type_map),\n",
    "]\n",
    "\n",
    "#trips per hour\n",
    "d = cux_df.dashboard(charts, layout=cuxfilter.layouts.feature_and_double_base, title='Bike Trips Dashboard')\n",
    "\n",
    "# d.show() #default parameter -> notebook_url=\"http://localhost:8888\""
   ]
  },
  {
   "cell_type": "markdown",
   "metadata": {},
   "source": [
    "<img src=\"../images/cuxfilter_02_dashboard_1.png\" width=\"800\" height=\"500\" style=\"margin-left:25%\"/>"
   ]
  },
  {
   "cell_type": "markdown",
   "metadata": {},
   "source": [
    "## cuxfilter example 2"
   ]
  },
  {
   "cell_type": "code",
   "execution_count": null,
   "metadata": {},
   "outputs": [],
   "source": [
    "charts = [\n",
    "    cuxfilter.charts.bar('all_time_week', title='rides per week'),\n",
    "    cuxfilter.charts.heatmap(x='all_time_week', y='day', aggregate_col='temperature',\n",
    "                             aggregate_fn='mean', point_size=40, legend_position='right',\n",
    "                             title='mean temperature'),\n",
    "    cuxfilter.charts.multi_select('day_type', label_map=day_type_map),\n",
    "]\n",
    "\n",
    "d = cux_df.dashboard(charts, layout=cuxfilter.layouts.feature_and_base)\n",
    "\n",
    "# d.show() #default parameter -> notebook_url=\"http://localhost:8888\""
   ]
  },
  {
   "cell_type": "markdown",
   "metadata": {},
   "source": [
    "<img src=\"../images/cuxfilter_02_dashboard_2.png\" width=\"800\" height=\"500\" style=\"margin-left:25%\"/>"
   ]
  },
  {
   "cell_type": "markdown",
   "metadata": {},
   "source": [
    "## cuxfilter example 3"
   ]
  },
  {
   "cell_type": "code",
   "execution_count": null,
   "metadata": {},
   "outputs": [],
   "source": [
    "cux_df = cuxfilter.DataFrame.load_graph((trips, edges))"
   ]
  },
  {
   "cell_type": "code",
   "execution_count": null,
   "metadata": {},
   "outputs": [],
   "source": [
    "charts = [\n",
    "    cuxfilter.charts.graph(node_id='from_station_id',\n",
    "                        edge_source='src', edge_target='dst',\n",
    "                        node_aggregate_fn='count',\n",
    "                        node_pixel_shade_type='linear', node_point_size=35,\n",
    "                        edge_render_type='curved',#other option available -> 'curved'\n",
    "                        edge_transparency=0.5, tile_provider='CARTODBPOSITRON', title='Graph for trip source_stations (color by count)'\n",
    "                      ),\n",
    "    cuxfilter.charts.multi_select('year'),\n",
    "    cuxfilter.charts.multi_select('day_type', label_map=day_type_map),\n",
    "    cuxfilter.charts.bar('from_station_id'),\n",
    "    cuxfilter.charts.bar('to_station_id'),\n",
    "    cuxfilter.charts.view_dataframe(['from_station_name', 'from_station_id'], drop_duplicates=True)\n",
    "]\n",
    "\n",
    "d = cux_df.dashboard(charts, layout=cuxfilter.layouts.feature_and_triple_base, theme=cuxfilter.themes.rapids)\n",
    "\n",
    "# d.show() #default parameter -> notebook_url=\"http://localhost:8888\""
   ]
  },
  {
   "cell_type": "markdown",
   "metadata": {},
   "source": [
    "<img src=\"../images/cuxfilter_02_dashboard_3.png\" width=\"800\" height=\"500\" style=\"margin-left:25%\"/>"
   ]
  },
  {
   "cell_type": "markdown",
   "metadata": {},
   "source": [
    "## cuxfilter example 4"
   ]
  },
  {
   "cell_type": "markdown",
   "metadata": {},
   "source": [
    "#### Using force_atlas2 from cugraph to check important stations (non_geo spatial layout)"
   ]
  },
  {
   "cell_type": "code",
   "execution_count": null,
   "metadata": {},
   "outputs": [],
   "source": [
    "ITERATIONS=500\n",
    "THETA=1.0\n",
    "OPTIMIZE=True\n",
    "\n",
    "trips_force_atlas2_layout = cugraph.layout.force_atlas2(G, max_iter=100,\n",
    "                strong_gravity_mode=False,\n",
    "                outbound_attraction_distribution=True,\n",
    "                lin_log_mode=False,\n",
    "                barnes_hut_optimize=OPTIMIZE, barnes_hut_theta=THETA, verbose=True)"
   ]
  },
  {
   "cell_type": "code",
   "execution_count": null,
   "metadata": {},
   "outputs": [],
   "source": [
    "#merging force_atlas2 df with trips to get a final_df\n",
    "final_df = trips_force_atlas2_layout.merge(\n",
    "                trips[['from_station_id', 'from_station_name', 'year', 'hour', 'day_type', 'x', 'y']],\n",
    "                left_on='vertex',\n",
    "                right_on='from_station_id',\n",
    "                suffixes=('', '_original')\n",
    ")\n",
    "\n",
    "final_df.head()"
   ]
  },
  {
   "cell_type": "markdown",
   "metadata": {},
   "source": [
    "#### Cuxfilter Dashboard"
   ]
  },
  {
   "cell_type": "code",
   "execution_count": null,
   "metadata": {},
   "outputs": [],
   "source": [
    "cux_df = cuxfilter.DataFrame.load_graph((final_df, edges))"
   ]
  },
  {
   "cell_type": "code",
   "execution_count": null,
   "metadata": {},
   "outputs": [],
   "source": [
    "charts= [\n",
    "  cuxfilter.charts.graph(\n",
    "      edge_source='src', edge_target='dst', edge_color_palette=['gray', 'black'],node_pixel_shade_type='linear',\n",
    "      title='ForceAtlas2 Layout Graph', edge_render_type='curved'\n",
    "  ),\n",
    "  cuxfilter.charts.scatter(x='x_original', y='y_original', tile_provider='CARTODBPOSITRON',\n",
    "                           point_size=3, pixel_shade_type='linear', pixel_spread='spread',\n",
    "                          title='Original Layout'),\n",
    "\n",
    "  cuxfilter.charts.multi_select('year'),\n",
    "  cuxfilter.charts.multi_select('day_type', label_map={0:'weekday', 1:'weekend', '':'all'}),\n",
    "  cuxfilter.charts.bar('hour', title='Trips per hour'),\n",
    "  cuxfilter.charts.bar('from_station_id', title='Source station'),\n",
    "  cuxfilter.charts.view_dataframe(['from_station_id', 'from_station_name'], drop_duplicates=True)\n",
    "] \n",
    "d = cux_df.dashboard(charts, layout=cuxfilter.layouts.double_feature_quad_base, theme=cuxfilter.themes.rapids)\n",
    "\n",
    "# d.show() #default parameter -> notebook_url=\"http://localhost:8888\""
   ]
  },
  {
   "cell_type": "markdown",
   "metadata": {},
   "source": [
    "<img src=\"../images/cuxfilter_02_dashboard_4.png\" width=\"800\" height=\"500\" style=\"margin-left:25%\"/>"
   ]
  },
  {
   "cell_type": "markdown",
   "metadata": {},
   "source": [
    "## summary of interesting exploratory findings\n",
    "list of interesting patterns we found and want to continue to explore"
   ]
  },
  {
   "cell_type": "code",
   "execution_count": null,
   "metadata": {},
   "outputs": [],
   "source": []
  }
 ],
 "metadata": {
  "kernelspec": {
   "display_name": "Python 3",
   "language": "python",
   "name": "python3"
  },
  "language_info": {
   "codemirror_mode": {
    "name": "ipython",
    "version": 3
   },
   "file_extension": ".py",
   "mimetype": "text/x-python",
   "name": "python",
   "nbconvert_exporter": "python",
   "pygments_lexer": "ipython3",
   "version": "3.8.5"
  }
 },
 "nbformat": 4,
 "nbformat_minor": 4
}
