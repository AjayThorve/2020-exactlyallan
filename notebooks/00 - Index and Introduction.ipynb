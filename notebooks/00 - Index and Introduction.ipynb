{
 "cells": [
  {
   "cell_type": "markdown",
   "metadata": {},
   "source": [
    "# Using RAPIDS and Jupyter to accelerate visualization workflows"
   ]
  },
  {
   "cell_type": "markdown",
   "metadata": {},
   "source": [
    "# Introduction to RAPIDS\n",
    "quick write up of RAPIDS"
   ]
  },
  {
   "cell_type": "markdown",
   "metadata": {},
   "source": [
    "# Introduction to RAPIDS Visualization\n",
    "Overview, where its integrated"
   ]
  },
  {
   "cell_type": "markdown",
   "metadata": {},
   "source": [
    "## When to RAPIDS\n",
    "HPC computring, simulation, DL, ML, and analytics\n",
    "\n",
    "## GPU aggregation vs GPU rendering\n",
    "Server side compute, servier side render, client side compute, client side render ( in the contex of analytics)\n",
    "\n",
    "## When to use what RAPIDS viz type\n",
    "Will show examples in notebooks, but high level when to use single holoviews, deck.gl, bokeh, cuxfilter, datashader, plotly dash etc. "
   ]
  },
  {
   "cell_type": "markdown",
   "metadata": {},
   "source": [
    "# Hardware and Software Requirements\n",
    "What you need to run this notebook - and if we can provide some resources?"
   ]
  },
  {
   "cell_type": "markdown",
   "metadata": {},
   "source": [
    "# Index Notesbooks\n",
    "\n",
    "- 00 **Index (you are here)**\n",
    "- 01 **Data inspection and validation**\n",
    "- 02 **Exploratory data visualization**\n",
    "- 03 **Data analysis with visual analytics**\n",
    "- 04 **Explanatory data visualization**"
   ]
  }
 ],
 "metadata": {
  "kernelspec": {
   "display_name": "Python 3",
   "language": "python",
   "name": "python3"
  },
  "language_info": {
   "codemirror_mode": {
    "name": "ipython",
    "version": 3
   },
   "file_extension": ".py",
   "mimetype": "text/x-python",
   "name": "python",
   "nbconvert_exporter": "python",
   "pygments_lexer": "ipython3",
   "version": "3.7.6"
  }
 },
 "nbformat": 4,
 "nbformat_minor": 4
}
