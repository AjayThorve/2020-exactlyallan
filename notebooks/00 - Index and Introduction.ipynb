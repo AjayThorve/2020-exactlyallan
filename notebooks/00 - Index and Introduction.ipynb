{
 "cells": [
  {
   "cell_type": "markdown",
   "metadata": {},
   "source": [
    "# Using RAPIDS and Jupyter to Accelerate Visualization Workflows"
   ]
  },
  {
   "cell_type": "markdown",
   "metadata": {},
   "source": [
    "## Introduction to RAPIDS\n",
    "The RAPIDS suite of open source software libraries gives you the ability to execute end-to-end data science and analytics pipelines entirely on GPUs. This includes cuDF, a pandas-like dataframe manipulation library; cuML, a collection of machine learning libraries that provide GPU versions of algorithms available in scikit-learn; cuGraph, a NetworkX-like accelerated graph analytics library; and cuSpatial, a library for common spatial and spatiotemporal operations.\n",
    "\n",
    "For more general information, check out the **[RAPIDS.ai home page](https://rapids.ai/index.html)**.\n",
    "\n",
    "For a detailed presentation about RAPIDS and the latest release notes, visit the **[RAPIDS overview documentaiton](https://docs.rapids.ai/overview)**."
   ]
  },
  {
   "cell_type": "markdown",
   "metadata": {},
   "source": [
    "## Introduction to RAPIDS Visualization\n",
    "The RAPIDS viz group's overall goal is to build open source libraries and collaborate with other open source projects. We hope to foster a greater adoption of GPUs in the python visualization ecosystem and beyond. Its not just for the sake of making things faster - we feel that when data scientist and analysts are able to interact with larger datasets in real time and in high fidelity, they will be able to ask better questions more often, and get more accurate answers to today's complex problems.\n",
    "\n",
    "## GPU Acceleration\n",
    "Generally RAPIDS works to accelerate visualization through faster compute - that is computing aggregations, filters, algorithms etc. quickly enough to be directly interacted with through a visualization. GPUs can also speed up visualizaiton through faster data rendering (of which people more often associate GPUs). The architecture required to do one or both of these through web browsers can be complex, but is useful to understand when building advanced visualizations. Feel free to ask for details and future plans in our [Community Slack Channel (GOAI)](https://join.slack.com/t/rapids-goai/shared_invite/zt-h54mq1uv-KHeHDVCYs8xvZO5AB~ctTQ).\n",
    "\n",
    "\n",
    "## RAPIDS Supported Viz Frameworks\n",
    "The below frameworks currently support RAPIDS - primarily through direclty using cuDF as a data source: \n",
    "\n",
    "- **[Holoviews](https://holoviews.org/)**: wrapper framework for easily visualizing data. \n",
    "- **[cuxfilter](https://github.com/rapidsai/cuxfilter)**: RAPIDS library for easily cross-filtering data. \n",
    "- **[Plotly Dash](https://plotly.com/dash/gpu-dask-acceleration/)**: production ready visualization app framework.\n",
    "- **[Datashader](https://datashader.org/)**: high fidelity server side data rendering framework.\n",
    "\n",
    "The RAPIDS visualization team is continually working to integrate with other open source projces - if you wish to help reach out on our [Community Slack Channel (GOAI)](https://join.slack.com/t/rapids-goai/shared_invite/zt-h54mq1uv-KHeHDVCYs8xvZO5AB~ctTQ). "
   ]
  },
  {
   "cell_type": "markdown",
   "metadata": {},
   "source": [
    "# Hardware and Software Requirements\n",
    "To run RAPIDS you will need to meet these general requirements:\n",
    "- NVIDIA Pascal™ or better GPU\n",
    "- Ubuntu 16.04+ or CentOS 7 OS (Windows support pending)\n",
    "- Recent CUDA & NVIDIA Drivers\n",
    "- Docker and/or Anaconda\n",
    "\n",
    "For the most up to date requirments and installation details see the [RAPIDS Getting Started Page](https://rapids.ai/start.html)."
   ]
  },
  {
   "cell_type": "markdown",
   "metadata": {},
   "source": [
    "# Index of Notebooks\n",
    "\n",
    "- 00 **Index**: you are here.\n",
    "- 01 **Data inspection and validation**: dataset procurment as well as inspection with holoviews.\n",
    "- 02 **Exploratory data visualization**: exploring preliminary patterns through crossfiltering with cuxfilter.\n",
    "- 03 **Data analysis with visual analytics**: applying visual analytics with cuSpatial, cuGraph, holoviews and datashader. \n",
    "- 04 **Explanatory data visualization]**: presenting findings through a visualization application with Plotly Dash."
   ]
  }
 ],
 "metadata": {
  "kernelspec": {
   "display_name": "Python 3",
   "language": "python",
   "name": "python3"
  },
  "language_info": {
   "codemirror_mode": {
    "name": "ipython",
    "version": 3
   },
   "file_extension": ".py",
   "mimetype": "text/x-python",
   "name": "python",
   "nbconvert_exporter": "python",
   "pygments_lexer": "ipython3",
   "version": "3.8.5"
  }
 },
 "nbformat": 4,
 "nbformat_minor": 4
}
