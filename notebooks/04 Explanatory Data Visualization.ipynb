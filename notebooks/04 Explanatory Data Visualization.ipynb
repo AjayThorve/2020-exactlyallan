{
 "cells": [
  {
   "cell_type": "markdown",
   "metadata": {},
   "source": [
    "# Explanatory Data Visualization\n",
    "**Presentation Visualizations and Dashboards**\n",
    "\n",
    "Note: goal is to show ease of itegrating RAPIDS and GPUS into production dashboard presentations"
   ]
  },
  {
   "cell_type": "markdown",
   "metadata": {},
   "source": [
    "## Overview and Requirements\n",
    "Super short version of intro notebook and restate requirments"
   ]
  },
  {
   "cell_type": "markdown",
   "metadata": {},
   "source": [
    "## Import"
   ]
  },
  {
   "cell_type": "code",
   "execution_count": null,
   "metadata": {},
   "outputs": [],
   "source": [
    "import cudf\n",
    "import plotly.graph_objects as go\n",
    "import plotly.express as px\n",
    "from jupyter_dash import JupyterDash\n",
    "import dash_core_components as dcc\n",
    "import dash_html_components as html\n",
    "from dash.dependencies import Input, Output\n",
    "import pandas as pd\n",
    "import cugraph\n",
    "import cuxfilter\n",
    "from pathlib import Path\n",
    "\n",
    "DATA_DIR = Path(\"../data\")\n",
    "FILENAME = Path(\"modified_trips.parquet\")"
   ]
  },
  {
   "cell_type": "code",
   "execution_count": null,
   "metadata": {},
   "outputs": [],
   "source": [
    "trips = cudf.read_parquet(DATA_DIR / FILENAME)"
   ]
  },
  {
   "cell_type": "code",
   "execution_count": null,
   "metadata": {},
   "outputs": [],
   "source": [
    "trips['time_of_day'] = 0 #day\n",
    "trips.loc[trips.query('hour>19 or hour<8').index, 'time_of_day'] = 1 #night"
   ]
  },
  {
   "cell_type": "code",
   "execution_count": null,
   "metadata": {},
   "outputs": [],
   "source": [
    "# create a day_type string map\n",
    "day_type_map = {0:'weekday', 1:'weekend', '':'all'}\n",
    "time_of_day_map = {0:'day(8am-8pm)', 1:'night(8pm-8am)', '':'all'}"
   ]
  },
  {
   "cell_type": "markdown",
   "metadata": {},
   "source": [
    "## Summary of interesting analytics findings\n",
    "\n",
    "\n",
    "### Mock Sketch\n",
    "\n",
    "<img src=\"../images/notebook_04_dashboard_sketch.jpg\" />"
   ]
  },
  {
   "cell_type": "markdown",
   "metadata": {},
   "source": [
    "### CuXfilter Mockup"
   ]
  },
  {
   "cell_type": "code",
   "execution_count": null,
   "metadata": {},
   "outputs": [],
   "source": [
    "cux_df = cuxfilter.DataFrame.from_dataframe(trips)"
   ]
  },
  {
   "cell_type": "code",
   "execution_count": null,
   "metadata": {},
   "outputs": [],
   "source": [
    "charts = [\n",
    "    cuxfilter.charts.scatter(x='x', y='y', tile_provider='CARTODBPOSITRON',\n",
    "                           point_size=3, pixel_shade_type='linear', pixel_spread='spread',\n",
    "                          title='All Trips'),\n",
    "    cuxfilter.charts.bar('all_time_week', title='Rides per week'),\n",
    "    cuxfilter.charts.multi_select('day_type', label_map=day_type_map),\n",
    "    cuxfilter.charts.multi_select('hour'),\n",
    "]\n",
    "\n",
    "d = cux_df.dashboard(charts, layout=cuxfilter.layouts.feature_and_base, theme=cuxfilter.themes.rapids)"
   ]
  },
  {
   "cell_type": "markdown",
   "metadata": {},
   "source": [
    "<img src=\"../images/notebook_04_dashboard_1.png\" />"
   ]
  },
  {
   "cell_type": "markdown",
   "metadata": {},
   "source": [
    "### Plotly Dashboard with Real-time Page Rank Compute"
   ]
  },
  {
   "cell_type": "code",
   "execution_count": null,
   "metadata": {},
   "outputs": [],
   "source": [
    "stations = cudf.read_csv(DATA_DIR / \"stations.csv\")\n",
    "\n",
    "station_names = trips[['from_station_id', 'from_station_name']].drop_duplicates()\n",
    "station_names.columns = ['station_id', 'station_name']\n",
    "\n",
    "total_trips = (trips.groupby('from_station_id').size() + trips.groupby('to_station_id').size()).reset_index()\n",
    "total_trips.columns = ['station_id', 'total_trips']\n",
    "stations = stations.merge(total_trips, on='station_id')\n",
    "stations = stations.merge(station_names, on='station_id')"
   ]
  },
  {
   "cell_type": "code",
   "execution_count": null,
   "metadata": {},
   "outputs": [],
   "source": [
    "stations.head()"
   ]
  },
  {
   "cell_type": "markdown",
   "metadata": {},
   "source": [
    "#### Function to compute page rank real time"
   ]
  },
  {
   "cell_type": "code",
   "execution_count": null,
   "metadata": {},
   "outputs": [],
   "source": [
    "def calculate_page_rank(data):\n",
    "    G = cugraph.Graph()\n",
    "    G.from_cudf_edgelist(data, source='from_station_id', destination='to_station_id')\n",
    "    data_page = cugraph.pagerank(G)\n",
    "    return data_page.merge(stations, left_on='vertex', right_on='station_id').drop(columns=['vertex'])"
   ]
  },
  {
   "cell_type": "markdown",
   "metadata": {},
   "source": [
    "#### Function to generate plots for the dashboard using plotly express"
   ]
  },
  {
   "cell_type": "code",
   "execution_count": null,
   "metadata": {},
   "outputs": [],
   "source": [
    "def get_pagerank_plot(data):\n",
    "    df = calculate_page_rank(data).to_pandas()\n",
    "    g = px.scatter_mapbox(df, lat=\"lat\", lon=\"lon\", color=\"pagerank\", size=\"total_trips\",\n",
    "                             hover_data=[\"station_name\"], mapbox_style=\"carto-positron\",\n",
    "                  color_continuous_scale=px.colors.cyclical.Edge_r, size_max=15, zoom=10)\n",
    "    g.layout['uirevision'] = True\n",
    "    return g\n",
    "\n",
    "def get_week_bar_chart(data):\n",
    "    all_time_week_df = data.groupby('all_time_week').size().reset_index()\n",
    "    all_time_week_df.columns = ['week', 'trips']\n",
    "    g = px.bar(all_time_week_df.to_pandas(), x=\"week\", y='trips', template=dict(layout={'selectdirection': 'h',}))\n",
    "    g.layout['dragmode']='select'\n",
    "    g.layout['uirevision'] = True\n",
    "    return g"
   ]
  },
  {
   "cell_type": "markdown",
   "metadata": {},
   "source": [
    "#### Describe the app layout and interaction callbacks"
   ]
  },
  {
   "cell_type": "code",
   "execution_count": null,
   "metadata": {},
   "outputs": [],
   "source": [
    "external_stylesheets = ['https://raw.githubusercontent.com/plotly/dash-sample-apps/master/apps/dash-oil-and-gas/assets/s1.css']\n",
    "\n",
    "app = JupyterDash(__name__, external_stylesheets=external_stylesheets)\n",
    "\n",
    "app.layout = html.Div([\n",
    "    html.Div([\n",
    "       html.H1([\"Plotly Dashboard - Chicago Bike Trips (2013-2017)\"]) \n",
    "    ]),\n",
    "    html.Div([\n",
    "        html.H3([\"Total Number of Trips\"]),\n",
    "        dcc.Loading(\n",
    "            dcc.Graph(\n",
    "                id='number',\n",
    "                figure= go.Figure(go.Indicator(\n",
    "                    mode=\"number\",\n",
    "                    value=trips.shape[0]\n",
    "                )),\n",
    "                style={'margin-bottom': '50px', 'height': '250px'},\n",
    "            ),\n",
    "            color= '#b0bec5',\n",
    "        ),\n",
    "        html.H3([\"Day of Week\"]),\n",
    "        dcc.Dropdown(\n",
    "            id='day', clearable=False,\n",
    "            value='', options=[\n",
    "                {'label': day_type_map[c], 'value': c}\n",
    "                for c in day_type_map\n",
    "        ]),\n",
    "        html.H3([\"Time of Day\"]),\n",
    "        dcc.Dropdown(\n",
    "            id='time', clearable=False,\n",
    "            value='', options=[\n",
    "                {'label': time_of_day_map[c], 'value': c}\n",
    "                for c in time_of_day_map\n",
    "        ])\n",
    "    ], style={'width': '25%','height': '100%', 'display': 'inline-block', 'borderBottom': 'thin lightgrey solid',\n",
    "        'backgroundColor': 'rgb(250, 250, 250)',\n",
    "        'padding': '10px 5px', 'float': 'left'}),\n",
    "    html.Div([\n",
    "        html.H3([\"Page Rank on Stations(size-total trips)\"]),\n",
    "            dcc.Graph(id='pagerank_plot', ),\n",
    "    ], style={'width': '70%', 'height':'50%', 'display': 'inline-block', 'float': 'right'}),\n",
    "    html.Div([\n",
    "        html.H3([\"Trips per week(all time)\",]),\n",
    "        dcc.Graph(id='all_time_week_bar',),\n",
    "    ], style={'width': '70%', 'height':'40%', 'display': 'inline-block','float': 'right'}),\n",
    "], style=dict(color= 'rgb(67 86 114)'))"
   ]
  },
  {
   "cell_type": "code",
   "execution_count": null,
   "metadata": {},
   "outputs": [],
   "source": [
    "def bar_selection_to_query(selection, column):\n",
    "    \"\"\"\n",
    "    Compute pandas query expression string for selection callback data\n",
    "    Args:\n",
    "        selection: selectedData dictionary from Dash callback on a bar trace\n",
    "        column: Name of the column that the selected bar chart is based on\n",
    "    Returns:\n",
    "        String containing a query expression compatible with DataFrame.query. This\n",
    "        expression will filter the input DataFrame to contain only those rows that\n",
    "        are contained in the selection.\n",
    "    \"\"\"\n",
    "    point_inds = [p['label'] for p in selection['points']]\n",
    "    xmin = min(point_inds)  # bin_edges[min(point_inds)]\n",
    "    xmax = max(point_inds) + 1  # bin_edges[max(point_inds) + 1]\n",
    "    xmin_op = \"<=\"\n",
    "    xmax_op = \"<=\"\n",
    "    return f\"{xmin} {xmin_op} {column} and {column} {xmax_op} {xmax}\"\n",
    "\n",
    "# Define callback to update graph\n",
    "@app.callback(\n",
    "    [\n",
    "        Output('pagerank_plot', 'figure'),\n",
    "        Output('all_time_week_bar', 'figure'),\n",
    "        Output('number', 'figure')\n",
    "    ],\n",
    "    [\n",
    "        Input(\"day\", \"value\"), Input(\"time\", \"value\"),\n",
    "        Input(\"all_time_week_bar\", \"selectedData\")\n",
    "    ]\n",
    ")\n",
    "def update_figure(day, time, selected_weeks):\n",
    "    query = ['day_type == '+str(day) if day != \"\" else \"\", 'time_of_day =='+str(time) if time != \"\" else \"\"]\n",
    "    query_str = ' and '.join([x for x in query if x != \"\"])\n",
    "    \n",
    "    data = trips\n",
    "    if len(query_str) > 0:\n",
    "        data = trips.query(query_str)\n",
    "\n",
    "    week_bar_chart = get_week_bar_chart(data)\n",
    "    \n",
    "    if selected_weeks is not None:\n",
    "        query.append(bar_selection_to_query(selected_weeks, 'all_time_week'))\n",
    "        query_str = ' and '.join([x for x in query if x != \"\"])\n",
    "        if len(query) > 0:\n",
    "            data = trips.query(query_str)\n",
    "    \n",
    "    pagerank_plot = get_pagerank_plot(data)\n",
    "    \n",
    "    number = go.Figure(go.Indicator(\n",
    "                mode=\"number\",\n",
    "                value=data.shape[0]\n",
    "            ))\n",
    "\n",
    "    return pagerank_plot, week_bar_chart, number\n"
   ]
  },
  {
   "cell_type": "markdown",
   "metadata": {},
   "source": [
    "### Run the plotly dash app within jupyter environment using jupyter_dash"
   ]
  },
  {
   "cell_type": "code",
   "execution_count": null,
   "metadata": {},
   "outputs": [],
   "source": [
    "#if in a jupyterlab, you can run app.run_server(mode=\"jupyterlab\")\n",
    "#for a seperate browser tab, run app.run_server()\n",
    "app.run_server(mode=\"inline\")"
   ]
  },
  {
   "cell_type": "code",
   "execution_count": null,
   "metadata": {},
   "outputs": [],
   "source": []
  }
 ],
 "metadata": {
  "kernelspec": {
   "display_name": "Python 3",
   "language": "python",
   "name": "python3"
  },
  "language_info": {
   "codemirror_mode": {
    "name": "ipython",
    "version": 3
   },
   "file_extension": ".py",
   "mimetype": "text/x-python",
   "name": "python",
   "nbconvert_exporter": "python",
   "pygments_lexer": "ipython3",
   "version": "3.8.5"
  }
 },
 "nbformat": 4,
 "nbformat_minor": 4
}
