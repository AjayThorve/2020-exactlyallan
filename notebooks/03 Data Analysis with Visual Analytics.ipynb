{
 "cells": [
  {
   "cell_type": "markdown",
   "metadata": {},
   "source": [
    "# Data Analysis with Visual Analytics\n",
    "\n",
    "***Combining analytics with visualization***\n"
   ]
  },
  {
   "cell_type": "markdown",
   "metadata": {},
   "source": [
    "## Overview\n",
    "\n",
    "In this notebook we will continue to explore the Divvy bikes dataset using, cuDF, cuGraph, and cuSpatial to see how these analysis results can easily feed directly into visualization tools like hvplot and Datashader.\n",
    "\n",
    "### cuDF, cuGraph, cuSpatial, hvplot, and Datashader\n",
    "- [cuDF](https://docs.rapids.ai/api/cudf/stable/), is a GPU DataFrame library for manipulating data with a pandas-like API.\n",
    "\n",
    "- [cuGraph](https://docs.rapids.ai/api/cugraph/stable/) is a RAPIDS library for GPU accelerated graph library with functionality like NetworkX.\n",
    "\n",
    "- [cuSpatial](https://docs.rapids.ai/api/cuspatial/stable/) is a collection of GPU accelerated algorithms for computing geo-spatial measures.\n",
    "\n",
    "- [hvplot](https://hvplot.holoviz.org/) is a high-level plotting API for the PyData ecosystem built on [HoloViews](http://holoviews.org/).\n",
    "\n",
    "- [Datashader](https://datashader.org/) is a library for high fidelity server side data rendering."
   ]
  },
  {
   "cell_type": "markdown",
   "metadata": {},
   "source": [
    "## Imports\n",
    "\n",
    "In addition to the libraries mentioned above, we will also make use of libraries [cupy](https://docs.cupy.dev/en/stable/), [NumPy](https://numpy.org/), and [Pandas](https://pandas.pydata.org/) directly."
   ]
  },
  {
   "cell_type": "code",
   "execution_count": 27,
   "metadata": {},
   "outputs": [],
   "source": [
    "import cudf\n",
    "import cugraph\n",
    "import cupy\n",
    "import cuspatial\n",
    "\n",
    "import numpy as np\n",
    "import pandas as pd\n",
    "\n",
    "import datashader as ds\n",
    "import datashader.transfer_functions as tf\n",
    "\n",
    "import hvplot.cudf\n",
    "import hvplot.pandas\n",
    "\n",
    "from pathlib import Path\n"
   ]
  },
  {
   "cell_type": "markdown",
   "metadata": {},
   "source": [
    "## Loading Data into cuDF\n",
    "\n",
    "First let's load the data. In addition to the main Divvy `data.csv` file, we will also load the small `stations.csv` file that we prepared in the first notebook. "
   ]
  },
  {
   "cell_type": "code",
   "execution_count": 28,
   "metadata": {},
   "outputs": [],
   "source": [
    "DATA_DIR = Path(\"../data\")"
   ]
  },
  {
   "cell_type": "code",
   "execution_count": 29,
   "metadata": {},
   "outputs": [],
   "source": [
    "# Note: remember to reparse into datetimes\n",
    "df = cudf.read_csv(DATA_DIR / \"data.csv\", parse_dates=('starttime', 'stoptime'))"
   ]
  },
  {
   "cell_type": "code",
   "execution_count": 30,
   "metadata": {},
   "outputs": [],
   "source": [
    "stations = pd.read_csv(DATA_DIR / \"stations.csv\")"
   ]
  },
  {
   "cell_type": "markdown",
   "metadata": {},
   "source": [
    "We will want to continue our investigation into weekday vs weekend patterns, so let's first add a column for that:"
   ]
  },
  {
   "cell_type": "code",
   "execution_count": 31,
   "metadata": {},
   "outputs": [],
   "source": [
    "df[\"weekday\"] = df['starttime'].dt.weekday"
   ]
  },
  {
   "cell_type": "markdown",
   "metadata": {},
   "source": [
    "## Trying Analysis with CuSpatial \n",
    "\n",
    "Let's take a look at some spatial measures and see if there are any interesting features.\n",
    "\n",
    "We might start with the first station, and see what the max trip length from it is:"
   ]
  },
  {
   "cell_type": "code",
   "execution_count": 32,
   "metadata": {},
   "outputs": [],
   "source": [
    "r0 = df.iloc[0]\n",
    "station_id, origin_lon, origin_lat = r0[\"from_station_id\"], r0[\"longitude_start\"], r0[\"latitude_start\"]"
   ]
  },
  {
   "cell_type": "markdown",
   "metadata": {},
   "source": [
    "The cuSpatial function `lonlat_to_cartesian` will let us quickly compute the x/y distances for every ending trip location (in Kilometers):"
   ]
  },
  {
   "cell_type": "code",
   "execution_count": 33,
   "metadata": {},
   "outputs": [],
   "source": [
    "sub_df = df[df[\"from_station_id\"]==station_id[0]]\n",
    "dist = cuspatial.lonlat_to_cartesian(origin_lon[0], origin_lat[0], sub_df[\"longitude_end\"], sub_df[\"latitude_end\"])"
   ]
  },
  {
   "cell_type": "markdown",
   "metadata": {},
   "source": [
    "CuPy functions can compute derived values on these GPU dataframes:"
   ]
  },
  {
   "cell_type": "code",
   "execution_count": 34,
   "metadata": {},
   "outputs": [
    {
     "data": {
      "text/plain": [
       "array(11.37479459)"
      ]
     },
     "execution_count": 34,
     "metadata": {},
     "output_type": "execute_result"
    }
   ],
   "source": [
    "# good o' pythagorean theorem\n",
    "cupy.sqrt(cupy.max(dist.x**2 + dist.y**2))"
   ]
  },
  {
   "cell_type": "markdown",
   "metadata": {},
   "source": [
    "What if we want to compute all trip distances? We can compute the distances using every station as a starting point:"
   ]
  },
  {
   "cell_type": "code",
   "execution_count": 35,
   "metadata": {},
   "outputs": [],
   "source": [
    "def trip_dists(df):\n",
    "    results = []\n",
    "\n",
    "    for idx, row in stations.iterrows():\n",
    "        station_id, origin_lon, origin_lat = int(row[\"station_id\"]), row[\"lon\"], row[\"lat\"]\n",
    "        sub_df = df[df[\"from_station_id\"]==station_id]\n",
    "        res = cuspatial.lonlat_to_cartesian(origin_lon, origin_lat, sub_df[\"longitude_end\"], sub_df[\"latitude_end\"])\n",
    "        res[\"dist\"] = cupy.sqrt(res.x**2 + res.y**2)\n",
    "        results.append(res)\n",
    "        \n",
    "    return cudf.concat(results)"
   ]
  },
  {
   "cell_type": "code",
   "execution_count": 36,
   "metadata": {},
   "outputs": [],
   "source": [
    "all_from_dists = trip_dists(df)"
   ]
  },
  {
   "cell_type": "markdown",
   "metadata": {},
   "source": [
    "## hvplot of Trip Distances\n",
    "Now that we have all the distances in a dataframe, we can use hvplot to create a plot:"
   ]
  },
  {
   "cell_type": "code",
   "execution_count": 37,
   "metadata": {
    "scrolled": true
   },
   "outputs": [
    {
     "data": {},
     "metadata": {},
     "output_type": "display_data"
    },
    {
     "data": {
      "application/vnd.holoviews_exec.v0+json": "",
      "text/html": [
       "<div id='1409'>\n",
       "\n",
       "\n",
       "\n",
       "\n",
       "\n",
       "  <div class=\"bk-root\" id=\"bd73880a-4626-4647-9237-62854661d032\" data-root-id=\"1409\"></div>\n",
       "</div>\n",
       "<script type=\"application/javascript\">(function(root) {\n",
       "  function embed_document(root) {\n",
       "  var docs_json = {\"0873ab13-1b96-419e-b149-11a9318db786\":{\"roots\":{\"references\":[{\"attributes\":{},\"id\":\"1431\",\"type\":\"SaveTool\"},{\"attributes\":{},\"id\":\"1424\",\"type\":\"BasicTicker\"},{\"attributes\":{\"source\":{\"id\":\"1444\"}},\"id\":\"1451\",\"type\":\"CDSView\"},{\"attributes\":{\"end\":0.4401228218999735,\"reset_end\":0.4401228218999735,\"reset_start\":0.0,\"tags\":[[[\"dist_frequency\",\"Frequency\",null]]]},\"id\":\"1412\",\"type\":\"Range1d\"},{\"attributes\":{\"axis_label\":\"dist\",\"bounds\":\"auto\",\"formatter\":{\"id\":\"1452\"},\"major_label_orientation\":\"horizontal\",\"ticker\":{\"id\":\"1424\"}},\"id\":\"1423\",\"type\":\"LinearAxis\"},{\"attributes\":{\"align\":null,\"below\":[{\"id\":\"1423\"}],\"center\":[{\"id\":\"1426\"},{\"id\":\"1430\"}],\"left\":[{\"id\":\"1427\"}],\"margin\":null,\"min_border_bottom\":10,\"min_border_left\":10,\"min_border_right\":10,\"min_border_top\":10,\"plot_height\":300,\"plot_width\":700,\"renderers\":[{\"id\":\"1450\"}],\"sizing_mode\":\"fixed\",\"title\":{\"id\":\"1415\"},\"toolbar\":{\"id\":\"1437\"},\"x_range\":{\"id\":\"1411\"},\"x_scale\":{\"id\":\"1419\"},\"y_range\":{\"id\":\"1412\"},\"y_scale\":{\"id\":\"1421\"}},\"id\":\"1414\",\"subtype\":\"Figure\",\"type\":\"Plot\"},{\"attributes\":{\"data\":{\"dist\":{\"__ndarray__\":\"rdeGVARd3D/CIWU/w0X1P8xG1LQiugFAuPz1yWPRCECishffpOgPQEe0HPryfxNAPI+thJMLF0Ayaj4PNJcaQChFz5nUIh5ADxAwkjrXIECKfXjXCp0iQATrwBzbYiRAgFgJYqsoJkD6xVGne+4nQHQzmuxLtClA8KDiMRx6K0BqDit37D8tQOZ7c7y8BS9AsPTdgMZlMEBuK4KjrkgxQA==\",\"dtype\":\"float64\",\"order\":\"little\",\"shape\":[20]},\"dist_frequency\":{\"__ndarray__\":\"SLiK78Wb0D9Yds4CbpvZPxKS1FKRkso/LVQtq7xyvT9MKBPtMiixP8qV4ZEk/aQ/x/up3hlqlj8JME93FLCDP7gghYuffm4/WAkWr+rlVz9UlGNcVwNFP9MDtS6WuDQ/6OZZjRaBJj8Vq6LtFeMYP64i9pMkD/Q+zR4qDAfR8T65HRwRjTHhPkAwQO+L6Ks+BB9gPuzwsT42NwA2MuWPPg==\",\"dtype\":\"float64\",\"order\":\"little\",\"shape\":[20]},\"left\":{\"__ndarray__\":\"AAAAAAAAAACt14ZUBF3sP63XhlQEXfw/wiFlP8NFBUCt14ZUBF0MQMxG1LQiuhFAwiFlP8NFFUC3/PXJY9EYQK3XhlQEXRxAo7IX36ToH0DMRtS0IrohQEe0HPryfyNAwiFlP8NFJUA9j62EkwsnQLf89clj0ShAMmo+DzSXKkCt14ZUBF0sQChFz5nUIi5Ao7IX36ToL0APEDCSOtcwQA==\",\"dtype\":\"float64\",\"order\":\"little\",\"shape\":[20]},\"right\":{\"__ndarray__\":\"rdeGVARd7D+t14ZUBF38P8IhZT/DRQVArdeGVARdDEDMRtS0IroRQMIhZT/DRRVAt/z1yWPRGECt14ZUBF0cQKOyF9+k6B9AzEbUtCK6IUBHtBz68n8jQMIhZT/DRSVAPY+thJMLJ0C3/PXJY9EoQDJqPg80lypArdeGVARdLEAoRc+Z1CIuQKOyF9+k6C9ADxAwkjrXMEDMRtS0IroxQA==\",\"dtype\":\"float64\",\"order\":\"little\",\"shape\":[20]},\"top\":{\"__ndarray__\":\"SLiK78Wb0D9Yds4CbpvZPxKS1FKRkso/LVQtq7xyvT9MKBPtMiixP8qV4ZEk/aQ/x/up3hlqlj8JME93FLCDP7gghYuffm4/WAkWr+rlVz9UlGNcVwNFP9MDtS6WuDQ/6OZZjRaBJj8Vq6LtFeMYP64i9pMkD/Q+zR4qDAfR8T65HRwRjTHhPkAwQO+L6Ks+BB9gPuzwsT42NwA2MuWPPg==\",\"dtype\":\"float64\",\"order\":\"little\",\"shape\":[20]}},\"selected\":{\"id\":\"1445\"},\"selection_policy\":{\"id\":\"1461\"}},\"id\":\"1444\",\"type\":\"ColumnDataSource\"},{\"attributes\":{\"bottom\":{\"value\":0},\"fill_color\":{\"value\":\"#1f77b3\"},\"left\":{\"field\":\"left\"},\"right\":{\"field\":\"right\"},\"top\":{\"field\":\"top\"}},\"id\":\"1447\",\"type\":\"Quad\"},{\"attributes\":{},\"id\":\"1452\",\"type\":\"BasicTickFormatter\"},{\"attributes\":{},\"id\":\"1419\",\"type\":\"LinearScale\"},{\"attributes\":{},\"id\":\"1428\",\"type\":\"BasicTicker\"},{\"attributes\":{},\"id\":\"1454\",\"type\":\"BasicTickFormatter\"},{\"attributes\":{},\"id\":\"1445\",\"type\":\"Selection\"},{\"attributes\":{\"children\":[{\"id\":\"1410\"},{\"id\":\"1414\"},{\"id\":\"1472\"}],\"margin\":[0,0,0,0],\"name\":\"Row02368\",\"tags\":[\"embedded\"]},\"id\":\"1409\",\"type\":\"Row\"},{\"attributes\":{\"margin\":[5,5,5,5],\"name\":\"HSpacer02373\",\"sizing_mode\":\"stretch_width\"},\"id\":\"1472\",\"type\":\"Spacer\"},{\"attributes\":{\"bottom_units\":\"screen\",\"fill_alpha\":0.5,\"fill_color\":\"lightgrey\",\"left_units\":\"screen\",\"level\":\"overlay\",\"line_alpha\":1.0,\"line_color\":\"black\",\"line_dash\":[4,4],\"line_width\":2,\"right_units\":\"screen\",\"top_units\":\"screen\"},\"id\":\"1436\",\"type\":\"BoxAnnotation\"},{\"attributes\":{\"text\":\"\",\"text_color\":{\"value\":\"black\"},\"text_font_size\":{\"value\":\"12pt\"}},\"id\":\"1415\",\"type\":\"Title\"},{\"attributes\":{\"active_drag\":\"auto\",\"active_inspect\":\"auto\",\"active_multi\":null,\"active_scroll\":\"auto\",\"active_tap\":\"auto\",\"tools\":[{\"id\":\"1413\"},{\"id\":\"1431\"},{\"id\":\"1432\"},{\"id\":\"1433\"},{\"id\":\"1434\"},{\"id\":\"1435\"}]},\"id\":\"1437\",\"type\":\"Toolbar\"},{\"attributes\":{\"overlay\":{\"id\":\"1436\"}},\"id\":\"1434\",\"type\":\"BoxZoomTool\"},{\"attributes\":{\"callback\":null,\"renderers\":[{\"id\":\"1450\"}],\"tags\":[\"hv_created\"],\"tooltips\":[[\"dist\",\"@{dist}\"],[\"Frequency\",\"@{dist_frequency}\"]]},\"id\":\"1413\",\"type\":\"HoverTool\"},{\"attributes\":{\"bottom\":{\"value\":0},\"fill_alpha\":{\"value\":0.1},\"fill_color\":{\"value\":\"#1f77b3\"},\"left\":{\"field\":\"left\"},\"line_alpha\":{\"value\":0.1},\"right\":{\"field\":\"right\"},\"top\":{\"field\":\"top\"}},\"id\":\"1448\",\"type\":\"Quad\"},{\"attributes\":{\"margin\":[5,5,5,5],\"name\":\"HSpacer02372\",\"sizing_mode\":\"stretch_width\"},\"id\":\"1410\",\"type\":\"Spacer\"},{\"attributes\":{\"bottom\":{\"value\":0},\"fill_alpha\":{\"value\":0.2},\"fill_color\":{\"value\":\"#1f77b3\"},\"left\":{\"field\":\"left\"},\"line_alpha\":{\"value\":0.2},\"right\":{\"field\":\"right\"},\"top\":{\"field\":\"top\"}},\"id\":\"1449\",\"type\":\"Quad\"},{\"attributes\":{},\"id\":\"1435\",\"type\":\"ResetTool\"},{\"attributes\":{},\"id\":\"1461\",\"type\":\"UnionRenderers\"},{\"attributes\":{\"axis\":{\"id\":\"1427\"},\"dimension\":1,\"grid_line_color\":null,\"ticker\":null},\"id\":\"1430\",\"type\":\"Grid\"},{\"attributes\":{\"data_source\":{\"id\":\"1444\"},\"glyph\":{\"id\":\"1447\"},\"hover_glyph\":null,\"muted_glyph\":{\"id\":\"1449\"},\"nonselection_glyph\":{\"id\":\"1448\"},\"selection_glyph\":null,\"view\":{\"id\":\"1451\"}},\"id\":\"1450\",\"type\":\"GlyphRenderer\"},{\"attributes\":{},\"id\":\"1421\",\"type\":\"LinearScale\"},{\"attributes\":{\"end\":18.486824594678186,\"reset_end\":18.486824594678186,\"reset_start\":-0.7597325175895144,\"start\":-0.7597325175895144,\"tags\":[[[\"dist\",\"dist\",null]]]},\"id\":\"1411\",\"type\":\"Range1d\"},{\"attributes\":{\"axis\":{\"id\":\"1423\"},\"grid_line_color\":null,\"ticker\":null},\"id\":\"1426\",\"type\":\"Grid\"},{\"attributes\":{},\"id\":\"1433\",\"type\":\"WheelZoomTool\"},{\"attributes\":{\"axis_label\":\"\",\"bounds\":\"auto\",\"formatter\":{\"id\":\"1454\"},\"major_label_orientation\":\"horizontal\",\"ticker\":{\"id\":\"1428\"}},\"id\":\"1427\",\"type\":\"LinearAxis\"},{\"attributes\":{},\"id\":\"1432\",\"type\":\"PanTool\"}],\"root_ids\":[\"1409\"]},\"title\":\"Bokeh Application\",\"version\":\"2.2.1\"}};\n",
       "  var render_items = [{\"docid\":\"0873ab13-1b96-419e-b149-11a9318db786\",\"root_ids\":[\"1409\"],\"roots\":{\"1409\":\"bd73880a-4626-4647-9237-62854661d032\"}}];\n",
       "  root.Bokeh.embed.embed_items_notebook(docs_json, render_items);\n",
       "  }\n",
       "if (root.Bokeh !== undefined) {\n",
       "    embed_document(root);\n",
       "  } else {\n",
       "    var attempts = 0;\n",
       "    var timer = setInterval(function(root) {\n",
       "      if (root.Bokeh !== undefined) {\n",
       "        clearInterval(timer);\n",
       "        embed_document(root);\n",
       "      } else if (document.readyState == \"complete\") {\n",
       "        attempts++;\n",
       "        if (attempts > 100) {\n",
       "          clearInterval(timer);\n",
       "          console.log(\"Bokeh: ERROR: Unable to run BokehJS code because BokehJS library is missing\");\n",
       "        }\n",
       "      }\n",
       "    }, 10, root)\n",
       "  }\n",
       "})(window);</script>"
      ],
      "text/plain": [
       ":Histogram   [dist]   (dist_frequency)"
      ]
     },
     "execution_count": 37,
     "metadata": {
      "application/vnd.holoviews_exec.v0+json": {
       "id": "1409"
      }
     },
     "output_type": "execute_result"
    }
   ],
   "source": [
    "# bin size is chosen after some trial and error\n",
    "all_from_dists.hvplot.hist(y=\"dist\", normed=True, bins=20)"
   ]
  },
  {
   "cell_type": "markdown",
   "metadata": {},
   "source": [
    "Clearly most trips are fairly short -usually under 2Km. This makes sense when we remember most trip durations are also less than 15min. \n",
    "\n",
    "It might also be interesting follow up and break the distribution of trips down weekday vs weekend:"
   ]
  },
  {
   "cell_type": "code",
   "execution_count": 38,
   "metadata": {},
   "outputs": [],
   "source": [
    "weekend_trips = df[df[\"weekday\"].isin([5, 6])] # weekend days = 5, 6 \n",
    "weekday_trips = df[df[\"weekday\"].isin(list(range(5)))]  # weekday days = 0-4"
   ]
  },
  {
   "cell_type": "code",
   "execution_count": 39,
   "metadata": {},
   "outputs": [],
   "source": [
    "# calculate distances from the previous function\n",
    "weekend_dists = trip_dists(weekend_trips)\n",
    "weekday_dists = trip_dists(weekday_trips)"
   ]
  },
  {
   "cell_type": "code",
   "execution_count": 40,
   "metadata": {},
   "outputs": [
    {
     "data": {
      "text/html": [
       "<div>\n",
       "<style scoped>\n",
       "    .dataframe tbody tr th:only-of-type {\n",
       "        vertical-align: middle;\n",
       "    }\n",
       "\n",
       "    .dataframe tbody tr th {\n",
       "        vertical-align: top;\n",
       "    }\n",
       "\n",
       "    .dataframe thead th {\n",
       "        text-align: right;\n",
       "    }\n",
       "</style>\n",
       "<table border=\"1\" class=\"dataframe\">\n",
       "  <thead>\n",
       "    <tr style=\"text-align: right;\">\n",
       "      <th></th>\n",
       "      <th>x</th>\n",
       "      <th>y</th>\n",
       "      <th>dist</th>\n",
       "    </tr>\n",
       "  </thead>\n",
       "  <tbody>\n",
       "    <tr>\n",
       "      <th>0</th>\n",
       "      <td>1.430482</td>\n",
       "      <td>-1.504416</td>\n",
       "      <td>2.075945</td>\n",
       "    </tr>\n",
       "    <tr>\n",
       "      <th>1</th>\n",
       "      <td>-0.287137</td>\n",
       "      <td>-2.174111</td>\n",
       "      <td>2.192990</td>\n",
       "    </tr>\n",
       "    <tr>\n",
       "      <th>2</th>\n",
       "      <td>-0.030118</td>\n",
       "      <td>0.914889</td>\n",
       "      <td>0.915385</td>\n",
       "    </tr>\n",
       "    <tr>\n",
       "      <th>3</th>\n",
       "      <td>0.132174</td>\n",
       "      <td>-0.797706</td>\n",
       "      <td>0.808582</td>\n",
       "    </tr>\n",
       "    <tr>\n",
       "      <th>4</th>\n",
       "      <td>-0.378072</td>\n",
       "      <td>-1.381667</td>\n",
       "      <td>1.432460</td>\n",
       "    </tr>\n",
       "  </tbody>\n",
       "</table>\n",
       "</div>"
      ],
      "text/plain": [
       "          x         y      dist\n",
       "0  1.430482 -1.504416  2.075945\n",
       "1 -0.287137 -2.174111  2.192990\n",
       "2 -0.030118  0.914889  0.915385\n",
       "3  0.132174 -0.797706  0.808582\n",
       "4 -0.378072 -1.381667  1.432460"
      ]
     },
     "execution_count": 40,
     "metadata": {},
     "output_type": "execute_result"
    }
   ],
   "source": [
    "all_combined_dists =  cudf.concat([weekday_dists, weekend_dists])\n",
    "all_combined_dists.head()"
   ]
  },
  {
   "cell_type": "markdown",
   "metadata": {},
   "source": [
    "## hvPlot of Weekend vs Weekday Trip Distance\n",
    "Plotting these two distributions together we can see the weekday (orange) trips peak more at shorter distances and the weekend distributions (blue) has more, longer trips:"
   ]
  },
  {
   "cell_type": "code",
   "execution_count": 41,
   "metadata": {
    "scrolled": true
   },
   "outputs": [
    {
     "data": {},
     "metadata": {},
     "output_type": "display_data"
    },
    {
     "data": {
      "application/vnd.holoviews_exec.v0+json": "",
      "text/html": [
       "<div id='1514'>\n",
       "\n",
       "\n",
       "\n",
       "\n",
       "\n",
       "  <div class=\"bk-root\" id=\"625652d3-8350-49cc-9ede-95b4fd26730a\" data-root-id=\"1514\"></div>\n",
       "</div>\n",
       "<script type=\"application/javascript\">(function(root) {\n",
       "  function embed_document(root) {\n",
       "  var docs_json = {\"ca471347-83d8-4736-b85b-ef2004ed9b11\":{\"roots\":{\"references\":[{\"attributes\":{\"axis_label\":\"dist\",\"bounds\":\"auto\",\"formatter\":{\"id\":\"1550\"},\"major_label_orientation\":\"horizontal\",\"ticker\":{\"id\":\"1530\"}},\"id\":\"1529\",\"type\":\"LinearAxis\"},{\"attributes\":{\"active_drag\":\"auto\",\"active_inspect\":\"auto\",\"active_multi\":null,\"active_scroll\":\"auto\",\"active_tap\":\"auto\",\"tools\":[{\"id\":\"1518\"},{\"id\":\"1537\"},{\"id\":\"1538\"},{\"id\":\"1539\"},{\"id\":\"1540\"},{\"id\":\"1541\"}]},\"id\":\"1543\",\"type\":\"Toolbar\"},{\"attributes\":{},\"id\":\"1552\",\"type\":\"BasicTickFormatter\"},{\"attributes\":{},\"id\":\"1539\",\"type\":\"WheelZoomTool\"},{\"attributes\":{},\"id\":\"1577\",\"type\":\"UnionRenderers\"},{\"attributes\":{\"margin\":[5,5,5,5],\"name\":\"HSpacer02629\",\"sizing_mode\":\"stretch_width\"},\"id\":\"1515\",\"type\":\"Spacer\"},{\"attributes\":{},\"id\":\"1575\",\"type\":\"UnionRenderers\"},{\"attributes\":{},\"id\":\"1527\",\"type\":\"LinearScale\"},{\"attributes\":{\"axis\":{\"id\":\"1533\"},\"dimension\":1,\"grid_line_color\":null,\"ticker\":null},\"id\":\"1536\",\"type\":\"Grid\"},{\"attributes\":{},\"id\":\"1530\",\"type\":\"BasicTicker\"},{\"attributes\":{\"end\":0.49915207829539376,\"reset_end\":0.49915207829539376,\"reset_start\":0.0,\"tags\":[[[\"dist_frequency\",\"Frequency\",null]]]},\"id\":\"1517\",\"type\":\"Range1d\"},{\"attributes\":{},\"id\":\"1534\",\"type\":\"BasicTicker\"},{\"attributes\":{},\"id\":\"1537\",\"type\":\"SaveTool\"},{\"attributes\":{\"children\":[{\"id\":\"1515\"},{\"id\":\"1520\"},{\"id\":\"1660\"}],\"margin\":[0,0,0,0],\"name\":\"Row02625\",\"tags\":[\"embedded\"]},\"id\":\"1514\",\"type\":\"Row\"},{\"attributes\":{\"data\":{\"dist\":{\"__ndarray__\":\"AAAAAAAA0D8AAAAAAADoPwAAAAAAAPQ/AAAAAAAA/D8AAAAAAAACQAAAAAAAAAZAAAAAAAAACkAAAAAAAAAOQAAAAAAAABFAAAAAAAAAE0AAAAAAAAAVQAAAAAAAABdAAAAAAAAAGUAAAAAAAAAbQAAAAAAAAB1AAAAAAAAAH0AAAAAAAIAgQAAAAAAAgCFAAAAAAACAIkAAAAAAAIAjQA==\",\"dtype\":\"float64\",\"order\":\"little\",\"shape\":[20]},\"dist_frequency\":{\"__ndarray__\":\"cgm5A+snwT/o/wBjUiraP+iXt28vGdk/jI46zDqO0j/D88b0SDnLP8chLgEF18Q/fPVvDsAmvj+zcbGP3IK2P7aNlCq7BrE/qyt3yKVypj+DgiYafA6gP5YCymKP0JM/ihKnwuWuiD8qFsjjHEiCP/37o8QVgHQ/Y6CFIyj+Zj89Dr1kriZePxsT1gbLJk8/DK4mQzwURz8SZZzEQ6s/Pw==\",\"dtype\":\"float64\",\"order\":\"little\",\"shape\":[20]},\"left\":{\"__ndarray__\":\"AAAAAAAAAAAAAAAAAADgPwAAAAAAAPA/AAAAAAAA+D8AAAAAAAAAQAAAAAAAAARAAAAAAAAACEAAAAAAAAAMQAAAAAAAABBAAAAAAAAAEkAAAAAAAAAUQAAAAAAAABZAAAAAAAAAGEAAAAAAAAAaQAAAAAAAABxAAAAAAAAAHkAAAAAAAAAgQAAAAAAAACFAAAAAAAAAIkAAAAAAAAAjQA==\",\"dtype\":\"float64\",\"order\":\"little\",\"shape\":[20]},\"right\":{\"__ndarray__\":\"AAAAAAAA4D8AAAAAAADwPwAAAAAAAPg/AAAAAAAAAEAAAAAAAAAEQAAAAAAAAAhAAAAAAAAADEAAAAAAAAAQQAAAAAAAABJAAAAAAAAAFEAAAAAAAAAWQAAAAAAAABhAAAAAAAAAGkAAAAAAAAAcQAAAAAAAAB5AAAAAAAAAIEAAAAAAAAAhQAAAAAAAACJAAAAAAAAAI0AAAAAAAAAkQA==\",\"dtype\":\"float64\",\"order\":\"little\",\"shape\":[20]},\"top\":{\"__ndarray__\":\"cgm5A+snwT/o/wBjUiraP+iXt28vGdk/jI46zDqO0j/D88b0SDnLP8chLgEF18Q/fPVvDsAmvj+zcbGP3IK2P7aNlCq7BrE/qyt3yKVypj+DgiYafA6gP5YCymKP0JM/ihKnwuWuiD8qFsjjHEiCP/37o8QVgHQ/Y6CFIyj+Zj89Dr1kriZePxsT1gbLJk8/DK4mQzwURz8SZZzEQ6s/Pw==\",\"dtype\":\"float64\",\"order\":\"little\",\"shape\":[20]}},\"selected\":{\"id\":\"1555\"},\"selection_policy\":{\"id\":\"1575\"}},\"id\":\"1554\",\"type\":\"ColumnDataSource\"},{\"attributes\":{\"bottom_units\":\"screen\",\"fill_alpha\":0.5,\"fill_color\":\"lightgrey\",\"left_units\":\"screen\",\"level\":\"overlay\",\"line_alpha\":1.0,\"line_color\":\"black\",\"line_dash\":[4,4],\"line_width\":2,\"right_units\":\"screen\",\"top_units\":\"screen\"},\"id\":\"1542\",\"type\":\"BoxAnnotation\"},{\"attributes\":{\"margin\":[5,5,5,5],\"name\":\"HSpacer02630\",\"sizing_mode\":\"stretch_width\"},\"id\":\"1660\",\"type\":\"Spacer\"},{\"attributes\":{\"bottom\":{\"value\":0},\"fill_alpha\":{\"value\":0.5},\"fill_color\":{\"value\":\"blue\"},\"left\":{\"field\":\"left\"},\"line_alpha\":{\"value\":0.5},\"right\":{\"field\":\"right\"},\"top\":{\"field\":\"top\"}},\"id\":\"1557\",\"type\":\"Quad\"},{\"attributes\":{\"bottom\":{\"value\":0},\"fill_alpha\":{\"value\":0.2},\"fill_color\":{\"value\":\"orange\"},\"left\":{\"field\":\"left\"},\"line_alpha\":{\"value\":0.2},\"right\":{\"field\":\"right\"},\"top\":{\"field\":\"top\"}},\"id\":\"1567\",\"type\":\"Quad\"},{\"attributes\":{},\"id\":\"1525\",\"type\":\"LinearScale\"},{\"attributes\":{},\"id\":\"1550\",\"type\":\"BasicTickFormatter\"},{\"attributes\":{\"align\":null,\"below\":[{\"id\":\"1529\"}],\"center\":[{\"id\":\"1532\"},{\"id\":\"1536\"}],\"left\":[{\"id\":\"1533\"}],\"margin\":null,\"min_border_bottom\":10,\"min_border_left\":10,\"min_border_right\":10,\"min_border_top\":10,\"plot_height\":300,\"plot_width\":700,\"renderers\":[{\"id\":\"1560\"},{\"id\":\"1568\"}],\"sizing_mode\":\"fixed\",\"title\":{\"id\":\"1521\"},\"toolbar\":{\"id\":\"1543\"},\"x_range\":{\"id\":\"1516\"},\"x_scale\":{\"id\":\"1525\"},\"y_range\":{\"id\":\"1517\"},\"y_scale\":{\"id\":\"1527\"}},\"id\":\"1520\",\"subtype\":\"Figure\",\"type\":\"Plot\"},{\"attributes\":{\"end\":10.428571428571429,\"reset_end\":10.428571428571429,\"reset_start\":-0.4285714285714286,\"start\":-0.4285714285714286,\"tags\":[[[\"dist\",\"dist\",null]]]},\"id\":\"1516\",\"type\":\"Range1d\"},{\"attributes\":{\"bottom\":{\"value\":0},\"fill_alpha\":{\"value\":0.2},\"fill_color\":{\"value\":\"blue\"},\"left\":{\"field\":\"left\"},\"line_alpha\":{\"value\":0.2},\"right\":{\"field\":\"right\"},\"top\":{\"field\":\"top\"}},\"id\":\"1559\",\"type\":\"Quad\"},{\"attributes\":{\"data_source\":{\"id\":\"1562\"},\"glyph\":{\"id\":\"1565\"},\"hover_glyph\":null,\"muted_glyph\":{\"id\":\"1567\"},\"nonselection_glyph\":{\"id\":\"1566\"},\"selection_glyph\":null,\"view\":{\"id\":\"1569\"}},\"id\":\"1568\",\"type\":\"GlyphRenderer\"},{\"attributes\":{\"data\":{\"dist\":{\"__ndarray__\":\"AAAAAAAA0D8AAAAAAADoPwAAAAAAAPQ/AAAAAAAA/D8AAAAAAAACQAAAAAAAAAZAAAAAAAAACkAAAAAAAAAOQAAAAAAAABFAAAAAAAAAE0AAAAAAAAAVQAAAAAAAABdAAAAAAAAAGUAAAAAAAAAbQAAAAAAAAB1AAAAAAAAAH0AAAAAAAIAgQAAAAAAAgCFAAAAAAACAIkAAAAAAAIAjQA==\",\"dtype\":\"float64\",\"order\":\"little\",\"shape\":[20]},\"dist_frequency\":{\"__ndarray__\":\"YZX8EAgtvD8PiEBpWAvdP3aPsXtnMdw/GAnOPHsL0z/bRszUdprJPyGa1rlD8ME/Zb4kbbMsuD9lgPQOYn2yPz8mEQZAXq0/fih8V46rpj8MNEsanfmgP3iyH3PKvpY/AjVgd7aMiz8PkIPMfCSDPxvRk7tJ7XQ/GnHx4PpNZT/BGMAnmYpcP9BRLn3/1Eo/Lc6RDLx6RT9PjPf/vuM+Pw==\",\"dtype\":\"float64\",\"order\":\"little\",\"shape\":[20]},\"left\":{\"__ndarray__\":\"AAAAAAAAAAAAAAAAAADgPwAAAAAAAPA/AAAAAAAA+D8AAAAAAAAAQAAAAAAAAARAAAAAAAAACEAAAAAAAAAMQAAAAAAAABBAAAAAAAAAEkAAAAAAAAAUQAAAAAAAABZAAAAAAAAAGEAAAAAAAAAaQAAAAAAAABxAAAAAAAAAHkAAAAAAAAAgQAAAAAAAACFAAAAAAAAAIkAAAAAAAAAjQA==\",\"dtype\":\"float64\",\"order\":\"little\",\"shape\":[20]},\"right\":{\"__ndarray__\":\"AAAAAAAA4D8AAAAAAADwPwAAAAAAAPg/AAAAAAAAAEAAAAAAAAAEQAAAAAAAAAhAAAAAAAAADEAAAAAAAAAQQAAAAAAAABJAAAAAAAAAFEAAAAAAAAAWQAAAAAAAABhAAAAAAAAAGkAAAAAAAAAcQAAAAAAAAB5AAAAAAAAAIEAAAAAAAAAhQAAAAAAAACJAAAAAAAAAI0AAAAAAAAAkQA==\",\"dtype\":\"float64\",\"order\":\"little\",\"shape\":[20]},\"top\":{\"__ndarray__\":\"YZX8EAgtvD8PiEBpWAvdP3aPsXtnMdw/GAnOPHsL0z/bRszUdprJPyGa1rlD8ME/Zb4kbbMsuD9lgPQOYn2yPz8mEQZAXq0/fih8V46rpj8MNEsanfmgP3iyH3PKvpY/AjVgd7aMiz8PkIPMfCSDPxvRk7tJ7XQ/GnHx4PpNZT/BGMAnmYpcP9BRLn3/1Eo/Lc6RDLx6RT9PjPf/vuM+Pw==\",\"dtype\":\"float64\",\"order\":\"little\",\"shape\":[20]}},\"selected\":{\"id\":\"1563\"},\"selection_policy\":{\"id\":\"1577\"}},\"id\":\"1562\",\"type\":\"ColumnDataSource\"},{\"attributes\":{\"callback\":null,\"renderers\":[{\"id\":\"1560\"},{\"id\":\"1568\"}],\"tags\":[\"hv_created\"],\"tooltips\":[[\"dist\",\"@{dist}\"],[\"Frequency\",\"@{dist_frequency}\"]]},\"id\":\"1518\",\"type\":\"HoverTool\"},{\"attributes\":{\"bottom\":{\"value\":0},\"fill_alpha\":{\"value\":0.5},\"fill_color\":{\"value\":\"orange\"},\"left\":{\"field\":\"left\"},\"line_alpha\":{\"value\":0.5},\"right\":{\"field\":\"right\"},\"top\":{\"field\":\"top\"}},\"id\":\"1565\",\"type\":\"Quad\"},{\"attributes\":{\"text\":\"\",\"text_color\":{\"value\":\"black\"},\"text_font_size\":{\"value\":\"12pt\"}},\"id\":\"1521\",\"type\":\"Title\"},{\"attributes\":{\"overlay\":{\"id\":\"1542\"}},\"id\":\"1540\",\"type\":\"BoxZoomTool\"},{\"attributes\":{},\"id\":\"1563\",\"type\":\"Selection\"},{\"attributes\":{\"axis\":{\"id\":\"1529\"},\"grid_line_color\":null,\"ticker\":null},\"id\":\"1532\",\"type\":\"Grid\"},{\"attributes\":{\"source\":{\"id\":\"1554\"}},\"id\":\"1561\",\"type\":\"CDSView\"},{\"attributes\":{},\"id\":\"1541\",\"type\":\"ResetTool\"},{\"attributes\":{\"axis_label\":\"\",\"bounds\":\"auto\",\"formatter\":{\"id\":\"1552\"},\"major_label_orientation\":\"horizontal\",\"ticker\":{\"id\":\"1534\"}},\"id\":\"1533\",\"type\":\"LinearAxis\"},{\"attributes\":{\"source\":{\"id\":\"1562\"}},\"id\":\"1569\",\"type\":\"CDSView\"},{\"attributes\":{\"data_source\":{\"id\":\"1554\"},\"glyph\":{\"id\":\"1557\"},\"hover_glyph\":null,\"muted_glyph\":{\"id\":\"1559\"},\"nonselection_glyph\":{\"id\":\"1558\"},\"selection_glyph\":null,\"view\":{\"id\":\"1561\"}},\"id\":\"1560\",\"type\":\"GlyphRenderer\"},{\"attributes\":{\"bottom\":{\"value\":0},\"fill_alpha\":{\"value\":0.5},\"fill_color\":{\"value\":\"blue\"},\"left\":{\"field\":\"left\"},\"line_alpha\":{\"value\":0.5},\"right\":{\"field\":\"right\"},\"top\":{\"field\":\"top\"}},\"id\":\"1558\",\"type\":\"Quad\"},{\"attributes\":{},\"id\":\"1538\",\"type\":\"PanTool\"},{\"attributes\":{},\"id\":\"1555\",\"type\":\"Selection\"},{\"attributes\":{\"bottom\":{\"value\":0},\"fill_alpha\":{\"value\":0.5},\"fill_color\":{\"value\":\"orange\"},\"left\":{\"field\":\"left\"},\"line_alpha\":{\"value\":0.5},\"right\":{\"field\":\"right\"},\"top\":{\"field\":\"top\"}},\"id\":\"1566\",\"type\":\"Quad\"}],\"root_ids\":[\"1514\"]},\"title\":\"Bokeh Application\",\"version\":\"2.2.1\"}};\n",
       "  var render_items = [{\"docid\":\"ca471347-83d8-4736-b85b-ef2004ed9b11\",\"root_ids\":[\"1514\"],\"roots\":{\"1514\":\"625652d3-8350-49cc-9ede-95b4fd26730a\"}}];\n",
       "  root.Bokeh.embed.embed_items_notebook(docs_json, render_items);\n",
       "  }\n",
       "if (root.Bokeh !== undefined) {\n",
       "    embed_document(root);\n",
       "  } else {\n",
       "    var attempts = 0;\n",
       "    var timer = setInterval(function(root) {\n",
       "      if (root.Bokeh !== undefined) {\n",
       "        clearInterval(timer);\n",
       "        embed_document(root);\n",
       "      } else if (document.readyState == \"complete\") {\n",
       "        attempts++;\n",
       "        if (attempts > 100) {\n",
       "          clearInterval(timer);\n",
       "          console.log(\"Bokeh: ERROR: Unable to run BokehJS code because BokehJS library is missing\");\n",
       "        }\n",
       "      }\n",
       "    }, 10, root)\n",
       "  }\n",
       "})(window);</script>"
      ],
      "text/plain": [
       ":Overlay\n",
       "   .Histogram.I  :Histogram   [dist]   (dist_frequency)\n",
       "   .Histogram.II :Histogram   [dist]   (dist_frequency)"
      ]
     },
     "execution_count": 41,
     "metadata": {
      "application/vnd.holoviews_exec.v0+json": {
       "id": "1514"
      }
     },
     "output_type": "execute_result"
    }
   ],
   "source": [
    "weekend_hist = weekend_dists.hvplot.hist(y=\"dist\", alpha=0.5, bin_range=(0, 10), normed=True, color=\"blue\")\n",
    "weekday_hist = weekday_dists.hvplot.hist(y=\"dist\", alpha=0.5, bin_range=(0, 10), normed=True, color=\"orange\")\n",
    "weekend_hist * weekday_hist"
   ]
  },
  {
   "cell_type": "markdown",
   "metadata": {},
   "source": [
    "While interesting to note, there doesn't appear to be any major revelations using a distance analysis approach. "
   ]
  },
  {
   "cell_type": "markdown",
   "metadata": {},
   "source": [
    "## Trying Analysis with cuDF\n",
    "\n",
    "Let's use CuDF direclty to group and aggregate our data to look for anyting intersting about the flow of trips in and out stations. \n",
    "\n",
    "We want to look at the daily net flow of trips at each station, i.e. how many more (or less) trips *started* at a station vs *ended* at a station in a given day.\n",
    "\n",
    "In order to group by day, we first take the \"floor\" of each timestamp divided by one day:"
   ]
  },
  {
   "cell_type": "code",
   "execution_count": 42,
   "metadata": {},
   "outputs": [],
   "source": [
    "one_day = np.datetime64(1, 'D').astype('datetime64[ns]').astype('int64') \n",
    "\n",
    "# out\n",
    "df['from_day'] = df['starttime'].astype('int64') // one_day\n",
    "\n",
    "# in\n",
    "df['to_day'] = df['stoptime'].astype('int64') // one_day"
   ]
  },
  {
   "cell_type": "markdown",
   "metadata": {},
   "source": [
    "Now we can group by the station id and hour for both the departing and arriving cases. We name the columns from the size DataFrame `out` and `in` respectively:"
   ]
  },
  {
   "cell_type": "code",
   "execution_count": 43,
   "metadata": {},
   "outputs": [],
   "source": [
    "df_out = df.groupby(by=[\"from_station_id\", \"from_day\"]).size().to_frame('out').reset_index()\n",
    "df_in = df.groupby(by=[\"to_station_id\", \"to_day\"]).size().to_frame('in').reset_index()"
   ]
  },
  {
   "cell_type": "markdown",
   "metadata": {},
   "source": [
    "Let's rename the columns to be the same in both DataFrames:"
   ]
  },
  {
   "cell_type": "code",
   "execution_count": 44,
   "metadata": {},
   "outputs": [],
   "source": [
    "df_out.rename(columns={\"from_station_id\": \"station_id\", \"from_day\": \"day\"}, inplace=True)\n",
    "df_in.rename(columns={\"to_station_id\": \"station_id\", \"to_day\": \"day\"}, inplace=True)"
   ]
  },
  {
   "cell_type": "markdown",
   "metadata": {},
   "source": [
    "And reset the index to be the (station id, hour) pair:"
   ]
  },
  {
   "cell_type": "code",
   "execution_count": 45,
   "metadata": {},
   "outputs": [],
   "source": [
    "df_out = df_out.set_index([\"station_id\", \"day\"])\n",
    "df_in = df_in.set_index([\"station_id\", \"day\"])"
   ]
  },
  {
   "cell_type": "markdown",
   "metadata": {},
   "source": [
    "Now we can join these two DataFrames to compute an `flow = out - in` column:"
   ]
  },
  {
   "cell_type": "code",
   "execution_count": 46,
   "metadata": {},
   "outputs": [],
   "source": [
    "full_df = df_in.join(df_out, how=\"outer\").fillna(0).reset_index()\n",
    "full_df[\"flow\"] = full_df[\"out\"] - full_df[\"in\"]"
   ]
  },
  {
   "cell_type": "markdown",
   "metadata": {},
   "source": [
    "Let's also convert our \"day\" values back to proper timestamps:"
   ]
  },
  {
   "cell_type": "code",
   "execution_count": 47,
   "metadata": {},
   "outputs": [],
   "source": [
    "full_df[\"time\"] = (full_df[\"day\"] * one_day).astype('datetime64[ns]')\n",
    "full_df = full_df[[\"station_id\", \"time\", \"flow\"]]"
   ]
  },
  {
   "cell_type": "markdown",
   "metadata": {},
   "source": [
    "Now we can take a glimpse at the resulting DataFrame which has the net `out-in` trip flow by station per day:\n",
    "- A `+` positive number means there was an excess of trips *starting out* of the station that day.\n",
    "- A `-` negative number means an excess of trips *ending in* the station that day."
   ]
  },
  {
   "cell_type": "code",
   "execution_count": 48,
   "metadata": {},
   "outputs": [
    {
     "data": {
      "text/html": [
       "<div>\n",
       "<style scoped>\n",
       "    .dataframe tbody tr th:only-of-type {\n",
       "        vertical-align: middle;\n",
       "    }\n",
       "\n",
       "    .dataframe tbody tr th {\n",
       "        vertical-align: top;\n",
       "    }\n",
       "\n",
       "    .dataframe thead th {\n",
       "        text-align: right;\n",
       "    }\n",
       "</style>\n",
       "<table border=\"1\" class=\"dataframe\">\n",
       "  <thead>\n",
       "    <tr style=\"text-align: right;\">\n",
       "      <th></th>\n",
       "      <th>station_id</th>\n",
       "      <th>time</th>\n",
       "      <th>flow</th>\n",
       "    </tr>\n",
       "  </thead>\n",
       "  <tbody>\n",
       "    <tr>\n",
       "      <th>0</th>\n",
       "      <td>2</td>\n",
       "      <td>2015-05-08</td>\n",
       "      <td>1</td>\n",
       "    </tr>\n",
       "    <tr>\n",
       "      <th>1</th>\n",
       "      <td>2</td>\n",
       "      <td>2015-05-20</td>\n",
       "      <td>1</td>\n",
       "    </tr>\n",
       "    <tr>\n",
       "      <th>2</th>\n",
       "      <td>2</td>\n",
       "      <td>2015-10-20</td>\n",
       "      <td>4</td>\n",
       "    </tr>\n",
       "    <tr>\n",
       "      <th>3</th>\n",
       "      <td>2</td>\n",
       "      <td>2015-10-23</td>\n",
       "      <td>1</td>\n",
       "    </tr>\n",
       "    <tr>\n",
       "      <th>4</th>\n",
       "      <td>2</td>\n",
       "      <td>2015-10-30</td>\n",
       "      <td>1</td>\n",
       "    </tr>\n",
       "  </tbody>\n",
       "</table>\n",
       "</div>"
      ],
      "text/plain": [
       "   station_id       time  flow\n",
       "0           2 2015-05-08     1\n",
       "1           2 2015-05-20     1\n",
       "2           2 2015-10-20     4\n",
       "3           2 2015-10-23     1\n",
       "4           2 2015-10-30     1"
      ]
     },
     "execution_count": 48,
     "metadata": {},
     "output_type": "execute_result"
    }
   ],
   "source": [
    "full_df.head()"
   ]
  },
  {
   "cell_type": "markdown",
   "metadata": {},
   "source": [
    "We might like to look at the maximal behaviour. What is a high number of excess arrivals or departures at a station? Let's pull out individual timeseries for each station id, and look a the max/min for each station:"
   ]
  },
  {
   "cell_type": "code",
   "execution_count": 51,
   "metadata": {},
   "outputs": [
    {
     "ename": "KeyError",
     "evalue": "'One or more values not found in axis'",
     "output_type": "error",
     "traceback": [
      "\u001b[0;31m---------------------------------------------------------------------------\u001b[0m",
      "\u001b[0;31mKeyError\u001b[0m                                  Traceback (most recent call last)",
      "\u001b[0;32m<ipython-input-51-a7e41b93eede>\u001b[0m in \u001b[0;36m<module>\u001b[0;34m\u001b[0m\n\u001b[1;32m      1\u001b[0m \u001b[0mflows\u001b[0m \u001b[0;34m=\u001b[0m \u001b[0;34m[\u001b[0m\u001b[0;34m]\u001b[0m\u001b[0;34m\u001b[0m\u001b[0;34m\u001b[0m\u001b[0m\n\u001b[1;32m      2\u001b[0m \u001b[0;32mfor\u001b[0m \u001b[0mi\u001b[0m \u001b[0;32min\u001b[0m \u001b[0mstations\u001b[0m\u001b[0;34m.\u001b[0m\u001b[0mstation_id\u001b[0m\u001b[0;34m:\u001b[0m\u001b[0;34m\u001b[0m\u001b[0;34m\u001b[0m\u001b[0m\n\u001b[0;32m----> 3\u001b[0;31m     \u001b[0msubdf\u001b[0m \u001b[0;34m=\u001b[0m \u001b[0mfull_df\u001b[0m\u001b[0;34m[\u001b[0m\u001b[0mfull_df\u001b[0m\u001b[0;34m.\u001b[0m\u001b[0mstation_id\u001b[0m\u001b[0;34m==\u001b[0m\u001b[0mi\u001b[0m\u001b[0;34m]\u001b[0m\u001b[0;34m.\u001b[0m\u001b[0mdrop\u001b[0m\u001b[0;34m(\u001b[0m\u001b[0;34m\"station_id\"\u001b[0m\u001b[0;34m)\u001b[0m\u001b[0;34m.\u001b[0m\u001b[0mset_index\u001b[0m\u001b[0;34m(\u001b[0m\u001b[0;34m\"time\"\u001b[0m\u001b[0;34m)\u001b[0m\u001b[0;34m\u001b[0m\u001b[0;34m\u001b[0m\u001b[0m\n\u001b[0m\u001b[1;32m      4\u001b[0m     \u001b[0mflows\u001b[0m\u001b[0;34m.\u001b[0m\u001b[0mappend\u001b[0m\u001b[0;34m(\u001b[0m\u001b[0;34m(\u001b[0m\u001b[0mi\u001b[0m\u001b[0;34m,\u001b[0m \u001b[0msubdf\u001b[0m\u001b[0;34m.\u001b[0m\u001b[0mflow\u001b[0m\u001b[0;34m.\u001b[0m\u001b[0mmax\u001b[0m\u001b[0;34m(\u001b[0m\u001b[0;34m)\u001b[0m\u001b[0;34m,\u001b[0m \u001b[0msubdf\u001b[0m\u001b[0;34m.\u001b[0m\u001b[0mflow\u001b[0m\u001b[0;34m.\u001b[0m\u001b[0mmin\u001b[0m\u001b[0;34m(\u001b[0m\u001b[0;34m)\u001b[0m\u001b[0;34m)\u001b[0m\u001b[0;34m)\u001b[0m\u001b[0;34m\u001b[0m\u001b[0;34m\u001b[0m\u001b[0m\n\u001b[1;32m      5\u001b[0m \u001b[0mflows\u001b[0m \u001b[0;34m=\u001b[0m \u001b[0mpd\u001b[0m\u001b[0;34m.\u001b[0m\u001b[0mDataFrame\u001b[0m\u001b[0;34m(\u001b[0m\u001b[0mflows\u001b[0m\u001b[0;34m,\u001b[0m \u001b[0mcolumns\u001b[0m\u001b[0;34m=\u001b[0m\u001b[0;34m[\u001b[0m\u001b[0;34m\"station_id\"\u001b[0m\u001b[0;34m,\u001b[0m \u001b[0;34m\"max_out\"\u001b[0m\u001b[0;34m,\u001b[0m \u001b[0;34m\"max_in\"\u001b[0m\u001b[0;34m]\u001b[0m\u001b[0;34m)\u001b[0m\u001b[0;34m\u001b[0m\u001b[0;34m\u001b[0m\u001b[0m\n",
      "\u001b[0;32m~/anaconda3/envs/rapids16a/lib/python3.8/site-packages/cudf/core/dataframe.py\u001b[0m in \u001b[0;36mdrop\u001b[0;34m(self, labels, axis, index, columns, level, inplace, errors)\u001b[0m\n\u001b[1;32m   3072\u001b[0m             \u001b[0;32melse\u001b[0m\u001b[0;34m:\u001b[0m\u001b[0;34m\u001b[0m\u001b[0;34m\u001b[0m\u001b[0m\n\u001b[1;32m   3073\u001b[0m                 \u001b[0;32mif\u001b[0m \u001b[0merrors\u001b[0m \u001b[0;34m==\u001b[0m \u001b[0;34m\"raise\"\u001b[0m \u001b[0;32mand\u001b[0m \u001b[0;32mnot\u001b[0m \u001b[0mtarget\u001b[0m\u001b[0;34m.\u001b[0m\u001b[0misin\u001b[0m\u001b[0;34m(\u001b[0m\u001b[0moutdf\u001b[0m\u001b[0;34m.\u001b[0m\u001b[0mindex\u001b[0m\u001b[0;34m)\u001b[0m\u001b[0;34m.\u001b[0m\u001b[0mall\u001b[0m\u001b[0;34m(\u001b[0m\u001b[0;34m)\u001b[0m\u001b[0;34m:\u001b[0m\u001b[0;34m\u001b[0m\u001b[0;34m\u001b[0m\u001b[0m\n\u001b[0;32m-> 3074\u001b[0;31m                     \u001b[0;32mraise\u001b[0m \u001b[0mKeyError\u001b[0m\u001b[0;34m(\u001b[0m\u001b[0;34m\"One or more values not found in axis\"\u001b[0m\u001b[0;34m)\u001b[0m\u001b[0;34m\u001b[0m\u001b[0;34m\u001b[0m\u001b[0m\n\u001b[0m\u001b[1;32m   3075\u001b[0m \u001b[0;34m\u001b[0m\u001b[0m\n\u001b[1;32m   3076\u001b[0m                 sliced_df = outdf.join(\n",
      "\u001b[0;31mKeyError\u001b[0m: 'One or more values not found in axis'"
     ]
    }
   ],
   "source": [
    "flows = []\n",
    "for i in stations.station_id:\n",
    "    subdf = full_df[full_df.station_id==i].drop(\"station_id\").set_index(\"time\")\n",
    "    flows.append((i, subdf.flow.max(), subdf.flow.min()))\n",
    "flows = pd.DataFrame(flows, columns=[\"station_id\", \"max_out\", \"max_in\"])"
   ]
  },
  {
   "cell_type": "code",
   "execution_count": 52,
   "metadata": {},
   "outputs": [
    {
     "data": {
      "text/plain": [
       "[]"
      ]
     },
     "execution_count": 52,
     "metadata": {},
     "output_type": "execute_result"
    }
   ],
   "source": [
    "flows"
   ]
  },
  {
   "cell_type": "markdown",
   "metadata": {},
   "source": [
    "With this information, we can see what stations had the largest ever excess departures (station 192) or arrivals (station 77):"
   ]
  },
  {
   "cell_type": "code",
   "execution_count": null,
   "metadata": {},
   "outputs": [],
   "source": [
    "flows.iloc[flows.max_out.argmax()]"
   ]
  },
  {
   "cell_type": "code",
   "execution_count": null,
   "metadata": {},
   "outputs": [],
   "source": [
    "flows.iloc[flows.max_in.argmin()]"
   ]
  },
  {
   "cell_type": "markdown",
   "metadata": {},
   "source": [
    "Knowing about excess arrivals vs departures is probably important for Divvy to be able to manually re-allocate bikes. We could ask what fraction of stations ever have a max of more than 30 excess trips:"
   ]
  },
  {
   "cell_type": "code",
   "execution_count": null,
   "metadata": {
    "scrolled": true
   },
   "outputs": [],
   "source": [
    "len(flows[flows.max_out > 30])"
   ]
  },
  {
   "cell_type": "code",
   "execution_count": null,
   "metadata": {},
   "outputs": [],
   "source": [
    "len(flows[flows.max_in < -30])"
   ]
  },
  {
   "cell_type": "markdown",
   "metadata": {},
   "source": [
    "While looking at individual stations or max/mins is useful to get preliminary ideas of patterns, it would be better to see it all at once. \n",
    "We would try to look at all of these trip flow series for each station at once, using Datashader. First we need to prepare a new Dataframe that has all the series as columns:"
   ]
  },
  {
   "cell_type": "code",
   "execution_count": 25,
   "metadata": {},
   "outputs": [],
   "source": [
    "series = []\n",
    "\n",
    "for i in stations.station_id:\n",
    "    s = full_df[full_df.station_id==i][[\"time\", \"flow\"]]\n",
    "    s.rename(columns={\"flow\": f\"s{i}\"}, inplace=True)\n",
    "    s = s.set_index(\"time\")\n",
    "    series.append(s)\n",
    "    \n",
    "df_wide = cudf.concat(series, axis=1).fillna(0)"
   ]
  },
  {
   "cell_type": "markdown",
   "metadata": {},
   "source": [
    "The resulting Dataframe has a daily time series for every column, one for each station:"
   ]
  },
  {
   "cell_type": "code",
   "execution_count": null,
   "metadata": {},
   "outputs": [],
   "source": [
    "df_wide"
   ]
  },
  {
   "cell_type": "markdown",
   "metadata": {},
   "source": [
    "## hvplot of Select Station Flows\n",
    "It's simple to pull out individual stations for comparison using `hvplot`:"
   ]
  },
  {
   "cell_type": "code",
   "execution_count": null,
   "metadata": {},
   "outputs": [],
   "source": [
    "df_wide.hvplot(y=[\"s77\",\"s81\",\"s192\",\"s195\",\"s268\",\"s287\"], alpha=0.4)\n"
   ]
  },
  {
   "cell_type": "markdown",
   "metadata": {},
   "source": [
    "The above plot shows some of the more interesting station patterns - which roughly match the overall seasonal flows. Station 195 appears perpetually over taxed, while something nearby station 77 seems to draw in a lot of bikes. Yet its hard to gleen a pattern without the connection between station's flows. \n",
    "\n",
    "Bonus points for anyone who knows what anomaly happened on 6/24/2014 (seriously, we're curious). \n"
   ]
  },
  {
   "cell_type": "markdown",
   "metadata": {},
   "source": [
    "### Try It Now\n",
    "See if you can plot all the stations in an hvplot (it is possible but takes a while to render): "
   ]
  },
  {
   "cell_type": "code",
   "execution_count": null,
   "metadata": {},
   "outputs": [],
   "source": [
    "# code here"
   ]
  },
  {
   "cell_type": "markdown",
   "metadata": {},
   "source": [
    "Lastly, lets take a look at the data with Datashader. First we make a funtion `series_shade` that can take a wide dataframe of timeseries like we have made above, and render *all* of the series at once using Datashader:"
   ]
  },
  {
   "cell_type": "code",
   "execution_count": null,
   "metadata": {},
   "outputs": [],
   "source": [
    "# Details here https://datashader.org/user_guide/index.html\n",
    "def series_shade(df):\n",
    "    cols = list(df.columns)\n",
    "    \n",
    "    itime = cudf.to_datetime(df.index).astype('int64')\n",
    "    x_range = (itime[0], itime[-1])\n",
    "    \n",
    "    y_range = (df.min().min(), df.max().max())\n",
    "    \n",
    "    temp = cudf.DataFrame(df)\n",
    "    temp[\"itime\"] = itime\n",
    "    \n",
    "    # the width is 4x365, leaving one pixel width per day\n",
    "    cvs = ds.Canvas(plot_height=400, plot_width=1460)\n",
    "    agg = cvs.line(temp, x=\"itime\", y=cols, agg=ds.count(), axis=1)\n",
    "    \n",
    "    print(f\"y range: ({y_range[0]}, {y_range[1]})\")\n",
    "    return tf.shade(agg, how='linear', cmap=[\"purple\",\"red\",\"white\"])"
   ]
  },
  {
   "cell_type": "markdown",
   "metadata": {},
   "source": [
    "## Datashader Line Plot of Total Daily Flows\n",
    "Now let's pass in-out daily net excess data to get a rough datashder plot:"
   ]
  },
  {
   "cell_type": "code",
   "execution_count": null,
   "metadata": {},
   "outputs": [],
   "source": [
    "\n",
    "series_shade(df_wide)"
   ]
  },
  {
   "cell_type": "markdown",
   "metadata": {},
   "source": [
    "It's not completely clear what we can see here, but it points to some ideas for future exploration. If you squint it does seem that there is an unbalanced flow out of stations vs into stations."
   ]
  },
  {
   "cell_type": "markdown",
   "metadata": {},
   "source": [
    "## Datashader Line Plot of Cumulative Daily Flows\n",
    "As a last experiment, let's make the same plot, but with *cumulative* excess trips:"
   ]
  },
  {
   "cell_type": "code",
   "execution_count": null,
   "metadata": {},
   "outputs": [],
   "source": [
    "df_cumulative = df_wide.cumsum()"
   ]
  },
  {
   "cell_type": "code",
   "execution_count": null,
   "metadata": {
    "scrolled": false
   },
   "outputs": [],
   "source": [
    "series_shade(df_cumulative)"
   ]
  },
  {
   "cell_type": "markdown",
   "metadata": {},
   "source": [
    "This view emphasizes the unbalanced flow and is a bit more interesting. It illustrates the notion that Divvy must be engaging in a lot of continual re-allocation of its bikes to offset these excess out bound trips and that the effort is growing in a roughly linear fashion.\n",
    "\n",
    "If we knew the marginal costs compared to ridership income, it could prove an interesting data point on when network expansion would become prohibitive. However, without that we need to look elsewhere for analysis. "
   ]
  },
  {
   "cell_type": "markdown",
   "metadata": {},
   "source": [
    "### Try It Now\n",
    "Datashader plots can be wrapped in hvplots, much like bokeh plots. Try wrapping the above examples in order to make them more interactive by using [Datashader's usage guide](https://datashader.org/user_guide/Timeseries.html):"
   ]
  },
  {
   "cell_type": "code",
   "execution_count": null,
   "metadata": {},
   "outputs": [],
   "source": [
    "# code here"
   ]
  },
  {
   "cell_type": "markdown",
   "metadata": {},
   "source": [
    "## Trying Analysis with cuGraph PageRank\n",
    "\n",
    "In our previous notebook we were able to find some interesting patterns by converting our dataframe into a graph. Here, we will try the `cugraph.pagerank` algorithm to see if it helps succinctly illustrate patterns for the \"most popular\" stations.\n",
    "\n",
    "First, let's see what it looks like to compute PageRank for a single hour of the day, e.g. 5PM, by subsetting the data:"
   ]
  },
  {
   "cell_type": "code",
   "execution_count": null,
   "metadata": {},
   "outputs": [],
   "source": [
    "d17 = df[df[\"hour\"]==17]"
   ]
  },
  {
   "cell_type": "markdown",
   "metadata": {},
   "source": [
    "Then groupby (from_station_id, to_station_id) and take the group size to get all the unique individual routes between stations that hour, and also the number of trips that took each of those routes:"
   ]
  },
  {
   "cell_type": "code",
   "execution_count": null,
   "metadata": {},
   "outputs": [],
   "source": [
    "g17 = df.groupby(by=[\"from_station_id\", \"to_station_id\"])\n",
    "routes17 = g17.size().reset_index()\n",
    "routes17.head()"
   ]
  },
  {
   "cell_type": "markdown",
   "metadata": {},
   "source": [
    "Now we can create a `cugraph.Graph` with the from and to station IDs:"
   ]
  },
  {
   "cell_type": "code",
   "execution_count": null,
   "metadata": {},
   "outputs": [],
   "source": [
    "G = cugraph.Graph()\n",
    "G.from_cudf_edgelist(d17, source='from_station_id', destination='to_station_id')\n",
    "d17_page = cugraph.pagerank(G)\n",
    "d17_page.head()"
   ]
  },
  {
   "cell_type": "markdown",
   "metadata": {},
   "source": [
    "PageRank values are relative, and as such do not matter as much as the ranking it produces for the network of trips. Let's see which stations rank as most important at 5PM (on any day):"
   ]
  },
  {
   "cell_type": "code",
   "execution_count": null,
   "metadata": {},
   "outputs": [],
   "source": [
    "d17_top = d17_page.nlargest(20, \"pagerank\").to_pandas()\n",
    "d17_top.head()"
   ]
  },
  {
   "cell_type": "markdown",
   "metadata": {},
   "source": [
    "## hvplot of 5pm Top PageRank Locations\n",
    "Plotting these stations we can see that at 5PM the most important stations are nearly all downtown, matching our previous notebook findings about a focused downtown core of total trips:"
   ]
  },
  {
   "cell_type": "code",
   "execution_count": null,
   "metadata": {},
   "outputs": [],
   "source": [
    "d17_page_locs = stations[stations.station_id.isin(d17_top.vertex)]\n",
    "d17_page_locs.hvplot.points(x='lon', y='lat', alpha=0.7, size=300, geo=True, tiles=\"OSM\").opts(width=600, height=600)"
   ]
  },
  {
   "cell_type": "markdown",
   "metadata": {},
   "source": [
    "Now that we know applying PageRank seems to produce useful results, let's look at how stations rank by weekdays vs weekends. To get proper rankings, we need to compute it for every individual day of the week:"
   ]
  },
  {
   "cell_type": "code",
   "execution_count": null,
   "metadata": {},
   "outputs": [],
   "source": [
    "results = {}\n",
    "for w in range(7):\n",
    "    dfw = df[df[\"weekday\"]==w]\n",
    "    G = cugraph.Graph()\n",
    "    G.from_cudf_edgelist(dfw, source='from_station_id', destination='to_station_id')\n",
    "    df_page = cugraph.pagerank(G).nlargest(20, \"pagerank\")\n",
    "    results[w] = set(df_page.to_pandas()[\"vertex\"])"
   ]
  },
  {
   "cell_type": "markdown",
   "metadata": {},
   "source": [
    "Let's find out what stations were continually highest ranked among all weekdays and weekend days:"
   ]
  },
  {
   "cell_type": "code",
   "execution_count": null,
   "metadata": {},
   "outputs": [],
   "source": [
    "weekday = set.intersection(*[results[i] for i in range(5)]) # days 0-4 are weekdays\n",
    "weekend = set.intersection(results[5], results[6])  # days 5-6 are the weekend"
   ]
  },
  {
   "cell_type": "markdown",
   "metadata": {},
   "source": [
    "Listing the stations that are ranked important on weekdays and ranked important on weekends, we find that there is little overlap:\n"
   ]
  },
  {
   "cell_type": "code",
   "execution_count": null,
   "metadata": {},
   "outputs": [],
   "source": [
    "weekend"
   ]
  },
  {
   "cell_type": "code",
   "execution_count": null,
   "metadata": {},
   "outputs": [],
   "source": [
    "weekday"
   ]
  },
  {
   "cell_type": "markdown",
   "metadata": {},
   "source": [
    "Finally, we can plot these quickly using hvplot again. Let's add a column to denote weekday / weekend so that we can group by that type:"
   ]
  },
  {
   "cell_type": "code",
   "execution_count": null,
   "metadata": {},
   "outputs": [],
   "source": [
    "r1 = stations[stations.station_id.isin(weekend)]\n",
    "r1 = r1.assign(type=\"Weekend\")\n",
    "\n",
    "r2 = stations[stations.station_id.isin(weekday)]\n",
    "r2 = r2.assign(type=\"Weekday\")\n",
    "\n",
    "result = pd.concat([r1, r2])"
   ]
  },
  {
   "cell_type": "markdown",
   "metadata": {},
   "source": [
    "## hvplot of Weekend / Weekday Top PageRank Locations\n",
    "Looking at the plot, nearly all the important weekday stations are downtown, and on the weekend the important stations are further out in popular districts around downtown:"
   ]
  },
  {
   "cell_type": "code",
   "execution_count": null,
   "metadata": {},
   "outputs": [],
   "source": [
    "result.hvplot.points(x='lon', y='lat', by='type', \n",
    "                     alpha=0.7, size=300, geo=True, tiles=\"OSM\").opts(width=700, height=600)"
   ]
  },
  {
   "cell_type": "markdown",
   "metadata": {},
   "source": [
    "The above map of top PageRanked stations for weekend / weekdays matches very well with the ForceAtlas2 clustered graph and time series cross-filtered visualizations of the previous notebook, but in a much more concise and presentable manner. This is the positive result we were hoping to find with our analysis."
   ]
  },
  {
   "cell_type": "markdown",
   "metadata": {},
   "source": [
    "## Summary of Analytics Findings \n",
    "When running analytics, its critical to have a solid understanding of the underlying data in order to make correct decisions. We tried several analytical approaches to see if we could glean some meaningful patterns. As is often the case, some worked better than others - but because we did extensive exploratory visualization we now have confidence that the weekend / weekday binned PageRank approach will produce accurate results when used for visualizations in our next notebook."
   ]
  },
  {
   "cell_type": "code",
   "execution_count": null,
   "metadata": {},
   "outputs": [],
   "source": []
  }
 ],
 "metadata": {
  "kernelspec": {
   "display_name": "Python 3",
   "language": "python",
   "name": "python3"
  },
  "language_info": {
   "codemirror_mode": {
    "name": "ipython",
    "version": 3
   },
   "file_extension": ".py",
   "mimetype": "text/x-python",
   "name": "python",
   "nbconvert_exporter": "python",
   "pygments_lexer": "ipython3",
   "version": "3.8.5"
  }
 },
 "nbformat": 4,
 "nbformat_minor": 4
}
